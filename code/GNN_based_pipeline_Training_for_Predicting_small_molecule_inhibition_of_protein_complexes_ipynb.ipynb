{
  "cells": [
    {
      "cell_type": "markdown",
      "metadata": {
        "id": "view-in-github",
        "colab_type": "text"
      },
      "source": [
        "<a href=\"https://colab.research.google.com/github/mezlet/PPI-Inhibitors/blob/main/code/GNN_based_pipeline_Training_for_Predicting_small_molecule_inhibition_of_protein_complexes_ipynb.ipynb\" target=\"_parent\"><img src=\"https://colab.research.google.com/assets/colab-badge.svg\" alt=\"Open In Colab\"/></a>"
      ]
    },
    {
      "cell_type": "markdown",
      "metadata": {
        "id": "T5zy8pv8_EQa"
      },
      "source": [
        "**Set the Runtime->Change Runtime Type to GPU**"
      ]
    },
    {
      "cell_type": "markdown",
      "metadata": {
        "id": "zLKfwNHlwnSE"
      },
      "source": [
        "# Protein 3d structure assessment with graph neural networks"
      ]
    },
    {
      "cell_type": "code",
      "source": [
        "!fusermount -u /content/drive\n",
        "!rm -rf /content/drive\n",
        "%cd /content\n"
      ],
      "metadata": {
        "id": "E-cGEcP1jsvj"
      },
      "execution_count": null,
      "outputs": []
    },
    {
      "cell_type": "code",
      "execution_count": null,
      "metadata": {
        "id": "R_3U6PueCCgv"
      },
      "outputs": [],
      "source": [
        "#!rm -r Data\n",
        "!rm -r PPI-Inhibitors\n",
        "!git clone https://github.com/adibayaseen/PPI-Inhibitors\n",
        "#!pip install py3Dmol"
      ]
    },
    {
      "cell_type": "code",
      "source": [
        "!pip install --upgrade pip setuptools wheel\n",
        "!pip install rdkit biopython==1.81 torch==2.2.2 torchvision==0.17.2 torchaudio==2.2.2 torch-geometric==2.5.3 tqdm==4.66.2 pandas==2.1.4 numpy==1.26.4 scikit-learn==1.3.2 matplotlib==3.8.3 seaborn==0.13.2 networkx==3.2.1 gdown\n"
      ],
      "metadata": {
        "id": "SOpJqASVkFMn"
      },
      "execution_count": null,
      "outputs": []
    },
    {
      "cell_type": "code",
      "source": [
        "%cd PPI-Inhibitors\n",
        "!mkdir -p Data\n",
        "\n",
        "%cd Data\n",
        "!wget -q https://github.com/adibayaseen/PPI-Inhibitors/raw/01ad4975fb9133825b1bf9e71b64fcdaaa5e4d8b/Data/2p2iComplexPairs.txt\n",
        "!wget -q https://github.com/adibayaseen/PPI-Inhibitors/raw/01ad4975fb9133825b1bf9e71b64fcdaaa5e4d8b/Data/2p2iInhibitorsSMILES.txt\n",
        "!wget -q https://github.com/adibayaseen/PPI-Inhibitors/raw/2d6bd03422602ec19147870c487e64018b52660f/Data/WriteAllexamplesRandomBindersIdsAll_24JAN_Binary.txt\n",
        "!wget -q https://github.com/adibayaseen/PPI-Inhibitors/raw/b1e45884f61f792399abad2e4492f48083ab1093/Data/BindersWithComplexname.csv\n",
        "%cd .."
      ],
      "metadata": {
        "id": "6dliB1TskGg9"
      },
      "execution_count": null,
      "outputs": []
    },
    {
      "cell_type": "code",
      "execution_count": null,
      "metadata": {
        "id": "6uOhzY0qAj-0"
      },
      "outputs": [],
      "source": [
        "from google.colab import drive\n",
        "drive.mount('/content/drive')"
      ]
    },
    {
      "cell_type": "code",
      "source": [
        "%cd '/content/drive/MyDrive'\n",
        "\n",
        "# Make folders\n",
        "!mkdir -p GNN-PPI-Inhibitor\n",
        "!gdown --id 1goeDiPZSKT1Xx3j00eNG9xlqYkLLv1gW -O GNN-PPI-Inhibitor/ProteinData_dict.pickle\n",
        "!gdown --id 1GOYEKLQCoGea9QQ72kujy0rdJKbUSYAE -O GNN-PPI-Inhibitor/DBD5_ProteinData_dict.pickle"
      ],
      "metadata": {
        "id": "VRBJi-5YkPqM"
      },
      "execution_count": null,
      "outputs": []
    },
    {
      "cell_type": "code",
      "execution_count": 36,
      "metadata": {
        "colab": {
          "base_uri": "https://localhost:8080/"
        },
        "id": "kjV5-TPeGt-0",
        "outputId": "11f1041b-c9a7-4ca8-f874-5996c3c0bf7f"
      },
      "outputs": [
        {
          "output_type": "stream",
          "name": "stdout",
          "text": [
            "Equivalent epochs in one iteration of data loader 1.12\n",
            "[[('3', '14', '51', '80', '97', '43', '56', '92', '7', '50'), ('-3', '-14', '-51', '-80', '-97', '-43', '-56', '-92', '-7', '-50')], tensor([0, 0, 0, 0, 0, 1, 1, 1, 1, 1])]\n",
            "[[('9', '11', '20', '35', '39', '92', '79', '7', '63', '43'), ('-9', '-11', '-20', '-35', '-39', '-92', '-79', '-7', '-63', '-43')], tensor([0, 0, 0, 0, 0, 1, 1, 1, 1, 1])]\n",
            "[[('4', '6', '19', '47', '58', '76', '10', '28', '92', '72'), ('-4', '-6', '-19', '-47', '-58', '-76', '-10', '-28', '-92', '-72')], tensor([0, 0, 0, 0, 0, 1, 1, 1, 1, 1])]\n",
            "[[('5', '18', '33', '34', '78', '43', '93', '67', '25', '92'), ('-5', '-18', '-33', '-34', '-78', '-43', '-93', '-67', '-25', '-92')], tensor([0, 0, 0, 0, 0, 1, 1, 1, 1, 1])]\n",
            "[[('2', '21', '37', '55', '83', '50', '36', '8', '85'), ('-2', '-21', '-37', '-55', '-83', '-50', '-36', '-8', '-85')], tensor([0, 0, 0, 0, 0, 1, 1, 1, 1])]\n",
            "[[('29', '52', '68', '95', '96', '24', '90', '50', '17'), ('-29', '-52', '-68', '-95', '-96', '-24', '-90', '-50', '-17')], tensor([0, 0, 0, 0, 0, 1, 1, 1, 1])]\n",
            "[[('16', '53', '65', '66', '75', '30', '43', '74', '85'), ('-16', '-53', '-65', '-66', '-75', '-30', '-43', '-74', '-85')], tensor([0, 0, 0, 0, 0, 1, 1, 1, 1])]\n",
            "[[('12', '32', '40', '42', '82', '49', '92', '67', '17'), ('-12', '-32', '-40', '-42', '-82', '-49', '-92', '-67', '-17')], tensor([0, 0, 0, 0, 0, 1, 1, 1, 1])]\n",
            "[[('1', '84', '94', '99', '43', '26', '61', '15', '87'), ('-1', '-84', '-94', '-99', '-43', '-26', '-61', '-15', '-87')], tensor([0, 0, 0, 0, 1, 1, 1, 1, 1])]\n",
            "[[('45', '64', '70', '71', '79', '26', '17', '74', '7'), ('-45', '-64', '-70', '-71', '-79', '-26', '-17', '-74', '-7')], tensor([0, 0, 0, 0, 1, 1, 1, 1, 1])]\n",
            "[[('23', '59', '77', '89', '86', '8', '69', '24', '92'), ('-23', '-59', '-77', '-89', '-86', '-8', '-69', '-24', '-92')], tensor([0, 0, 0, 0, 1, 1, 1, 1, 1])]\n",
            "[[('41', '54', '62', '91', '57', '13', '15', '73', '63'), ('-41', '-54', '-62', '-91', '-57', '-13', '-15', '-73', '-63')], tensor([0, 0, 0, 0, 1, 1, 1, 1, 1])]\n",
            "['24', '34', '5', '67', '18', '82', '22', '81', '97', '64', '30', '21', '39', '21', '27', '64', '28', '25', '85', '54', '17', '72', '10', '97', '14', '39', '40', '7', '39', '35', '80', '23', '85', '46', '50', '33', '92', '73', '6', '35', '5', '74', '90', '61', '81', '53', '74', '35', '74', '15', '81', '91', '65', '39', '4', '2', '73', '92', '58', '67', '68', '58', '34', '15', '49', '92', '32', '58', '67', '50', '68', '61', '76', '62', '42', '66', '65', '22', '52', '99', '81', '14', '48', '30', '2', '27', '55', '4', '85', '72', '79', '96', '73', '81', '2', '36', '48', '79', '19', '87']\n"
          ]
        }
      ],
      "source": [
        "#!/usr/bin/env python3\n",
        "# -*- coding: utf-8 -*-\n",
        "\"\"\"\n",
        "Created on Tue Jan  9 16:43:15 2024\n",
        "\n",
        "@author: u1876024\n",
        "\"\"\"\n",
        "\n",
        "\n",
        "import torch\n",
        "from torch.utils.data import Dataset, DataLoader, Sampler\n",
        "from torch.utils.data.sampler import WeightedRandomSampler\n",
        "import numpy as np\n",
        "\n",
        "class BalancedDataset(Dataset):\n",
        "    \"\"\"\n",
        "    A custom dataset class that creates a balanced dataset from imbalanced data.\n",
        "    This dataset calculates sample weights inversely proportional to class frequencies,\n",
        "    which can be used with a WeightedRandomSampler to achieve balanced batches.\n",
        "\n",
        "    NOTE: As it involves stochastic sampling, there is a chance that a few training examples are actually never selected.\n",
        "\n",
        "    Attributes:\n",
        "        data (array-like): The input data. Can be a list, NumPy array, or PyTorch tensor.\n",
        "        labels (array-like): The labels corresponding to the data. Should be a 1D array-like object.\n",
        "        sample_weights (torch.Tensor): Weights for each sample, inversely proportional to class frequencies.\n",
        "\n",
        "    Methods:\n",
        "        __len__: Returns the number of samples in the dataset.\n",
        "        __getitem__(idx): Returns the sample and its corresponding label at the given index.\n",
        "    \"\"\"\n",
        "    def __init__(self, data, labels):\n",
        "        self.data = data\n",
        "        self.labels = labels\n",
        "\n",
        "        # Count the number of examples in each class\n",
        "        class_counts = np.bincount(self.labels)\n",
        "        # Assign weight inversely proportional to class frequency\n",
        "        weights = 1. / torch.tensor(class_counts, dtype=torch.float)\n",
        "        # Create a weight list for each sample\n",
        "        self.sample_weights = weights[labels]\n",
        "\n",
        "    def __len__(self):\n",
        "        return len(self.data)\n",
        "\n",
        "    def __getitem__(self, idx):\n",
        "        return self.data[idx], self.labels[idx]\n",
        "\n",
        "def create_balanced_loader(data, labels, batch_size=32):\n",
        "    \"\"\"\n",
        "    Creates a DataLoader with balanced batches for a given dataset.\n",
        "    This function is useful for training models on imbalanced datasets.\n",
        "\n",
        "    Args:\n",
        "        data (array-like): The input data. Can be a list, NumPy array, or PyTorch tensor.\n",
        "        labels (array-like): The labels corresponding to the data. Should be a 1D array-like object.\n",
        "        batch_size (int, optional): The size of each batch. Default is 32.\n",
        "\n",
        "    Returns:\n",
        "        DataLoader: A PyTorch DataLoader that yields balanced batches.\n",
        "\n",
        "    Usage Example:\n",
        "        >>> data = [features1, features2, ...]  # Replace with your data features\n",
        "        >>> labels = [label1, label2, ...]     # Replace with your data labels\n",
        "        >>> balanced_loader = create_balanced_loader(data, labels, batch_size=32)\n",
        "        >>> for batch_data, batch_labels in balanced_loader:\n",
        "        >>>     # Train your model using the balanced batches\n",
        "    \"\"\"\n",
        "    dataset = BalancedDataset(data, labels)\n",
        "    # WeightedRandomSampler will take care of the balancing\n",
        "    sampler = WeightedRandomSampler(weights=dataset.sample_weights, num_samples=len(dataset.sample_weights), replacement=True)\n",
        "\n",
        "    loader = DataLoader(dataset, batch_size=batch_size, sampler=sampler)\n",
        "    return loader\n",
        "\n",
        "\n",
        "class BinaryBalancedSampler(Sampler):\n",
        "    \"\"\"\n",
        "    A PyTorch Sampler that returns batches with an equal number of positive and negative examples.\n",
        "    The sampler oversamples from the minority class to balance the majority class, ensuring that\n",
        "    each batch contains 50% positive and 50% negative examples.\n",
        "\n",
        "    NOTE: It leads to more examples in single iteration through the data loader than in one epoch\n",
        "\n",
        "    Attributes:\n",
        "        class_vector (list or numpy array): class labels.\n",
        "        batch_size (int): The size of each batch.\n",
        "        n_splits (int): The number of batches/splits in the dataset.\n",
        "        equivalent_epochs (float): The number of times the sampler goes over the minority class\n",
        "                                   in one complete iteration of the DataLoader.\n",
        "\n",
        "    Methods:\n",
        "        gen_sample_array: Yields indices for each batch ensuring class balance.\n",
        "        __iter__: Returns an iterator over batch indices.\n",
        "        __len__: Returns the number of batches in the sampler.\n",
        "    \"\"\"\n",
        "    def __init__(self, class_vector, batch_size = 10):\n",
        "        \"\"\"\n",
        "        Arguments\n",
        "        ---------\n",
        "        class_vector : torch tensor\n",
        "            a vector of class labels\n",
        "        \"\"\"\n",
        "        self.batch_size = batch_size\n",
        "        self.class_vector = class_vector\n",
        "        YY = np.array(self.class_vector)\n",
        "        U, C = np.unique(YY, return_counts=True)\n",
        "        M = U[np.argmax(C)]        #find majority class\n",
        "        Midx = np.nonzero(YY==M)[0] #indices of majority class\n",
        "        midx = np.nonzero(YY!=M)[0] #indices of minority class\n",
        "        midx_ = np.random.choice(midx,size=len(Midx))     #oversample minority indices so they are equal to majority ones\n",
        "        self.YY = np.array(list(YY[Midx])+list(YY[midx_]))\n",
        "        self.idx = np.array(list(Midx)+list(midx_))\n",
        "        self.n_splits = int(np.ceil(len(self.idx)/self.batch_size))\n",
        "        self.equivalent_epochs = len(self.idx)/len(self.class_vector)\n",
        "        print('Equivalent epochs in one iteration of data loader',self.equivalent_epochs)\n",
        "\n",
        "    def gen_sample_array(self):\n",
        "        from sklearn.model_selection import StratifiedKFold\n",
        "        skf = StratifiedKFold(n_splits= self.n_splits,shuffle=True)\n",
        "        for tridx,ttidx in skf.split(self.idx,self.YY):\n",
        "            yield np.array(self.idx[ttidx])\n",
        "\n",
        "    def __iter__(self):\n",
        "        return iter(self.gen_sample_array())\n",
        "\n",
        "    def __len__(self):\n",
        "        return self.n_splits\n",
        "\n",
        "class CustomDataset(Dataset):\n",
        "    def __init__(self, data, labels):\n",
        "        self.data = data\n",
        "        self.labels = labels\n",
        "\n",
        "    def __len__(self):\n",
        "        return len(self.data)\n",
        "\n",
        "    def __getitem__(self, idx):\n",
        "        return self.data[idx], self.labels[idx]\n",
        "\n",
        "if __name__=='__main__':\n",
        "\n",
        "    E = [(str(p_i), str(-1*c_i)) for p_i, c_i in zip(range(100), range(100))]  # Replace with your data\n",
        "    Y = np.random.randint(0, 2, size=100)  # Replace with your labels\n",
        "    batch_size = 10\n",
        "\n",
        "    dataset = CustomDataset(E, Y)\n",
        "    batch_sampler = BinaryBalancedSampler(Y, batch_size)\n",
        "    data_loader = DataLoader(dataset, batch_sampler=batch_sampler)\n",
        "\n",
        "    for batch in data_loader:\n",
        "        print(batch)\n",
        "\n",
        "    # Example usage of create_balanced_loader\n",
        "    balanced_loader = create_balanced_loader(E, Y, batch_size)\n",
        "\n",
        "    # Iterate over the DataLoader\n",
        "    L = []\n",
        "    for (pid,cid),label in balanced_loader:\n",
        "        # Process your batches\n",
        "        L.extend(pid)\n",
        "    print(L)\n"
      ]
    },
    {
      "cell_type": "code",
      "execution_count": 37,
      "metadata": {
        "colab": {
          "base_uri": "https://localhost:8080/",
          "height": 1000
        },
        "id": "hn0xj2yWfAYq",
        "outputId": "e9de09ad-0041-4b0a-f4ff-d547e04c0d4f"
      },
      "outputs": [
        {
          "metadata": {
            "tags": null
          },
          "name": "stdout",
          "output_type": "stream",
          "text": [
            "CUDA is available. Number of GPUs: 1\n",
            "GPU 0: Tesla T4\n"
          ]
        },
        {
          "metadata": {
            "tags": null
          },
          "name": "stderr",
          "output_type": "stream",
          "text": [
            "100%|██████████| 15695/15695 [00:00<00:00, 863214.50it/s]\n"
          ]
        },
        {
          "metadata": {
            "tags": null
          },
          "name": "stdout",
          "output_type": "stream",
          "text": [
            "Equivalent epochs in one iteration of data loader 1.8249820678348192\n",
            "test complex  2XA0\n"
          ]
        },
        {
          "metadata": {
            "tags": null
          },
          "name": "stderr",
          "output_type": "stream",
          "text": [
            "  0%|          | 0/5 [00:00<?, ?it/s]\n",
            "  0%|          | 0/18 [00:00<?, ?it/s]\u001b[A\n",
            "  6%|▌         | 1/18 [00:10<02:56, 10.38s/it]\u001b[A"
          ]
        },
        {
          "metadata": {
            "tags": null
          },
          "name": "stdout",
          "output_type": "stream",
          "text": [
            "LOADED BEST AUCROC 0.4511138613861386 AUCPR 0.003200520324837369\n",
            "AUCROC 0.4511138613861386 AUCPR 0.003200520324837369 best aucroc 0.4511138613861386\n"
          ]
        },
        {
          "metadata": {
            "tags": null
          },
          "name": "stderr",
          "output_type": "stream",
          "text": [
            "\n",
            " 11%|█         | 2/18 [00:18<02:28,  9.29s/it]\u001b[A"
          ]
        },
        {
          "metadata": {
            "tags": null
          },
          "name": "stdout",
          "output_type": "stream",
          "text": [
            "LOADED BEST AUCROC 0.4946369636963696 AUCPR 0.003545592027154804\n",
            "AUCROC 0.4946369636963696 AUCPR 0.003545592027154804 best aucroc 0.4946369636963696\n"
          ]
        },
        {
          "metadata": {
            "tags": null
          },
          "name": "stderr",
          "output_type": "stream",
          "text": [
            "\n",
            " 17%|█▋        | 3/18 [00:27<02:15,  9.00s/it]\u001b[A\n",
            " 22%|██▏       | 4/18 [00:37<02:10,  9.32s/it]\u001b[A\n",
            " 28%|██▊       | 5/18 [00:46<02:01,  9.37s/it]\u001b[A"
          ]
        },
        {
          "metadata": {
            "tags": null
          },
          "name": "stdout",
          "output_type": "stream",
          "text": [
            "LOADED BEST AUCROC 0.5228960396039604 AUCPR 0.017370387019267068\n",
            "AUCROC 0.5228960396039604 AUCPR 0.017370387019267068 best aucroc 0.5228960396039604\n"
          ]
        },
        {
          "metadata": {
            "tags": null
          },
          "name": "stderr",
          "output_type": "stream",
          "text": [
            "\n",
            " 33%|███▎      | 6/18 [00:56<01:51,  9.30s/it]\u001b[A"
          ]
        },
        {
          "metadata": {
            "tags": null
          },
          "name": "stdout",
          "output_type": "stream",
          "text": [
            "LOADED BEST AUCROC 0.5781765676567655 AUCPR 0.015795951746411286\n",
            "AUCROC 0.5781765676567655 AUCPR 0.015795951746411286 best aucroc 0.5781765676567655\n"
          ]
        },
        {
          "metadata": {
            "tags": null
          },
          "name": "stderr",
          "output_type": "stream",
          "text": [
            "\n",
            " 39%|███▉      | 7/18 [01:04<01:38,  8.99s/it]\u001b[A"
          ]
        },
        {
          "metadata": {
            "tags": null
          },
          "name": "stdout",
          "output_type": "stream",
          "text": [
            "LOADED BEST AUCROC 0.6099422442244224 AUCPR 0.013645583655771117\n",
            "AUCROC 0.6099422442244224 AUCPR 0.013645583655771117 best aucroc 0.6099422442244224\n"
          ]
        },
        {
          "metadata": {
            "tags": null
          },
          "name": "stderr",
          "output_type": "stream",
          "text": [
            "\n",
            " 44%|████▍     | 8/18 [01:13<01:30,  9.08s/it]\u001b[A\n",
            " 50%|█████     | 9/18 [01:23<01:22,  9.21s/it]\u001b[A"
          ]
        },
        {
          "metadata": {
            "tags": null
          },
          "name": "stdout",
          "output_type": "stream",
          "text": [
            "LOADED BEST AUCROC 0.6171617161716172 AUCPR 0.009026239174326937\n",
            "AUCROC 0.6171617161716172 AUCPR 0.009026239174326937 best aucroc 0.6171617161716172\n"
          ]
        },
        {
          "metadata": {
            "tags": null
          },
          "name": "stderr",
          "output_type": "stream",
          "text": [
            "\n",
            " 56%|█████▌    | 10/18 [01:32<01:13,  9.17s/it]\u001b[A"
          ]
        },
        {
          "metadata": {
            "tags": null
          },
          "name": "stdout",
          "output_type": "stream",
          "text": [
            "LOADED BEST AUCROC 0.6375825082508252 AUCPR 0.008799638692233377\n",
            "AUCROC 0.6375825082508252 AUCPR 0.008799638692233377 best aucroc 0.6375825082508252\n"
          ]
        },
        {
          "metadata": {
            "tags": null
          },
          "name": "stderr",
          "output_type": "stream",
          "text": [
            "\n",
            " 61%|██████    | 11/18 [01:40<01:03,  9.04s/it]\u001b[A"
          ]
        },
        {
          "metadata": {
            "tags": null
          },
          "name": "stdout",
          "output_type": "stream",
          "text": [
            "LOADED BEST AUCROC 0.6619224422442244 AUCPR 0.009365739983697417\n",
            "AUCROC 0.6619224422442244 AUCPR 0.009365739983697417 best aucroc 0.6619224422442244\n"
          ]
        },
        {
          "metadata": {
            "tags": null
          },
          "name": "stderr",
          "output_type": "stream",
          "text": [
            "\n",
            " 67%|██████▋   | 12/18 [01:49<00:53,  8.85s/it]\u001b[A"
          ]
        },
        {
          "metadata": {
            "tags": null
          },
          "name": "stdout",
          "output_type": "stream",
          "text": [
            "LOADED BEST AUCROC 0.674092409240924 AUCPR 0.008841833781125345\n",
            "AUCROC 0.674092409240924 AUCPR 0.008841833781125345 best aucroc 0.674092409240924\n"
          ]
        },
        {
          "metadata": {
            "tags": null
          },
          "name": "stderr",
          "output_type": "stream",
          "text": [
            "\n",
            " 72%|███████▏  | 13/18 [01:58<00:45,  9.06s/it]\u001b[A"
          ]
        },
        {
          "metadata": {
            "tags": null
          },
          "name": "stdout",
          "output_type": "stream",
          "text": [
            "LOADED BEST AUCROC 0.6837871287128712 AUCPR 0.010827403969844364\n",
            "AUCROC 0.6837871287128712 AUCPR 0.010827403969844364 best aucroc 0.6837871287128712\n"
          ]
        },
        {
          "metadata": {
            "tags": null
          },
          "name": "stderr",
          "output_type": "stream",
          "text": [
            "\n",
            " 78%|███████▊  | 14/18 [02:06<00:34,  8.69s/it]\u001b[A\n",
            " 83%|████████▎ | 15/18 [02:16<00:27,  9.11s/it]\u001b[A\n",
            " 89%|████████▉ | 16/18 [02:25<00:17,  8.95s/it]\u001b[A\n",
            " 94%|█████████▍| 17/18 [02:35<00:09,  9.15s/it]\u001b[A\n",
            "100%|██████████| 18/18 [02:44<00:00,  9.15s/it]\n",
            " 20%|██        | 1/5 [02:44<10:58, 164.64s/it]\n",
            "  0%|          | 0/18 [00:00<?, ?it/s]\u001b[A\n",
            "  6%|▌         | 1/18 [00:09<02:34,  9.11s/it]\u001b[A\n",
            " 11%|█         | 2/18 [00:17<02:23,  8.94s/it]\u001b[A\n",
            " 17%|█▋        | 3/18 [00:26<02:13,  8.88s/it]\u001b[A\n",
            " 22%|██▏       | 4/18 [00:36<02:11,  9.36s/it]\u001b[A\n",
            " 28%|██▊       | 5/18 [00:45<01:58,  9.13s/it]\u001b[A\n",
            " 33%|███▎      | 6/18 [00:54<01:50,  9.17s/it]\u001b[A\n",
            " 39%|███▉      | 7/18 [01:03<01:40,  9.14s/it]\u001b[A\n",
            " 44%|████▍     | 8/18 [01:13<01:32,  9.28s/it]\u001b[A\n",
            " 50%|█████     | 9/18 [01:21<01:20,  9.00s/it]\u001b[A\n",
            " 56%|█████▌    | 10/18 [01:31<01:13,  9.13s/it]\u001b[A\n",
            " 61%|██████    | 11/18 [01:41<01:05,  9.39s/it]\u001b[A\n",
            " 67%|██████▋   | 12/18 [01:50<00:56,  9.39s/it]\u001b[A\n",
            " 72%|███████▏  | 13/18 [01:59<00:46,  9.20s/it]\u001b[A\n",
            " 78%|███████▊  | 14/18 [02:08<00:37,  9.29s/it]\u001b[A\n",
            " 83%|████████▎ | 15/18 [02:17<00:27,  9.19s/it]\u001b[A\n",
            " 89%|████████▉ | 16/18 [02:26<00:18,  9.03s/it]\u001b[A\n",
            " 94%|█████████▍| 17/18 [02:35<00:08,  8.94s/it]\u001b[A\n",
            "100%|██████████| 18/18 [02:44<00:00,  9.14s/it]\n",
            " 40%|████      | 2/5 [05:29<08:13, 164.54s/it]\n",
            "  0%|          | 0/18 [00:00<?, ?it/s]\u001b[A\n",
            "  6%|▌         | 1/18 [00:10<02:56, 10.37s/it]\u001b[A\n",
            " 11%|█         | 2/18 [00:18<02:22,  8.89s/it]\u001b[A\n",
            " 17%|█▋        | 3/18 [00:26<02:10,  8.70s/it]\u001b[A\n",
            " 22%|██▏       | 4/18 [00:35<02:01,  8.69s/it]\u001b[A\n",
            " 28%|██▊       | 5/18 [00:43<01:50,  8.51s/it]\u001b[A\n",
            " 33%|███▎      | 6/18 [00:53<01:48,  9.05s/it]\u001b[A\n",
            " 39%|███▉      | 7/18 [01:02<01:38,  8.91s/it]\u001b[A\n",
            " 44%|████▍     | 8/18 [01:11<01:30,  9.04s/it]\u001b[A\n",
            " 50%|█████     | 9/18 [01:21<01:24,  9.38s/it]\u001b[A\n",
            " 56%|█████▌    | 10/18 [01:30<01:13,  9.24s/it]\u001b[A\n",
            " 61%|██████    | 11/18 [01:40<01:05,  9.35s/it]\u001b[A\n",
            " 67%|██████▋   | 12/18 [01:50<00:58,  9.68s/it]\u001b[A\n",
            " 72%|███████▏  | 13/18 [02:00<00:48,  9.66s/it]\u001b[A\n",
            " 78%|███████▊  | 14/18 [02:08<00:37,  9.31s/it]\u001b[A\n",
            " 83%|████████▎ | 15/18 [02:17<00:27,  9.23s/it]\u001b[A\n",
            " 89%|████████▉ | 16/18 [02:26<00:17,  8.97s/it]\u001b[A\n",
            " 94%|█████████▍| 17/18 [02:35<00:09,  9.03s/it]\u001b[A\n",
            "100%|██████████| 18/18 [02:43<00:00,  9.08s/it]\n",
            " 60%|██████    | 3/5 [08:12<05:28, 164.08s/it]\n",
            "  0%|          | 0/18 [00:00<?, ?it/s]\u001b[A\n",
            "  6%|▌         | 1/18 [00:09<02:34,  9.09s/it]\u001b[A\n",
            " 11%|█         | 2/18 [00:18<02:26,  9.16s/it]\u001b[A\n",
            " 17%|█▋        | 3/18 [00:27<02:18,  9.25s/it]\u001b[A\n",
            " 22%|██▏       | 4/18 [00:36<02:09,  9.28s/it]\u001b[A\n",
            " 28%|██▊       | 5/18 [00:46<02:00,  9.25s/it]\u001b[A\n",
            " 33%|███▎      | 6/18 [00:54<01:47,  8.99s/it]\u001b[A\n",
            " 39%|███▉      | 7/18 [01:03<01:38,  8.97s/it]\u001b[A\n",
            " 44%|████▍     | 8/18 [01:12<01:30,  9.07s/it]\u001b[A\n",
            " 50%|█████     | 9/18 [01:22<01:22,  9.11s/it]\u001b[A\n",
            " 56%|█████▌    | 10/18 [01:30<01:11,  8.93s/it]\u001b[A\n",
            " 61%|██████    | 11/18 [01:39<01:03,  9.06s/it]\u001b[A\n",
            " 67%|██████▋   | 12/18 [01:49<00:54,  9.15s/it]\u001b[A\n",
            " 72%|███████▏  | 13/18 [01:58<00:45,  9.15s/it]\u001b[A\n",
            " 78%|███████▊  | 14/18 [02:07<00:36,  9.05s/it]\u001b[A\n",
            " 83%|████████▎ | 15/18 [02:17<00:27,  9.27s/it]\u001b[A\n",
            " 89%|████████▉ | 16/18 [02:25<00:18,  9.08s/it]\u001b[A\n",
            " 94%|█████████▍| 17/18 [02:35<00:09,  9.20s/it]\u001b[A\n",
            "100%|██████████| 18/18 [02:45<00:00,  9.18s/it]\n",
            " 80%|████████  | 4/5 [10:57<02:44, 164.57s/it]\n",
            "  0%|          | 0/18 [00:00<?, ?it/s]\u001b[A\n",
            "  6%|▌         | 1/18 [00:09<02:38,  9.33s/it]\u001b[A\n",
            " 11%|█         | 2/18 [00:18<02:29,  9.35s/it]\u001b[A\n",
            " 17%|█▋        | 3/18 [00:27<02:19,  9.27s/it]\u001b[A\n",
            " 22%|██▏       | 4/18 [00:36<02:07,  9.08s/it]\u001b[A\n",
            " 28%|██▊       | 5/18 [00:45<01:58,  9.11s/it]\u001b[A\n",
            " 33%|███▎      | 6/18 [00:54<01:49,  9.10s/it]\u001b[A\n",
            " 39%|███▉      | 7/18 [01:03<01:37,  8.86s/it]\u001b[A\n",
            " 44%|████▍     | 8/18 [01:12<01:30,  9.05s/it]\u001b[A\n",
            " 50%|█████     | 9/18 [01:21<01:22,  9.11s/it]\u001b[A\n",
            " 56%|█████▌    | 10/18 [01:31<01:14,  9.33s/it]\u001b[A\n",
            " 61%|██████    | 11/18 [01:40<01:03,  9.00s/it]\u001b[A\n",
            " 67%|██████▋   | 12/18 [01:49<00:55,  9.18s/it]\u001b[A\n",
            " 72%|███████▏  | 13/18 [01:57<00:44,  8.87s/it]\u001b[A\n",
            " 78%|███████▊  | 14/18 [02:07<00:35,  8.99s/it]\u001b[A\n",
            " 83%|████████▎ | 15/18 [02:16<00:27,  9.16s/it]\u001b[A\n",
            " 89%|████████▉ | 16/18 [02:25<00:18,  9.05s/it]\u001b[A\n",
            " 94%|█████████▍| 17/18 [02:34<00:09,  9.04s/it]\u001b[A\n",
            "100%|██████████| 18/18 [02:43<00:00,  9.08s/it]\n",
            "100%|██████████| 5/5 [13:41<00:00, 164.28s/it]\n"
          ]
        },
        {
          "metadata": {
            "tags": null
          },
          "name": "stdout",
          "output_type": "stream",
          "text": [
            "OUTSIDE LOOP AUC of Best\n",
            "Complex name 2XA0 AUCROC 0.6837871287128712 AUCPR 0.010827403969844364\n",
            "Equivalent epochs in one iteration of data loader 1.8322724057795292\n",
            "test complex  3WN7\n"
          ]
        },
        {
          "metadata": {
            "tags": null
          },
          "name": "stderr",
          "output_type": "stream",
          "text": [
            "  0%|          | 0/5 [00:00<?, ?it/s]\n",
            "  0%|          | 0/18 [00:00<?, ?it/s]\u001b[A\n",
            "  6%|▌         | 1/18 [00:12<03:27, 12.22s/it]\u001b[A"
          ]
        },
        {
          "metadata": {
            "tags": null
          },
          "name": "stdout",
          "output_type": "stream",
          "text": [
            "LOADED BEST AUCROC 0.909598043710836 AUCPR 0.1288495784206541\n",
            "AUCROC 0.909598043710836 AUCPR 0.1288495784206541 best aucroc 0.909598043710836\n"
          ]
        },
        {
          "metadata": {
            "tags": null
          },
          "name": "stderr",
          "output_type": "stream",
          "text": [
            "\n",
            " 11%|█         | 2/18 [00:24<03:17, 12.33s/it]\u001b[A"
          ]
        },
        {
          "metadata": {
            "tags": null
          },
          "name": "stdout",
          "output_type": "stream",
          "text": [
            "LOADED BEST AUCROC 0.9227418615314076 AUCPR 0.1334428896476332\n",
            "AUCROC 0.9227418615314076 AUCPR 0.1334428896476332 best aucroc 0.9227418615314076\n"
          ]
        },
        {
          "metadata": {
            "tags": null
          },
          "name": "stderr",
          "output_type": "stream",
          "text": [
            "\n",
            " 17%|█▋        | 3/18 [00:35<02:57, 11.85s/it]\u001b[A"
          ]
        },
        {
          "metadata": {
            "tags": null
          },
          "name": "stdout",
          "output_type": "stream",
          "text": [
            "LOADED BEST AUCROC 0.9367262723521321 AUCPR 0.1572678709194018\n",
            "AUCROC 0.9367262723521321 AUCPR 0.1572678709194018 best aucroc 0.9367262723521321\n"
          ]
        },
        {
          "metadata": {
            "tags": null
          },
          "name": "stderr",
          "output_type": "stream",
          "text": [
            "\n",
            " 22%|██▏       | 4/18 [00:45<02:35, 11.08s/it]\u001b[A\n",
            " 28%|██▊       | 5/18 [00:57<02:26, 11.25s/it]\u001b[A"
          ]
        },
        {
          "metadata": {
            "tags": null
          },
          "name": "stdout",
          "output_type": "stream",
          "text": [
            "LOADED BEST AUCROC 0.9375668653522848 AUCPR 0.20412832833778716\n",
            "AUCROC 0.9375668653522848 AUCPR 0.20412832833778716 best aucroc 0.9375668653522848\n"
          ]
        },
        {
          "metadata": {
            "tags": null
          },
          "name": "stderr",
          "output_type": "stream",
          "text": [
            "\n",
            " 33%|███▎      | 6/18 [01:06<02:08, 10.67s/it]\u001b[A\n",
            " 39%|███▉      | 7/18 [01:16<01:55, 10.47s/it]\u001b[A\n",
            " 44%|████▍     | 8/18 [01:26<01:42, 10.20s/it]\u001b[A\n",
            " 50%|█████     | 9/18 [01:36<01:29, 10.00s/it]\u001b[A\n",
            " 56%|█████▌    | 10/18 [01:46<01:21, 10.16s/it]\u001b[A\n",
            " 61%|██████    | 11/18 [01:58<01:13, 10.56s/it]\u001b[A\n",
            " 67%|██████▋   | 12/18 [02:08<01:02, 10.47s/it]\u001b[A\n",
            " 72%|███████▏  | 13/18 [02:16<00:49,  9.82s/it]\u001b[A\n",
            " 78%|███████▊  | 14/18 [02:28<00:41, 10.30s/it]\u001b[A\n",
            " 83%|████████▎ | 15/18 [02:38<00:31, 10.46s/it]\u001b[A\n",
            " 89%|████████▉ | 16/18 [02:48<00:20, 10.32s/it]\u001b[A\n",
            " 94%|█████████▍| 17/18 [02:59<00:10, 10.51s/it]\u001b[A\n",
            "100%|██████████| 18/18 [03:08<00:00, 10.50s/it]\n",
            " 20%|██        | 1/5 [03:08<12:35, 189.00s/it]\n",
            "  0%|          | 0/18 [00:00<?, ?it/s]\u001b[A\n",
            "  6%|▌         | 1/18 [00:10<02:53, 10.23s/it]\u001b[A\n",
            " 11%|█         | 2/18 [00:20<02:47, 10.44s/it]\u001b[A\n",
            " 17%|█▋        | 3/18 [00:31<02:38, 10.59s/it]\u001b[A\n",
            " 22%|██▏       | 4/18 [00:41<02:22, 10.19s/it]\u001b[A\n",
            " 28%|██▊       | 5/18 [00:51<02:12, 10.16s/it]\u001b[A\n",
            " 33%|███▎      | 6/18 [01:01<02:00, 10.06s/it]\u001b[A\n",
            " 39%|███▉      | 7/18 [01:10<01:46,  9.68s/it]\u001b[A\n",
            " 44%|████▍     | 8/18 [01:20<01:39,  9.95s/it]\u001b[A\n",
            " 50%|█████     | 9/18 [01:30<01:29,  9.97s/it]\u001b[A\n",
            " 56%|█████▌    | 10/18 [01:40<01:20, 10.05s/it]\u001b[A\n",
            " 61%|██████    | 11/18 [01:51<01:12, 10.30s/it]\u001b[A\n",
            " 67%|██████▋   | 12/18 [02:02<01:03, 10.53s/it]\u001b[A\n",
            " 72%|███████▏  | 13/18 [02:12<00:50, 10.20s/it]\u001b[A\n",
            " 78%|███████▊  | 14/18 [02:21<00:39,  9.97s/it]\u001b[A\n",
            " 83%|████████▎ | 15/18 [02:31<00:29,  9.94s/it]\u001b[A\n",
            " 89%|████████▉ | 16/18 [02:42<00:20, 10.13s/it]\u001b[A\n",
            " 94%|█████████▍| 17/18 [02:52<00:10, 10.35s/it]\u001b[A\n",
            "100%|██████████| 18/18 [03:02<00:00, 10.15s/it]\n",
            " 40%|████      | 2/5 [06:11<09:15, 185.31s/it]\n",
            "  0%|          | 0/18 [00:00<?, ?it/s]\u001b[A\n",
            "  6%|▌         | 1/18 [00:10<02:53, 10.23s/it]\u001b[A\n",
            " 11%|█         | 2/18 [00:21<02:55, 10.95s/it]\u001b[A\n",
            " 17%|█▋        | 3/18 [00:32<02:41, 10.76s/it]\u001b[A\n",
            " 22%|██▏       | 4/18 [00:42<02:27, 10.52s/it]\u001b[A\n",
            " 28%|██▊       | 5/18 [00:52<02:13, 10.29s/it]\u001b[A\n",
            " 33%|███▎      | 6/18 [01:02<02:03, 10.29s/it]\u001b[A\n",
            " 39%|███▉      | 7/18 [01:11<01:49,  9.99s/it]\u001b[A\n",
            " 44%|████▍     | 8/18 [01:22<01:43, 10.32s/it]\u001b[A\n",
            " 50%|█████     | 9/18 [01:33<01:34, 10.52s/it]\u001b[A\n",
            " 56%|█████▌    | 10/18 [01:42<01:19,  9.97s/it]\u001b[A\n",
            " 61%|██████    | 11/18 [01:52<01:10, 10.07s/it]\u001b[A\n",
            " 67%|██████▋   | 12/18 [02:03<01:01, 10.27s/it]\u001b[A\n",
            " 72%|███████▏  | 13/18 [02:13<00:50, 10.12s/it]\u001b[A\n",
            " 78%|███████▊  | 14/18 [02:23<00:39,  9.99s/it]\u001b[A\n",
            " 83%|████████▎ | 15/18 [02:33<00:30, 10.00s/it]\u001b[A\n",
            " 89%|████████▉ | 16/18 [02:42<00:19,  9.91s/it]\u001b[A\n",
            " 94%|█████████▍| 17/18 [02:53<00:10, 10.17s/it]\u001b[A\n",
            "100%|██████████| 18/18 [03:02<00:00, 10.17s/it]\n",
            " 60%|██████    | 3/5 [09:14<06:08, 184.26s/it]\n",
            "  0%|          | 0/18 [00:00<?, ?it/s]\u001b[A\n",
            "  6%|▌         | 1/18 [00:09<02:37,  9.24s/it]\u001b[A\n",
            " 11%|█         | 2/18 [00:19<02:36,  9.81s/it]\u001b[A\n",
            " 17%|█▋        | 3/18 [00:29<02:27,  9.84s/it]\u001b[A\n",
            " 22%|██▏       | 4/18 [00:39<02:20, 10.06s/it]\u001b[A\n",
            " 28%|██▊       | 5/18 [00:50<02:16, 10.49s/it]\u001b[A\n",
            " 33%|███▎      | 6/18 [01:00<02:01, 10.16s/it]\u001b[A\n",
            " 39%|███▉      | 7/18 [01:10<01:51, 10.11s/it]\u001b[A\n",
            " 44%|████▍     | 8/18 [01:21<01:42, 10.28s/it]\u001b[A\n",
            " 50%|█████     | 9/18 [01:30<01:30, 10.09s/it]\u001b[A\n",
            " 56%|█████▌    | 10/18 [01:40<01:19,  9.99s/it]\u001b[A\n",
            " 61%|██████    | 11/18 [01:50<01:08,  9.85s/it]\u001b[A\n",
            " 67%|██████▋   | 12/18 [02:01<01:01, 10.21s/it]\u001b[A\n",
            " 72%|███████▏  | 13/18 [02:11<00:51, 10.26s/it]\u001b[A\n",
            " 78%|███████▊  | 14/18 [02:21<00:40, 10.07s/it]\u001b[A\n",
            " 83%|████████▎ | 15/18 [02:32<00:31, 10.47s/it]\u001b[A\n",
            " 89%|████████▉ | 16/18 [02:42<00:20, 10.29s/it]\u001b[A\n",
            " 94%|█████████▍| 17/18 [02:53<00:10, 10.41s/it]\u001b[A\n",
            "100%|██████████| 18/18 [03:03<00:00, 10.19s/it]\n",
            " 80%|████████  | 4/5 [12:18<03:03, 183.93s/it]\n",
            "  0%|          | 0/18 [00:00<?, ?it/s]\u001b[A\n",
            "  6%|▌         | 1/18 [00:10<02:56, 10.39s/it]\u001b[A\n",
            " 11%|█         | 2/18 [00:19<02:36,  9.76s/it]\u001b[A\n",
            " 17%|█▋        | 3/18 [00:29<02:29,  9.95s/it]\u001b[A\n",
            " 22%|██▏       | 4/18 [00:39<02:18,  9.92s/it]\u001b[A\n",
            " 28%|██▊       | 5/18 [00:50<02:12, 10.17s/it]\u001b[A\n",
            " 33%|███▎      | 6/18 [00:59<01:55,  9.65s/it]\u001b[A\n",
            " 39%|███▉      | 7/18 [01:10<01:51, 10.16s/it]\u001b[A\n",
            " 44%|████▍     | 8/18 [01:20<01:41, 10.11s/it]\u001b[A\n",
            " 50%|█████     | 9/18 [01:29<01:29,  9.90s/it]\u001b[A\n",
            " 56%|█████▌    | 10/18 [01:39<01:20, 10.03s/it]\u001b[A\n",
            " 61%|██████    | 11/18 [01:51<01:13, 10.55s/it]\u001b[A\n",
            " 67%|██████▋   | 12/18 [02:02<01:03, 10.54s/it]\u001b[A\n",
            " 72%|███████▏  | 13/18 [02:11<00:51, 10.30s/it]\u001b[A\n",
            " 78%|███████▊  | 14/18 [02:21<00:40, 10.15s/it]\u001b[A\n",
            " 83%|████████▎ | 15/18 [02:32<00:31, 10.38s/it]\u001b[A\n",
            " 89%|████████▉ | 16/18 [02:42<00:20, 10.29s/it]\u001b[A\n",
            " 94%|█████████▍| 17/18 [02:53<00:10, 10.47s/it]\u001b[A\n",
            "100%|██████████| 18/18 [03:02<00:00, 10.16s/it]\n",
            "100%|██████████| 5/5 [15:21<00:00, 184.22s/it]\n"
          ]
        },
        {
          "metadata": {
            "tags": null
          },
          "name": "stdout",
          "output_type": "stream",
          "text": [
            "OUTSIDE LOOP AUC of Best\n",
            "Complex name 3WN7 AUCROC 0.9375668653522848 AUCPR 0.20412832833778716\n",
            "Equivalent epochs in one iteration of data loader 1.8699573793240163\n",
            "test complex  3UVW\n"
          ]
        },
        {
          "metadata": {
            "tags": null
          },
          "name": "stderr",
          "output_type": "stream",
          "text": [
            "  0%|          | 0/5 [00:00<?, ?it/s]\n",
            "  0%|          | 0/19 [00:00<?, ?it/s]\u001b[A\n",
            "  5%|▌         | 1/19 [00:21<06:23, 21.28s/it]\u001b[A"
          ]
        },
        {
          "metadata": {
            "tags": null
          },
          "name": "stdout",
          "output_type": "stream",
          "text": [
            "LOADED BEST AUCROC 0.8110138645010244 AUCPR 0.36750355702737314\n",
            "AUCROC 0.8110138645010244 AUCPR 0.36750355702737314 best aucroc 0.8110138645010244\n"
          ]
        },
        {
          "metadata": {
            "tags": null
          },
          "name": "stderr",
          "output_type": "stream",
          "text": [
            "\n",
            " 11%|█         | 2/19 [00:41<05:56, 20.94s/it]\u001b[A"
          ]
        },
        {
          "metadata": {
            "tags": null
          },
          "name": "stdout",
          "output_type": "stream",
          "text": [
            "LOADED BEST AUCROC 0.821707181006731 AUCPR 0.38046600045447415\n",
            "AUCROC 0.821707181006731 AUCPR 0.38046600045447415 best aucroc 0.821707181006731\n"
          ]
        },
        {
          "metadata": {
            "tags": null
          },
          "name": "stderr",
          "output_type": "stream",
          "text": [
            "\n",
            " 16%|█▌        | 3/19 [01:04<05:43, 21.47s/it]\u001b[A"
          ]
        },
        {
          "metadata": {
            "tags": null
          },
          "name": "stdout",
          "output_type": "stream",
          "text": [
            "LOADED BEST AUCROC 0.8282690408252853 AUCPR 0.39244919931358463\n",
            "AUCROC 0.8282690408252853 AUCPR 0.39244919931358463 best aucroc 0.8282690408252853\n"
          ]
        },
        {
          "metadata": {
            "tags": null
          },
          "name": "stderr",
          "output_type": "stream",
          "text": [
            "\n",
            " 21%|██        | 4/19 [01:25<05:22, 21.49s/it]\u001b[A"
          ]
        },
        {
          "metadata": {
            "tags": null
          },
          "name": "stdout",
          "output_type": "stream",
          "text": [
            "LOADED BEST AUCROC 0.831737452443664 AUCPR 0.39893930358120394\n",
            "AUCROC 0.831737452443664 AUCPR 0.39893930358120394 best aucroc 0.831737452443664\n"
          ]
        },
        {
          "metadata": {
            "tags": null
          },
          "name": "stderr",
          "output_type": "stream",
          "text": [
            "\n",
            " 26%|██▋       | 5/19 [01:47<05:03, 21.66s/it]\u001b[A"
          ]
        },
        {
          "metadata": {
            "tags": null
          },
          "name": "stdout",
          "output_type": "stream",
          "text": [
            "LOADED BEST AUCROC 0.8327548836698858 AUCPR 0.40447541386433833\n",
            "AUCROC 0.8327548836698858 AUCPR 0.40447541386433833 best aucroc 0.8327548836698858\n"
          ]
        },
        {
          "metadata": {
            "tags": null
          },
          "name": "stderr",
          "output_type": "stream",
          "text": [
            "\n",
            " 32%|███▏      | 6/19 [02:02<04:10, 19.25s/it]\u001b[A\n",
            " 37%|███▋      | 7/19 [02:23<03:58, 19.90s/it]\u001b[A"
          ]
        },
        {
          "metadata": {
            "tags": null
          },
          "name": "stdout",
          "output_type": "stream",
          "text": [
            "LOADED BEST AUCROC 0.838196425958443 AUCPR 0.4375744903509667\n",
            "AUCROC 0.838196425958443 AUCPR 0.4375744903509667 best aucroc 0.838196425958443\n"
          ]
        },
        {
          "metadata": {
            "tags": null
          },
          "name": "stderr",
          "output_type": "stream",
          "text": [
            "\n",
            " 42%|████▏     | 8/19 [02:45<03:45, 20.52s/it]\u001b[A"
          ]
        },
        {
          "metadata": {
            "tags": null
          },
          "name": "stdout",
          "output_type": "stream",
          "text": [
            "LOADED BEST AUCROC 0.8398746158911325 AUCPR 0.4539160024258388\n",
            "AUCROC 0.8398746158911325 AUCPR 0.4539160024258388 best aucroc 0.8398746158911325\n"
          ]
        },
        {
          "metadata": {
            "tags": null
          },
          "name": "stderr",
          "output_type": "stream",
          "text": [
            "\n",
            " 47%|████▋     | 9/19 [02:59<03:04, 18.48s/it]\u001b[A\n",
            " 53%|█████▎    | 10/19 [03:13<02:35, 17.30s/it]\u001b[A\n",
            " 58%|█████▊    | 11/19 [03:28<02:12, 16.56s/it]\u001b[A\n",
            " 63%|██████▎   | 12/19 [03:44<01:55, 16.44s/it]\u001b[A\n",
            " 68%|██████▊   | 13/19 [04:00<01:36, 16.03s/it]\u001b[A\n",
            " 74%|███████▎  | 14/19 [04:13<01:16, 15.37s/it]\u001b[A\n",
            " 79%|███████▉  | 15/19 [04:28<01:00, 15.15s/it]\u001b[A\n",
            " 84%|████████▍ | 16/19 [04:42<00:44, 14.94s/it]\u001b[A\n",
            " 89%|████████▉ | 17/19 [04:57<00:29, 14.88s/it]\u001b[A\n",
            " 95%|█████████▍| 18/19 [05:12<00:14, 14.83s/it]\u001b[A\n",
            "100%|██████████| 19/19 [05:26<00:00, 17.18s/it]\n",
            " 20%|██        | 1/5 [05:26<21:45, 326.36s/it]\n",
            "  0%|          | 0/19 [00:00<?, ?it/s]\u001b[A\n",
            "  5%|▌         | 1/19 [00:13<04:03, 13.51s/it]\u001b[A\n",
            " 11%|█         | 2/19 [00:27<03:57, 13.95s/it]\u001b[A\n",
            " 16%|█▌        | 3/19 [00:41<03:45, 14.07s/it]\u001b[A\n",
            " 21%|██        | 4/19 [00:55<03:29, 13.96s/it]\u001b[A\n",
            " 26%|██▋       | 5/19 [01:10<03:20, 14.35s/it]\u001b[A\n",
            " 32%|███▏      | 6/19 [01:26<03:11, 14.72s/it]\u001b[A\n",
            " 37%|███▋      | 7/19 [01:41<02:59, 15.00s/it]\u001b[A\n",
            " 42%|████▏     | 8/19 [01:57<02:45, 15.06s/it]\u001b[A\n",
            " 47%|████▋     | 9/19 [02:12<02:31, 15.18s/it]\u001b[A\n",
            " 53%|█████▎    | 10/19 [02:27<02:16, 15.16s/it]\u001b[A\n",
            " 58%|█████▊    | 11/19 [02:41<01:58, 14.81s/it]\u001b[A\n",
            " 63%|██████▎   | 12/19 [02:55<01:42, 14.63s/it]\u001b[A\n",
            " 68%|██████▊   | 13/19 [03:10<01:27, 14.59s/it]\u001b[A\n",
            " 74%|███████▎  | 14/19 [03:25<01:14, 14.83s/it]\u001b[A\n",
            " 79%|███████▉  | 15/19 [03:39<00:58, 14.59s/it]\u001b[A\n",
            " 84%|████████▍ | 16/19 [03:54<00:43, 14.52s/it]\u001b[A\n",
            " 89%|████████▉ | 17/19 [04:08<00:28, 14.38s/it]\u001b[A\n",
            " 95%|█████████▍| 18/19 [04:23<00:14, 14.59s/it]\u001b[A\n",
            "100%|██████████| 19/19 [04:38<00:00, 14.65s/it]\n",
            " 40%|████      | 2/5 [10:04<14:54, 298.09s/it]\n",
            "  0%|          | 0/19 [00:00<?, ?it/s]\u001b[A\n",
            "  5%|▌         | 1/19 [00:13<04:10, 13.90s/it]\u001b[A\n",
            " 11%|█         | 2/19 [00:28<04:02, 14.27s/it]\u001b[A\n",
            " 16%|█▌        | 3/19 [00:42<03:45, 14.07s/it]\u001b[A\n",
            " 21%|██        | 4/19 [00:56<03:32, 14.17s/it]\u001b[A\n",
            " 26%|██▋       | 5/19 [01:10<03:15, 13.95s/it]\u001b[A\n",
            " 32%|███▏      | 6/19 [01:24<03:02, 14.03s/it]\u001b[A\n",
            " 37%|███▋      | 7/19 [01:38<02:50, 14.18s/it]\u001b[A\n",
            " 42%|████▏     | 8/19 [01:53<02:37, 14.36s/it]\u001b[A\n",
            " 47%|████▋     | 9/19 [02:08<02:26, 14.68s/it]\u001b[A\n",
            " 53%|█████▎    | 10/19 [02:24<02:13, 14.82s/it]\u001b[A\n",
            " 58%|█████▊    | 11/19 [02:39<02:00, 15.10s/it]\u001b[A\n",
            " 63%|██████▎   | 12/19 [02:53<01:42, 14.69s/it]\u001b[A\n",
            " 68%|██████▊   | 13/19 [03:08<01:29, 14.90s/it]\u001b[A\n",
            " 74%|███████▎  | 14/19 [03:23<01:13, 14.77s/it]\u001b[A\n",
            " 79%|███████▉  | 15/19 [03:37<00:58, 14.65s/it]\u001b[A\n",
            " 84%|████████▍ | 16/19 [03:52<00:43, 14.64s/it]\u001b[A\n",
            " 89%|████████▉ | 17/19 [04:07<00:29, 14.78s/it]\u001b[A\n",
            " 95%|█████████▍| 18/19 [04:21<00:14, 14.54s/it]\u001b[A\n",
            "100%|██████████| 19/19 [04:36<00:00, 14.55s/it]\n",
            " 60%|██████    | 3/5 [14:41<09:36, 288.24s/it]\n",
            "  0%|          | 0/19 [00:00<?, ?it/s]\u001b[A\n",
            "  5%|▌         | 1/19 [00:16<04:49, 16.09s/it]\u001b[A\n",
            " 11%|█         | 2/19 [00:30<04:15, 15.06s/it]\u001b[A\n",
            " 16%|█▌        | 3/19 [00:45<03:59, 14.94s/it]\u001b[A\n",
            " 21%|██        | 4/19 [01:00<03:44, 14.95s/it]\u001b[A\n",
            " 26%|██▋       | 5/19 [01:14<03:23, 14.55s/it]\u001b[A\n",
            " 32%|███▏      | 6/19 [01:27<03:02, 14.06s/it]\u001b[A\n",
            " 37%|███▋      | 7/19 [01:42<02:54, 14.57s/it]\u001b[A\n",
            " 42%|████▏     | 8/19 [01:57<02:41, 14.70s/it]\u001b[A\n",
            " 47%|████▋     | 9/19 [02:12<02:26, 14.67s/it]\u001b[A\n",
            " 53%|█████▎    | 10/19 [02:27<02:14, 14.92s/it]\u001b[A\n",
            " 58%|█████▊    | 11/19 [02:41<01:56, 14.60s/it]\u001b[A\n",
            " 63%|██████▎   | 12/19 [02:55<01:41, 14.50s/it]\u001b[A\n",
            " 68%|██████▊   | 13/19 [03:11<01:28, 14.79s/it]\u001b[A\n",
            " 74%|███████▎  | 14/19 [03:25<01:13, 14.63s/it]\u001b[A\n",
            " 79%|███████▉  | 15/19 [03:40<00:58, 14.73s/it]\u001b[A\n",
            " 84%|████████▍ | 16/19 [03:54<00:43, 14.58s/it]\u001b[A\n",
            " 89%|████████▉ | 17/19 [04:09<00:29, 14.68s/it]\u001b[A\n",
            " 95%|█████████▍| 18/19 [04:24<00:14, 14.60s/it]\u001b[A\n",
            "100%|██████████| 19/19 [04:38<00:00, 14.65s/it]\n",
            " 80%|████████  | 4/5 [19:19<04:44, 284.31s/it]\n",
            "  0%|          | 0/19 [00:00<?, ?it/s]\u001b[A\n",
            "  5%|▌         | 1/19 [00:14<04:20, 14.47s/it]\u001b[A\n",
            " 11%|█         | 2/19 [00:29<04:13, 14.89s/it]\u001b[A\n",
            " 16%|█▌        | 3/19 [00:44<03:54, 14.68s/it]\u001b[A\n",
            " 21%|██        | 4/19 [00:58<03:38, 14.60s/it]\u001b[A\n",
            " 26%|██▋       | 5/19 [01:12<03:23, 14.51s/it]\u001b[A\n",
            " 32%|███▏      | 6/19 [01:26<03:06, 14.34s/it]\u001b[A\n",
            " 37%|███▋      | 7/19 [01:40<02:50, 14.23s/it]\u001b[A\n",
            " 42%|████▏     | 8/19 [01:56<02:39, 14.54s/it]\u001b[A\n",
            " 47%|████▋     | 9/19 [02:11<02:29, 14.95s/it]\u001b[A\n",
            " 53%|█████▎    | 10/19 [02:25<02:11, 14.64s/it]\u001b[A\n",
            " 58%|█████▊    | 11/19 [02:39<01:53, 14.24s/it]\u001b[A\n",
            " 63%|██████▎   | 12/19 [02:53<01:40, 14.39s/it]\u001b[A\n",
            " 68%|██████▊   | 13/19 [03:07<01:25, 14.23s/it]\u001b[A\n",
            " 74%|███████▎  | 14/19 [03:22<01:11, 14.32s/it]\u001b[A\n",
            " 79%|███████▉  | 15/19 [03:37<00:58, 14.51s/it]\u001b[A\n",
            " 84%|████████▍ | 16/19 [03:52<00:44, 14.67s/it]\u001b[A\n",
            " 89%|████████▉ | 17/19 [04:07<00:29, 14.75s/it]\u001b[A\n",
            " 95%|█████████▍| 18/19 [04:21<00:14, 14.60s/it]\u001b[A\n",
            "100%|██████████| 19/19 [04:36<00:00, 14.55s/it]\n",
            "100%|██████████| 5/5 [23:55<00:00, 287.18s/it]\n"
          ]
        },
        {
          "metadata": {
            "tags": null
          },
          "name": "stdout",
          "output_type": "stream",
          "text": [
            "OUTSIDE LOOP AUC of Best\n",
            "Complex name 3UVW AUCROC 0.8398746158911325 AUCPR 0.4539160024258388\n",
            "Equivalent epochs in one iteration of data loader 1.8404592240696753\n",
            "test complex  1YCR\n"
          ]
        },
        {
          "metadata": {
            "tags": null
          },
          "name": "stderr",
          "output_type": "stream",
          "text": [
            "  0%|          | 0/5 [00:00<?, ?it/s]\n",
            "  0%|          | 0/19 [00:00<?, ?it/s]\u001b[A\n",
            "  5%|▌         | 1/19 [00:13<03:59, 13.29s/it]\u001b[A"
          ]
        },
        {
          "metadata": {
            "tags": null
          },
          "name": "stdout",
          "output_type": "stream",
          "text": [
            "LOADED BEST AUCROC 0.8463357542526414 AUCPR 0.12973763277585673\n",
            "AUCROC 0.8463357542526414 AUCPR 0.12973763277585673 best aucroc 0.8463357542526414\n"
          ]
        },
        {
          "metadata": {
            "tags": null
          },
          "name": "stderr",
          "output_type": "stream",
          "text": [
            "\n",
            " 11%|█         | 2/19 [00:28<04:01, 14.21s/it]\u001b[A"
          ]
        },
        {
          "metadata": {
            "tags": null
          },
          "name": "stdout",
          "output_type": "stream",
          "text": [
            "LOADED BEST AUCROC 0.8545764994468761 AUCPR 0.14643694549085123\n",
            "AUCROC 0.8545764994468761 AUCPR 0.14643694549085123 best aucroc 0.8545764994468761\n"
          ]
        },
        {
          "metadata": {
            "tags": null
          },
          "name": "stderr",
          "output_type": "stream",
          "text": [
            "\n",
            " 16%|█▌        | 3/19 [00:38<03:20, 12.55s/it]\u001b[A\n",
            " 21%|██        | 4/19 [00:50<03:03, 12.27s/it]\u001b[A\n",
            " 26%|██▋       | 5/19 [01:01<02:45, 11.82s/it]\u001b[A\n",
            " 32%|███▏      | 6/19 [01:13<02:32, 11.75s/it]\u001b[A\n",
            " 37%|███▋      | 7/19 [01:24<02:20, 11.72s/it]\u001b[A\n",
            " 42%|████▏     | 8/19 [01:36<02:08, 11.68s/it]\u001b[A\n",
            " 47%|████▋     | 9/19 [01:47<01:55, 11.56s/it]\u001b[A\n",
            " 53%|█████▎    | 10/19 [01:58<01:40, 11.20s/it]\u001b[A\n",
            " 58%|█████▊    | 11/19 [02:08<01:26, 10.83s/it]\u001b[A\n",
            " 63%|██████▎   | 12/19 [02:19<01:17, 11.11s/it]\u001b[A\n",
            " 68%|██████▊   | 13/19 [02:31<01:07, 11.19s/it]\u001b[A\n",
            " 74%|███████▎  | 14/19 [02:41<00:55, 11.02s/it]\u001b[A\n",
            " 79%|███████▉  | 15/19 [02:52<00:43, 10.96s/it]\u001b[A\n",
            " 84%|████████▍ | 16/19 [03:03<00:32, 10.95s/it]\u001b[A\n",
            " 89%|████████▉ | 17/19 [03:15<00:22, 11.33s/it]\u001b[A\n",
            " 95%|█████████▍| 18/19 [03:26<00:11, 11.17s/it]\u001b[A\n",
            "100%|██████████| 19/19 [03:37<00:00, 11.45s/it]\n",
            " 20%|██        | 1/5 [03:37<14:30, 217.64s/it]\n",
            "  0%|          | 0/19 [00:00<?, ?it/s]\u001b[A\n",
            "  5%|▌         | 1/19 [00:13<03:54, 13.03s/it]\u001b[A\n",
            " 11%|█         | 2/19 [00:24<03:22, 11.89s/it]\u001b[A\n",
            " 16%|█▌        | 3/19 [00:35<03:07, 11.70s/it]\u001b[A\n",
            " 21%|██        | 4/19 [00:46<02:49, 11.29s/it]\u001b[A\n",
            " 26%|██▋       | 5/19 [00:57<02:36, 11.20s/it]\u001b[A\n",
            " 32%|███▏      | 6/19 [01:08<02:23, 11.05s/it]\u001b[A\n",
            " 37%|███▋      | 7/19 [01:19<02:12, 11.08s/it]\u001b[A\n",
            " 42%|████▏     | 8/19 [01:29<01:59, 10.91s/it]\u001b[A\n",
            " 47%|████▋     | 9/19 [01:41<01:52, 11.29s/it]\u001b[A\n",
            " 53%|█████▎    | 10/19 [01:52<01:40, 11.21s/it]\u001b[A\n",
            " 58%|█████▊    | 11/19 [02:03<01:28, 11.11s/it]\u001b[A\n",
            " 63%|██████▎   | 12/19 [02:13<01:14, 10.63s/it]\u001b[A\n",
            " 68%|██████▊   | 13/19 [02:24<01:04, 10.68s/it]\u001b[A\n",
            " 74%|███████▎  | 14/19 [02:35<00:54, 10.95s/it]\u001b[A\n",
            " 79%|███████▉  | 15/19 [02:46<00:43, 10.81s/it]\u001b[A\n",
            " 84%|████████▍ | 16/19 [02:57<00:32, 10.91s/it]\u001b[A\n",
            " 89%|████████▉ | 17/19 [03:07<00:21, 10.63s/it]\u001b[A\n",
            " 95%|█████████▍| 18/19 [03:19<00:11, 11.13s/it]\u001b[A\n",
            "100%|██████████| 19/19 [03:30<00:00, 11.06s/it]\n",
            " 40%|████      | 2/5 [07:07<10:39, 213.23s/it]\n",
            "  0%|          | 0/19 [00:00<?, ?it/s]\u001b[A\n",
            "  5%|▌         | 1/19 [00:11<03:30, 11.68s/it]\u001b[A\n",
            " 11%|█         | 2/19 [00:22<03:11, 11.29s/it]\u001b[A\n",
            " 16%|█▌        | 3/19 [00:33<02:59, 11.24s/it]\u001b[A\n",
            " 21%|██        | 4/19 [00:45<02:51, 11.45s/it]\u001b[A\n",
            " 26%|██▋       | 5/19 [00:57<02:40, 11.46s/it]\u001b[A\n",
            " 32%|███▏      | 6/19 [01:07<02:25, 11.19s/it]\u001b[A\n",
            " 37%|███▋      | 7/19 [01:18<02:11, 10.97s/it]\u001b[A\n",
            " 42%|████▏     | 8/19 [01:29<01:59, 10.90s/it]\u001b[A\n",
            " 47%|████▋     | 9/19 [01:39<01:49, 10.90s/it]\u001b[A\n",
            " 53%|█████▎    | 10/19 [01:50<01:38, 10.94s/it]\u001b[A\n",
            " 58%|█████▊    | 11/19 [02:02<01:28, 11.01s/it]\u001b[A\n",
            " 63%|██████▎   | 12/19 [02:13<01:17, 11.05s/it]\u001b[A\n",
            " 68%|██████▊   | 13/19 [02:23<01:05, 10.91s/it]\u001b[A\n",
            " 74%|███████▎  | 14/19 [02:36<00:56, 11.40s/it]\u001b[A\n",
            " 79%|███████▉  | 15/19 [02:48<00:46, 11.68s/it]\u001b[A\n",
            " 84%|████████▍ | 16/19 [02:59<00:34, 11.38s/it]\u001b[A\n",
            " 89%|████████▉ | 17/19 [03:10<00:22, 11.24s/it]\u001b[A\n",
            " 95%|█████████▍| 18/19 [03:21<00:11, 11.12s/it]\u001b[A\n",
            "100%|██████████| 19/19 [03:32<00:00, 11.18s/it]\n",
            " 60%|██████    | 3/5 [10:40<07:05, 212.83s/it]\n",
            "  0%|          | 0/19 [00:00<?, ?it/s]\u001b[A\n",
            "  5%|▌         | 1/19 [00:10<03:05, 10.29s/it]\u001b[A\n",
            " 11%|█         | 2/19 [00:21<03:07, 11.04s/it]\u001b[A\n",
            " 16%|█▌        | 3/19 [00:32<02:55, 10.96s/it]\u001b[A\n",
            " 21%|██        | 4/19 [00:44<02:48, 11.21s/it]\u001b[A\n",
            " 26%|██▋       | 5/19 [00:56<02:41, 11.57s/it]\u001b[A\n",
            " 32%|███▏      | 6/19 [01:06<02:24, 11.15s/it]\u001b[A\n",
            " 37%|███▋      | 7/19 [01:17<02:12, 11.00s/it]\u001b[A\n",
            " 42%|████▏     | 8/19 [01:29<02:05, 11.42s/it]\u001b[A\n",
            " 47%|████▋     | 9/19 [01:41<01:53, 11.33s/it]\u001b[A\n",
            " 53%|█████▎    | 10/19 [01:52<01:42, 11.38s/it]\u001b[A\n",
            " 58%|█████▊    | 11/19 [02:02<01:28, 11.05s/it]\u001b[A\n",
            " 63%|██████▎   | 12/19 [02:14<01:17, 11.13s/it]\u001b[A\n",
            " 68%|██████▊   | 13/19 [02:25<01:08, 11.35s/it]\u001b[A\n",
            " 74%|███████▎  | 14/19 [02:37<00:57, 11.45s/it]\u001b[A\n",
            " 79%|███████▉  | 15/19 [02:48<00:44, 11.16s/it]\u001b[A\n",
            " 84%|████████▍ | 16/19 [02:58<00:32, 10.90s/it]\u001b[A\n",
            " 89%|████████▉ | 17/19 [03:08<00:21, 10.78s/it]\u001b[A\n",
            " 95%|█████████▍| 18/19 [03:21<00:11, 11.22s/it]\u001b[A\n",
            "100%|██████████| 19/19 [03:32<00:00, 11.19s/it]\n",
            " 80%|████████  | 4/5 [14:12<03:32, 212.78s/it]\n",
            "  0%|          | 0/19 [00:00<?, ?it/s]\u001b[A\n",
            "  5%|▌         | 1/19 [00:11<03:29, 11.64s/it]\u001b[A\n",
            " 11%|█         | 2/19 [00:21<03:01, 10.69s/it]\u001b[A\n",
            " 16%|█▌        | 3/19 [00:32<02:50, 10.67s/it]\u001b[A\n",
            " 21%|██        | 4/19 [00:43<02:41, 10.77s/it]\u001b[A\n",
            " 26%|██▋       | 5/19 [00:54<02:31, 10.82s/it]\u001b[A\n",
            " 32%|███▏      | 6/19 [01:05<02:23, 11.07s/it]\u001b[A\n",
            " 37%|███▋      | 7/19 [01:16<02:11, 10.98s/it]\u001b[A\n",
            " 42%|████▏     | 8/19 [01:27<02:01, 11.08s/it]\u001b[A\n",
            " 47%|████▋     | 9/19 [01:39<01:53, 11.33s/it]\u001b[A\n",
            " 53%|█████▎    | 10/19 [01:51<01:44, 11.59s/it]\u001b[A\n",
            " 58%|█████▊    | 11/19 [02:03<01:33, 11.64s/it]\u001b[A\n",
            " 63%|██████▎   | 12/19 [02:14<01:19, 11.37s/it]\u001b[A\n",
            " 68%|██████▊   | 13/19 [02:25<01:08, 11.40s/it]\u001b[A\n",
            " 74%|███████▎  | 14/19 [02:37<00:58, 11.62s/it]\u001b[A\n",
            " 79%|███████▉  | 15/19 [02:48<00:45, 11.45s/it]\u001b[A\n",
            " 84%|████████▍ | 16/19 [02:59<00:33, 11.29s/it]\u001b[A\n",
            " 89%|████████▉ | 17/19 [03:09<00:21, 10.89s/it]\u001b[A\n",
            " 95%|█████████▍| 18/19 [03:21<00:11, 11.26s/it]\u001b[A\n",
            "100%|██████████| 19/19 [03:33<00:00, 11.22s/it]\n",
            "100%|██████████| 5/5 [17:46<00:00, 213.22s/it]\n"
          ]
        },
        {
          "metadata": {
            "tags": null
          },
          "name": "stdout",
          "output_type": "stream",
          "text": [
            "OUTSIDE LOOP AUC of Best\n",
            "Complex name 1YCR AUCROC 0.8545764994468761 AUCPR 0.14643694549085123\n",
            "Equivalent epochs in one iteration of data loader 1.8375564722058535\n",
            "test complex  4ESG\n"
          ]
        },
        {
          "metadata": {
            "tags": null
          },
          "name": "stderr",
          "output_type": "stream",
          "text": [
            "  0%|          | 0/5 [00:00<?, ?it/s]\n",
            "  0%|          | 0/19 [00:00<?, ?it/s]\u001b[A\n",
            "  5%|▌         | 1/19 [00:11<03:25, 11.43s/it]\u001b[A"
          ]
        },
        {
          "metadata": {
            "tags": null
          },
          "name": "stdout",
          "output_type": "stream",
          "text": [
            "LOADED BEST AUCROC 0.940423098913665 AUCPR 0.2523597918026857\n",
            "AUCROC 0.940423098913665 AUCPR 0.2523597918026857 best aucroc 0.940423098913665\n"
          ]
        },
        {
          "metadata": {
            "tags": null
          },
          "name": "stderr",
          "output_type": "stream",
          "text": [
            "\n",
            " 11%|█         | 2/19 [00:23<03:22, 11.92s/it]\u001b[A"
          ]
        },
        {
          "metadata": {
            "tags": null
          },
          "name": "stdout",
          "output_type": "stream",
          "text": [
            "LOADED BEST AUCROC 0.9478559176672384 AUCPR 0.27033248807913507\n",
            "AUCROC 0.9478559176672384 AUCPR 0.27033248807913507 best aucroc 0.9478559176672384\n"
          ]
        },
        {
          "metadata": {
            "tags": null
          },
          "name": "stderr",
          "output_type": "stream",
          "text": [
            "\n",
            " 16%|█▌        | 3/19 [00:34<03:03, 11.44s/it]\u001b[A"
          ]
        },
        {
          "metadata": {
            "tags": null
          },
          "name": "stdout",
          "output_type": "stream",
          "text": [
            "LOADED BEST AUCROC 0.9546026300743281 AUCPR 0.30050093987308807\n",
            "AUCROC 0.9546026300743281 AUCPR 0.30050093987308807 best aucroc 0.9546026300743281\n"
          ]
        },
        {
          "metadata": {
            "tags": null
          },
          "name": "stderr",
          "output_type": "stream",
          "text": [
            "\n",
            " 21%|██        | 4/19 [00:43<02:36, 10.44s/it]\u001b[A\n",
            " 26%|██▋       | 5/19 [00:53<02:24, 10.34s/it]\u001b[A\n",
            " 32%|███▏      | 6/19 [01:03<02:10, 10.03s/it]\u001b[A\n",
            " 37%|███▋      | 7/19 [01:13<02:01, 10.15s/it]\u001b[A\n",
            " 42%|████▏     | 8/19 [01:24<01:54, 10.42s/it]\u001b[A\n",
            " 47%|████▋     | 9/19 [01:33<01:39,  9.94s/it]\u001b[A\n",
            " 53%|█████▎    | 10/19 [01:43<01:28,  9.87s/it]\u001b[A\n",
            " 58%|█████▊    | 11/19 [01:53<01:20, 10.01s/it]\u001b[A\n",
            " 63%|██████▎   | 12/19 [02:03<01:09,  9.95s/it]\u001b[A\n",
            " 68%|██████▊   | 13/19 [02:12<00:58,  9.74s/it]\u001b[A\n",
            " 74%|███████▎  | 14/19 [02:21<00:48,  9.62s/it]\u001b[A\n",
            " 79%|███████▉  | 15/19 [02:31<00:38,  9.69s/it]\u001b[A\n",
            " 84%|████████▍ | 16/19 [02:41<00:28,  9.65s/it]\u001b[A\n",
            " 89%|████████▉ | 17/19 [02:50<00:19,  9.67s/it]\u001b[A\n",
            " 95%|█████████▍| 18/19 [03:00<00:09,  9.69s/it]\u001b[A\n",
            "100%|██████████| 19/19 [03:09<00:00,  9.98s/it]\n",
            " 20%|██        | 1/5 [03:09<12:38, 189.57s/it]\n",
            "  0%|          | 0/19 [00:00<?, ?it/s]\u001b[A\n",
            "  5%|▌         | 1/19 [00:10<03:04, 10.26s/it]\u001b[A\n",
            " 11%|█         | 2/19 [00:20<02:55, 10.31s/it]\u001b[A\n",
            " 16%|█▌        | 3/19 [00:30<02:39,  9.97s/it]\u001b[A\n",
            " 21%|██        | 4/19 [00:38<02:21,  9.46s/it]\u001b[A\n",
            " 26%|██▋       | 5/19 [00:48<02:15,  9.67s/it]\u001b[A\n",
            " 32%|███▏      | 6/19 [00:57<02:02,  9.40s/it]\u001b[A\n",
            " 37%|███▋      | 7/19 [01:08<01:57,  9.77s/it]\u001b[A\n",
            " 42%|████▏     | 8/19 [01:17<01:45,  9.56s/it]\u001b[A\n",
            " 47%|████▋     | 9/19 [01:26<01:35,  9.51s/it]\u001b[A\n",
            " 53%|█████▎    | 10/19 [01:36<01:27,  9.68s/it]\u001b[A\n",
            " 58%|█████▊    | 11/19 [01:47<01:18,  9.84s/it]\u001b[A\n",
            " 63%|██████▎   | 12/19 [01:57<01:09,  9.93s/it]\u001b[A\n",
            " 68%|██████▊   | 13/19 [02:07<01:00, 10.01s/it]\u001b[A\n",
            " 74%|███████▎  | 14/19 [02:16<00:49,  9.81s/it]\u001b[A\n",
            " 79%|███████▉  | 15/19 [02:26<00:39,  9.77s/it]\u001b[A\n",
            " 84%|████████▍ | 16/19 [02:35<00:29,  9.67s/it]\u001b[A\n",
            " 89%|████████▉ | 17/19 [02:45<00:19,  9.68s/it]\u001b[A\n",
            " 95%|█████████▍| 18/19 [02:55<00:09,  9.69s/it]\u001b[A\n",
            "100%|██████████| 19/19 [03:05<00:00,  9.78s/it]\n",
            " 40%|████      | 2/5 [06:15<09:22, 187.33s/it]\n",
            "  0%|          | 0/19 [00:00<?, ?it/s]\u001b[A\n",
            "  5%|▌         | 1/19 [00:08<02:35,  8.63s/it]\u001b[A\n",
            " 11%|█         | 2/19 [00:18<02:43,  9.64s/it]\u001b[A\n",
            " 16%|█▌        | 3/19 [00:28<02:35,  9.70s/it]\u001b[A\n",
            " 21%|██        | 4/19 [00:37<02:19,  9.27s/it]\u001b[A\n",
            " 26%|██▋       | 5/19 [00:47<02:15,  9.71s/it]\u001b[A\n",
            " 32%|███▏      | 6/19 [00:57<02:04,  9.60s/it]\u001b[A\n",
            " 37%|███▋      | 7/19 [01:07<01:55,  9.66s/it]\u001b[A\n",
            " 42%|████▏     | 8/19 [01:16<01:46,  9.71s/it]\u001b[A\n",
            " 47%|████▋     | 9/19 [01:26<01:37,  9.71s/it]\u001b[A\n",
            " 53%|█████▎    | 10/19 [01:35<01:25,  9.47s/it]\u001b[A\n",
            " 58%|█████▊    | 11/19 [01:45<01:16,  9.52s/it]\u001b[A\n",
            " 63%|██████▎   | 12/19 [01:55<01:08,  9.83s/it]\u001b[A\n",
            " 68%|██████▊   | 13/19 [02:06<01:00, 10.08s/it]\u001b[A\n",
            " 74%|███████▎  | 14/19 [02:16<00:49,  9.97s/it]\u001b[A\n",
            " 79%|███████▉  | 15/19 [02:26<00:40, 10.06s/it]\u001b[A\n",
            " 84%|████████▍ | 16/19 [02:36<00:30, 10.03s/it]\u001b[A\n",
            " 89%|████████▉ | 17/19 [02:46<00:20, 10.08s/it]\u001b[A\n",
            " 95%|█████████▍| 18/19 [02:55<00:09,  9.89s/it]\u001b[A\n",
            "100%|██████████| 19/19 [03:06<00:00,  9.79s/it]\n",
            " 60%|██████    | 3/5 [09:21<06:13, 186.74s/it]\n",
            "  0%|          | 0/19 [00:00<?, ?it/s]\u001b[A\n",
            "  5%|▌         | 1/19 [00:10<03:10, 10.56s/it]\u001b[A\n",
            " 11%|█         | 2/19 [00:20<02:51, 10.11s/it]\u001b[A\n",
            " 16%|█▌        | 3/19 [00:31<02:47, 10.49s/it]\u001b[A\n",
            " 21%|██        | 4/19 [00:40<02:29,  9.98s/it]\u001b[A\n",
            " 26%|██▋       | 5/19 [00:49<02:14,  9.63s/it]\u001b[A\n",
            " 32%|███▏      | 6/19 [00:59<02:06,  9.77s/it]\u001b[A\n",
            " 37%|███▋      | 7/19 [01:09<01:58,  9.88s/it]\u001b[A\n",
            " 42%|████▏     | 8/19 [01:20<01:51, 10.11s/it]\u001b[A\n",
            " 47%|████▋     | 9/19 [01:29<01:37,  9.80s/it]\u001b[A\n",
            " 53%|█████▎    | 10/19 [01:40<01:30, 10.06s/it]\u001b[A\n",
            " 58%|█████▊    | 11/19 [01:49<01:18,  9.80s/it]\u001b[A\n",
            " 63%|██████▎   | 12/19 [01:58<01:06,  9.52s/it]\u001b[A\n",
            " 68%|██████▊   | 13/19 [02:07<00:57,  9.57s/it]\u001b[A\n",
            " 74%|███████▎  | 14/19 [02:17<00:48,  9.72s/it]\u001b[A\n",
            " 79%|███████▉  | 15/19 [02:27<00:39,  9.84s/it]\u001b[A\n",
            " 84%|████████▍ | 16/19 [02:38<00:29,  9.91s/it]\u001b[A\n",
            " 89%|████████▉ | 17/19 [02:47<00:19,  9.83s/it]\u001b[A\n",
            " 95%|█████████▍| 18/19 [02:57<00:09,  9.80s/it]\u001b[A\n",
            "100%|██████████| 19/19 [03:07<00:00,  9.84s/it]\n",
            " 80%|████████  | 4/5 [12:28<03:06, 186.86s/it]\n",
            "  0%|          | 0/19 [00:00<?, ?it/s]\u001b[A\n",
            "  5%|▌         | 1/19 [00:09<02:47,  9.32s/it]\u001b[A\n",
            " 11%|█         | 2/19 [00:18<02:35,  9.16s/it]\u001b[A\n",
            " 16%|█▌        | 3/19 [00:27<02:29,  9.31s/it]\u001b[A\n",
            " 21%|██        | 4/19 [00:37<02:23,  9.56s/it]\u001b[A\n",
            " 26%|██▋       | 5/19 [00:47<02:14,  9.59s/it]\u001b[A\n",
            " 32%|███▏      | 6/19 [00:56<02:02,  9.41s/it]\u001b[A\n",
            " 37%|███▋      | 7/19 [01:06<01:55,  9.60s/it]\u001b[A\n",
            " 42%|████▏     | 8/19 [01:16<01:45,  9.62s/it]\u001b[A\n",
            " 47%|████▋     | 9/19 [01:25<01:36,  9.61s/it]\u001b[A\n",
            " 53%|█████▎    | 10/19 [01:35<01:27,  9.74s/it]\u001b[A\n",
            " 58%|█████▊    | 11/19 [01:45<01:17,  9.65s/it]\u001b[A\n",
            " 63%|██████▎   | 12/19 [01:54<01:06,  9.56s/it]\u001b[A\n",
            " 68%|██████▊   | 13/19 [02:04<00:58,  9.73s/it]\u001b[A\n",
            " 74%|███████▎  | 14/19 [02:14<00:48,  9.63s/it]\u001b[A\n",
            " 79%|███████▉  | 15/19 [02:24<00:39,  9.98s/it]\u001b[A\n",
            " 84%|████████▍ | 16/19 [02:34<00:29,  9.92s/it]\u001b[A\n",
            " 89%|████████▉ | 17/19 [02:44<00:19,  9.93s/it]\u001b[A\n",
            " 95%|█████████▍| 18/19 [02:55<00:10, 10.23s/it]\u001b[A\n",
            "100%|██████████| 19/19 [03:04<00:00,  9.72s/it]\n",
            "100%|██████████| 5/5 [15:33<00:00, 186.63s/it]\n"
          ]
        },
        {
          "metadata": {
            "tags": null
          },
          "name": "stdout",
          "output_type": "stream",
          "text": [
            "OUTSIDE LOOP AUC of Best\n",
            "Complex name 4ESG AUCROC 0.9546026300743281 AUCPR 0.30050093987308807\n",
            "Equivalent epochs in one iteration of data loader 1.8452492066455106\n",
            "test complex  3D9T\n"
          ]
        },
        {
          "metadata": {
            "tags": null
          },
          "name": "stderr",
          "output_type": "stream",
          "text": [
            "  0%|          | 0/5 [00:00<?, ?it/s]\n",
            "  0%|          | 0/20 [00:00<?, ?it/s]\u001b[A\n",
            "  5%|▌         | 1/20 [00:10<03:13, 10.19s/it]\u001b[A"
          ]
        },
        {
          "metadata": {
            "tags": null
          },
          "name": "stdout",
          "output_type": "stream",
          "text": [
            "LOADED BEST AUCROC 0.8887578616352202 AUCPR 0.3462652537837272\n",
            "AUCROC 0.8887578616352202 AUCPR 0.3462652537837272 best aucroc 0.8887578616352202\n"
          ]
        },
        {
          "metadata": {
            "tags": null
          },
          "name": "stderr",
          "output_type": "stream",
          "text": [
            "\n",
            " 10%|█         | 2/20 [00:19<02:51,  9.53s/it]\u001b[A\n",
            " 15%|█▌        | 3/20 [00:28<02:38,  9.32s/it]\u001b[A\n",
            " 20%|██        | 4/20 [00:38<02:31,  9.47s/it]\u001b[A\n",
            " 25%|██▌       | 5/20 [00:47<02:22,  9.49s/it]\u001b[A\n",
            " 30%|███       | 6/20 [00:56<02:12,  9.47s/it]\u001b[A\n",
            " 35%|███▌      | 7/20 [01:06<02:03,  9.46s/it]\u001b[A\n",
            " 40%|████      | 8/20 [01:16<01:56,  9.70s/it]\u001b[A\n",
            " 45%|████▌     | 9/20 [01:26<01:45,  9.61s/it]\u001b[A\n",
            " 50%|█████     | 10/20 [01:36<01:38,  9.88s/it]\u001b[A\n",
            " 55%|█████▌    | 11/20 [01:46<01:29,  9.93s/it]\u001b[A\n",
            " 60%|██████    | 12/20 [01:55<01:17,  9.66s/it]\u001b[A\n",
            " 65%|██████▌   | 13/20 [02:05<01:08,  9.85s/it]\u001b[A"
          ]
        },
        {
          "metadata": {
            "tags": null
          },
          "name": "stdout",
          "output_type": "stream",
          "text": [
            "LOADED BEST AUCROC 0.8924640610961365 AUCPR 0.2662097104075169\n",
            "AUCROC 0.8924640610961365 AUCPR 0.2662097104075169 best aucroc 0.8924640610961365\n"
          ]
        },
        {
          "metadata": {
            "tags": null
          },
          "name": "stderr",
          "output_type": "stream",
          "text": [
            "\n",
            " 70%|███████   | 14/20 [02:16<00:59,  9.93s/it]\u001b[A\n",
            " 75%|███████▌  | 15/20 [02:25<00:48,  9.76s/it]\u001b[A\n",
            " 80%|████████  | 16/20 [02:34<00:38,  9.70s/it]\u001b[A\n",
            " 85%|████████▌ | 17/20 [02:44<00:29,  9.74s/it]\u001b[A\n",
            " 90%|█████████ | 18/20 [02:53<00:19,  9.55s/it]\u001b[A\n",
            " 95%|█████████▌| 19/20 [03:03<00:09,  9.50s/it]\u001b[A\n",
            "100%|██████████| 20/20 [03:13<00:00,  9.69s/it]\n",
            " 20%|██        | 1/5 [03:13<12:54, 193.72s/it]\n",
            "  0%|          | 0/20 [00:00<?, ?it/s]\u001b[A\n",
            "  5%|▌         | 1/20 [00:09<02:57,  9.35s/it]\u001b[A\n",
            " 10%|█         | 2/20 [00:18<02:46,  9.25s/it]\u001b[A\n",
            " 15%|█▌        | 3/20 [00:28<02:46,  9.78s/it]\u001b[A\n",
            " 20%|██        | 4/20 [00:38<02:35,  9.72s/it]\u001b[A\n",
            " 25%|██▌       | 5/20 [00:48<02:29,  9.97s/it]\u001b[A\n",
            " 30%|███       | 6/20 [00:58<02:15,  9.69s/it]\u001b[A\n",
            " 35%|███▌      | 7/20 [01:07<02:04,  9.56s/it]\u001b[A\n",
            " 40%|████      | 8/20 [01:16<01:51,  9.30s/it]\u001b[A\n",
            " 45%|████▌     | 9/20 [01:25<01:42,  9.34s/it]\u001b[A\n",
            " 50%|█████     | 10/20 [01:36<01:37,  9.70s/it]\u001b[A\n",
            " 55%|█████▌    | 11/20 [01:45<01:26,  9.56s/it]\u001b[A\n",
            " 60%|██████    | 12/20 [01:54<01:16,  9.54s/it]\u001b[A\n",
            " 65%|██████▌   | 13/20 [02:03<01:05,  9.38s/it]\u001b[A\n",
            " 70%|███████   | 14/20 [02:14<00:57,  9.63s/it]\u001b[A\n",
            " 75%|███████▌  | 15/20 [02:23<00:47,  9.54s/it]\u001b[A\n",
            " 80%|████████  | 16/20 [02:32<00:38,  9.55s/it]\u001b[A\n",
            " 85%|████████▌ | 17/20 [02:42<00:29,  9.67s/it]\u001b[A\n",
            " 90%|█████████ | 18/20 [02:51<00:18,  9.29s/it]\u001b[A\n",
            " 95%|█████████▌| 19/20 [03:00<00:09,  9.26s/it]\u001b[A\n",
            "100%|██████████| 20/20 [03:08<00:00,  9.42s/it]\n",
            " 40%|████      | 2/5 [06:22<09:31, 190.61s/it]\n",
            "  0%|          | 0/20 [00:00<?, ?it/s]\u001b[A\n",
            "  5%|▌         | 1/20 [00:10<03:10, 10.04s/it]\u001b[A\n",
            " 10%|█         | 2/20 [00:18<02:44,  9.11s/it]\u001b[A\n",
            " 15%|█▌        | 3/20 [00:27<02:32,  8.96s/it]\u001b[A\n",
            " 20%|██        | 4/20 [00:37<02:30,  9.43s/it]\u001b[A\n",
            " 25%|██▌       | 5/20 [00:46<02:20,  9.40s/it]\u001b[A\n",
            " 30%|███       | 6/20 [00:56<02:11,  9.40s/it]\u001b[A\n",
            " 35%|███▌      | 7/20 [01:05<02:03,  9.48s/it]\u001b[A\n",
            " 40%|████      | 8/20 [01:15<01:56,  9.67s/it]\u001b[A\n",
            " 45%|████▌     | 9/20 [01:24<01:43,  9.39s/it]\u001b[A\n",
            " 50%|█████     | 10/20 [01:34<01:36,  9.67s/it]\u001b[A\n",
            " 55%|█████▌    | 11/20 [01:43<01:24,  9.37s/it]\u001b[A\n",
            " 60%|██████    | 12/20 [01:52<01:13,  9.23s/it]\u001b[A\n",
            " 65%|██████▌   | 13/20 [02:02<01:05,  9.42s/it]\u001b[A\n",
            " 70%|███████   | 14/20 [02:11<00:56,  9.46s/it]\u001b[A\n",
            " 75%|███████▌  | 15/20 [02:23<00:50, 10.00s/it]\u001b[A\n",
            " 80%|████████  | 16/20 [02:31<00:38,  9.62s/it]\u001b[A\n",
            " 85%|████████▌ | 17/20 [02:40<00:27,  9.22s/it]\u001b[A\n",
            " 90%|█████████ | 18/20 [02:50<00:18,  9.42s/it]\u001b[A\n",
            " 95%|█████████▌| 19/20 [03:00<00:09,  9.65s/it]\u001b[A\n",
            "100%|██████████| 20/20 [03:09<00:00,  9.48s/it]\n",
            " 60%|██████    | 3/5 [09:31<06:20, 190.15s/it]\n",
            "  0%|          | 0/20 [00:00<?, ?it/s]\u001b[A\n",
            "  5%|▌         | 1/20 [00:09<03:05,  9.78s/it]\u001b[A\n",
            " 10%|█         | 2/20 [00:18<02:46,  9.22s/it]\u001b[A\n",
            " 15%|█▌        | 3/20 [00:28<02:39,  9.36s/it]\u001b[A\n",
            " 20%|██        | 4/20 [00:37<02:31,  9.49s/it]\u001b[A\n",
            " 25%|██▌       | 5/20 [00:46<02:20,  9.34s/it]\u001b[A\n",
            " 30%|███       | 6/20 [00:56<02:13,  9.54s/it]\u001b[A\n",
            " 35%|███▌      | 7/20 [01:04<01:57,  9.06s/it]\u001b[A\n",
            " 40%|████      | 8/20 [01:13<01:47,  8.93s/it]\u001b[A\n",
            " 45%|████▌     | 9/20 [01:23<01:42,  9.34s/it]\u001b[A\n",
            " 50%|█████     | 10/20 [01:33<01:35,  9.52s/it]\u001b[A\n",
            " 55%|█████▌    | 11/20 [01:43<01:27,  9.72s/it]\u001b[A\n",
            " 60%|██████    | 12/20 [01:53<01:16,  9.60s/it]\u001b[A\n",
            " 65%|██████▌   | 13/20 [02:02<01:07,  9.59s/it]\u001b[A\n",
            " 70%|███████   | 14/20 [02:12<00:57,  9.63s/it]\u001b[A\n",
            " 75%|███████▌  | 15/20 [02:22<00:48,  9.73s/it]\u001b[A\n",
            " 80%|████████  | 16/20 [02:33<00:40, 10.04s/it]\u001b[A\n",
            " 85%|████████▌ | 17/20 [02:42<00:29,  9.79s/it]\u001b[A\n",
            " 90%|█████████ | 18/20 [02:51<00:19,  9.63s/it]\u001b[A\n",
            " 95%|█████████▌| 19/20 [03:00<00:09,  9.40s/it]\u001b[A\n",
            "100%|██████████| 20/20 [03:08<00:00,  9.45s/it]\n",
            " 80%|████████  | 4/5 [12:40<03:09, 189.68s/it]\n",
            "  0%|          | 0/20 [00:00<?, ?it/s]\u001b[A\n",
            "  5%|▌         | 1/20 [00:09<02:55,  9.21s/it]\u001b[A\n",
            " 10%|█         | 2/20 [00:19<02:53,  9.62s/it]\u001b[A\n",
            " 15%|█▌        | 3/20 [00:28<02:45,  9.74s/it]\u001b[A\n",
            " 20%|██        | 4/20 [00:39<02:39,  9.98s/it]\u001b[A\n",
            " 25%|██▌       | 5/20 [00:49<02:29,  9.96s/it]\u001b[A\n",
            " 30%|███       | 6/20 [00:58<02:14,  9.61s/it]\u001b[A\n",
            " 35%|███▌      | 7/20 [01:08<02:06,  9.74s/it]\u001b[A\n",
            " 40%|████      | 8/20 [01:16<01:52,  9.35s/it]\u001b[A\n",
            " 45%|████▌     | 9/20 [01:26<01:45,  9.59s/it]\u001b[A\n",
            " 50%|█████     | 10/20 [01:35<01:33,  9.40s/it]\u001b[A\n",
            " 55%|█████▌    | 11/20 [01:44<01:23,  9.31s/it]\u001b[A\n",
            " 60%|██████    | 12/20 [01:54<01:14,  9.36s/it]\u001b[A\n",
            " 65%|██████▌   | 13/20 [02:04<01:06,  9.44s/it]\u001b[A\n",
            " 70%|███████   | 14/20 [02:14<00:57,  9.66s/it]\u001b[A\n",
            " 75%|███████▌  | 15/20 [02:22<00:46,  9.26s/it]\u001b[A\n",
            " 80%|████████  | 16/20 [02:31<00:36,  9.19s/it]\u001b[A\n",
            " 85%|████████▌ | 17/20 [02:40<00:27,  9.17s/it]\u001b[A\n",
            " 90%|█████████ | 18/20 [02:51<00:19,  9.52s/it]\u001b[A\n",
            " 95%|█████████▌| 19/20 [03:01<00:09,  9.69s/it]\u001b[A\n",
            "100%|██████████| 20/20 [03:10<00:00,  9.51s/it]\n",
            "100%|██████████| 5/5 [15:50<00:00, 190.20s/it]\n"
          ]
        },
        {
          "metadata": {
            "tags": null
          },
          "name": "stdout",
          "output_type": "stream",
          "text": [
            "OUTSIDE LOOP AUC of Best\n",
            "Complex name 3D9T AUCROC 0.8924640610961365 AUCPR 0.2662097104075169\n",
            "Equivalent epochs in one iteration of data loader 1.844325718496684\n",
            "test complex  2FLU\n"
          ]
        },
        {
          "metadata": {
            "tags": null
          },
          "name": "stderr",
          "output_type": "stream",
          "text": [
            "  0%|          | 0/5 [00:00<?, ?it/s]\n",
            "  0%|          | 0/20 [00:00<?, ?it/s]\u001b[A\n",
            "  5%|▌         | 1/20 [00:10<03:18, 10.45s/it]\u001b[A"
          ]
        },
        {
          "metadata": {
            "tags": null
          },
          "name": "stdout",
          "output_type": "stream",
          "text": [
            "LOADED BEST AUCROC 0.8787581699346404 AUCPR 0.1886904889357478\n",
            "AUCROC 0.8787581699346404 AUCPR 0.1886904889357478 best aucroc 0.8787581699346404\n"
          ]
        },
        {
          "metadata": {
            "tags": null
          },
          "name": "stderr",
          "output_type": "stream",
          "text": [
            "\n",
            " 10%|█         | 2/20 [00:19<02:52,  9.59s/it]\u001b[A"
          ]
        },
        {
          "metadata": {
            "tags": null
          },
          "name": "stdout",
          "output_type": "stream",
          "text": [
            "LOADED BEST AUCROC 0.8859477124183007 AUCPR 0.22135894895356345\n",
            "AUCROC 0.8859477124183007 AUCPR 0.22135894895356345 best aucroc 0.8859477124183007\n"
          ]
        },
        {
          "metadata": {
            "tags": null
          },
          "name": "stderr",
          "output_type": "stream",
          "text": [
            "\n",
            " 15%|█▌        | 3/20 [00:29<02:46,  9.80s/it]\u001b[A"
          ]
        },
        {
          "metadata": {
            "tags": null
          },
          "name": "stdout",
          "output_type": "stream",
          "text": [
            "LOADED BEST AUCROC 0.8867647058823529 AUCPR 0.2153822786070032\n",
            "AUCROC 0.8867647058823529 AUCPR 0.2153822786070032 best aucroc 0.8867647058823529\n"
          ]
        },
        {
          "metadata": {
            "tags": null
          },
          "name": "stderr",
          "output_type": "stream",
          "text": [
            "\n",
            " 20%|██        | 4/20 [00:38<02:34,  9.63s/it]\u001b[A"
          ]
        },
        {
          "metadata": {
            "tags": null
          },
          "name": "stdout",
          "output_type": "stream",
          "text": [
            "LOADED BEST AUCROC 0.8995098039215687 AUCPR 0.21853419859815149\n",
            "AUCROC 0.8995098039215687 AUCPR 0.21853419859815149 best aucroc 0.8995098039215687\n"
          ]
        },
        {
          "metadata": {
            "tags": null
          },
          "name": "stderr",
          "output_type": "stream",
          "text": [
            "\n",
            " 25%|██▌       | 5/20 [00:47<02:18,  9.24s/it]\u001b[A\n",
            " 30%|███       | 6/20 [00:56<02:08,  9.21s/it]\u001b[A\n",
            " 35%|███▌      | 7/20 [01:06<02:00,  9.30s/it]\u001b[A\n",
            " 40%|████      | 8/20 [01:15<01:53,  9.45s/it]\u001b[A\n",
            " 45%|████▌     | 9/20 [01:23<01:37,  8.86s/it]\u001b[A\n",
            " 50%|█████     | 10/20 [01:31<01:26,  8.65s/it]\u001b[A\n",
            " 55%|█████▌    | 11/20 [01:40<01:18,  8.74s/it]\u001b[A\n",
            " 60%|██████    | 12/20 [01:50<01:12,  9.04s/it]\u001b[A\n",
            " 65%|██████▌   | 13/20 [01:59<01:02,  8.99s/it]\u001b[A\n",
            " 70%|███████   | 14/20 [02:08<00:54,  9.09s/it]\u001b[A\n",
            " 75%|███████▌  | 15/20 [02:19<00:47,  9.56s/it]\u001b[A\n",
            " 80%|████████  | 16/20 [02:27<00:37,  9.27s/it]\u001b[A\n",
            " 85%|████████▌ | 17/20 [02:36<00:27,  9.22s/it]\u001b[A\n",
            " 90%|█████████ | 18/20 [02:46<00:18,  9.24s/it]\u001b[A\n",
            " 95%|█████████▌| 19/20 [02:54<00:09,  9.13s/it]\u001b[A\n",
            "100%|██████████| 20/20 [03:03<00:00,  9.18s/it]\n",
            " 20%|██        | 1/5 [03:03<12:14, 183.56s/it]\n",
            "  0%|          | 0/20 [00:00<?, ?it/s]\u001b[A\n",
            "  5%|▌         | 1/20 [00:09<02:53,  9.15s/it]\u001b[A\n",
            " 10%|█         | 2/20 [00:19<02:52,  9.59s/it]\u001b[A\n",
            " 15%|█▌        | 3/20 [00:27<02:36,  9.21s/it]\u001b[A\n",
            " 20%|██        | 4/20 [00:37<02:28,  9.27s/it]\u001b[A\n",
            " 25%|██▌       | 5/20 [00:45<02:15,  9.05s/it]\u001b[A\n",
            " 30%|███       | 6/20 [00:55<02:07,  9.10s/it]\u001b[A\n",
            " 35%|███▌      | 7/20 [01:03<01:57,  9.01s/it]\u001b[A\n",
            " 40%|████      | 8/20 [01:11<01:44,  8.71s/it]\u001b[A\n",
            " 45%|████▌     | 9/20 [01:20<01:34,  8.55s/it]\u001b[A\n",
            " 50%|█████     | 10/20 [01:29<01:28,  8.84s/it]\u001b[A\n",
            " 55%|█████▌    | 11/20 [01:37<01:16,  8.45s/it]\u001b[A\n",
            " 60%|██████    | 12/20 [01:47<01:11,  8.90s/it]\u001b[A\n",
            " 65%|██████▌   | 13/20 [01:56<01:03,  9.05s/it]\u001b[A\n",
            " 70%|███████   | 14/20 [02:04<00:52,  8.72s/it]\u001b[A\n",
            " 75%|███████▌  | 15/20 [02:14<00:46,  9.20s/it]\u001b[A\n",
            " 80%|████████  | 16/20 [02:24<00:37,  9.30s/it]\u001b[A\n",
            " 85%|████████▌ | 17/20 [02:34<00:28,  9.59s/it]\u001b[A\n",
            " 90%|█████████ | 18/20 [02:43<00:18,  9.36s/it]\u001b[A\n",
            " 95%|█████████▌| 19/20 [02:52<00:09,  9.22s/it]\u001b[A\n",
            "100%|██████████| 20/20 [03:00<00:00,  9.02s/it]\n",
            " 40%|████      | 2/5 [06:03<09:05, 181.72s/it]\n",
            "  0%|          | 0/20 [00:00<?, ?it/s]\u001b[A\n",
            "  5%|▌         | 1/20 [00:08<02:42,  8.54s/it]\u001b[A\n",
            " 10%|█         | 2/20 [00:17<02:40,  8.93s/it]\u001b[A\n",
            " 15%|█▌        | 3/20 [00:27<02:40,  9.47s/it]\u001b[A\n",
            " 20%|██        | 4/20 [00:36<02:26,  9.18s/it]\u001b[A\n",
            " 25%|██▌       | 5/20 [00:45<02:17,  9.16s/it]\u001b[A\n",
            " 30%|███       | 6/20 [00:55<02:11,  9.39s/it]\u001b[A\n",
            " 35%|███▌      | 7/20 [01:05<02:03,  9.53s/it]\u001b[A\n",
            " 40%|████      | 8/20 [01:15<01:55,  9.64s/it]\u001b[A\n",
            " 45%|████▌     | 9/20 [01:23<01:42,  9.30s/it]\u001b[A\n",
            " 50%|█████     | 10/20 [01:32<01:31,  9.10s/it]\u001b[A\n",
            " 55%|█████▌    | 11/20 [01:42<01:23,  9.29s/it]\u001b[A\n",
            " 60%|██████    | 12/20 [01:50<01:12,  9.11s/it]\u001b[A\n",
            " 65%|██████▌   | 13/20 [01:59<01:02,  8.98s/it]\u001b[A\n",
            " 70%|███████   | 14/20 [02:07<00:52,  8.79s/it]\u001b[A\n",
            " 75%|███████▌  | 15/20 [02:16<00:44,  8.80s/it]\u001b[A\n",
            " 80%|████████  | 16/20 [02:25<00:35,  8.87s/it]\u001b[A\n",
            " 85%|████████▌ | 17/20 [02:34<00:26,  8.71s/it]\u001b[A\n",
            " 90%|█████████ | 18/20 [02:42<00:17,  8.73s/it]\u001b[A\n",
            " 95%|█████████▌| 19/20 [02:51<00:08,  8.71s/it]\u001b[A\n",
            "100%|██████████| 20/20 [02:59<00:00,  9.00s/it]\n",
            " 60%|██████    | 3/5 [09:03<06:01, 180.92s/it]\n",
            "  0%|          | 0/20 [00:00<?, ?it/s]\u001b[A\n",
            "  5%|▌         | 1/20 [00:09<02:53,  9.11s/it]\u001b[A\n",
            " 10%|█         | 2/20 [00:17<02:36,  8.70s/it]\u001b[A\n",
            " 15%|█▌        | 3/20 [00:27<02:34,  9.08s/it]\u001b[A\n",
            " 20%|██        | 4/20 [00:35<02:24,  9.02s/it]\u001b[A\n",
            " 25%|██▌       | 5/20 [00:44<02:14,  8.96s/it]\u001b[A\n",
            " 30%|███       | 6/20 [00:53<02:03,  8.84s/it]\u001b[A\n",
            " 35%|███▌      | 7/20 [01:02<01:55,  8.88s/it]\u001b[A\n",
            " 40%|████      | 8/20 [01:11<01:48,  9.05s/it]\u001b[A\n",
            " 45%|████▌     | 9/20 [01:20<01:37,  8.86s/it]\u001b[A\n",
            " 50%|█████     | 10/20 [01:30<01:33,  9.31s/it]\u001b[A\n",
            " 55%|█████▌    | 11/20 [01:40<01:26,  9.63s/it]\u001b[A\n",
            " 60%|██████    | 12/20 [01:49<01:15,  9.41s/it]\u001b[A\n",
            " 65%|██████▌   | 13/20 [01:58<01:05,  9.31s/it]\u001b[A\n",
            " 70%|███████   | 14/20 [02:06<00:53,  8.90s/it]\u001b[A\n",
            " 75%|███████▌  | 15/20 [02:15<00:44,  8.93s/it]\u001b[A\n",
            " 80%|████████  | 16/20 [02:25<00:36,  9.09s/it]\u001b[A\n",
            " 85%|████████▌ | 17/20 [02:33<00:26,  8.89s/it]\u001b[A\n",
            " 90%|█████████ | 18/20 [02:42<00:17,  8.87s/it]\u001b[A\n",
            " 95%|█████████▌| 19/20 [02:51<00:08,  8.96s/it]\u001b[A\n",
            "100%|██████████| 20/20 [03:00<00:00,  9.04s/it]\n",
            " 80%|████████  | 4/5 [12:04<03:00, 180.85s/it]\n",
            "  0%|          | 0/20 [00:00<?, ?it/s]\u001b[A\n",
            "  5%|▌         | 1/20 [00:08<02:46,  8.75s/it]\u001b[A\n",
            " 10%|█         | 2/20 [00:16<02:30,  8.37s/it]\u001b[A\n",
            " 15%|█▌        | 3/20 [00:26<02:28,  8.76s/it]\u001b[A\n",
            " 20%|██        | 4/20 [00:35<02:26,  9.16s/it]\u001b[A\n",
            " 25%|██▌       | 5/20 [00:46<02:23,  9.57s/it]\u001b[A\n",
            " 30%|███       | 6/20 [00:54<02:09,  9.22s/it]\u001b[A\n",
            " 35%|███▌      | 7/20 [01:04<02:01,  9.33s/it]\u001b[A\n",
            " 40%|████      | 8/20 [01:14<01:55,  9.64s/it]\u001b[A\n",
            " 45%|████▌     | 9/20 [01:22<01:40,  9.15s/it]\u001b[A\n",
            " 50%|█████     | 10/20 [01:30<01:28,  8.85s/it]\u001b[A\n",
            " 55%|█████▌    | 11/20 [01:38<01:17,  8.60s/it]\u001b[A\n",
            " 60%|██████    | 12/20 [01:47<01:09,  8.75s/it]\u001b[A\n",
            " 65%|██████▌   | 13/20 [01:57<01:03,  9.09s/it]\u001b[A\n",
            " 70%|███████   | 14/20 [02:06<00:53,  8.94s/it]\u001b[A\n",
            " 75%|███████▌  | 15/20 [02:16<00:45,  9.19s/it]\u001b[A\n",
            " 80%|████████  | 16/20 [02:24<00:35,  8.78s/it]\u001b[A\n",
            " 85%|████████▌ | 17/20 [02:33<00:26,  8.97s/it]\u001b[A\n",
            " 90%|█████████ | 18/20 [02:42<00:18,  9.02s/it]\u001b[A\n",
            " 95%|█████████▌| 19/20 [02:51<00:08,  8.90s/it]\u001b[A\n",
            "100%|██████████| 20/20 [03:00<00:00,  9.03s/it]\n",
            "100%|██████████| 5/5 [15:05<00:00, 181.06s/it]\n"
          ]
        },
        {
          "metadata": {
            "tags": null
          },
          "name": "stdout",
          "output_type": "stream",
          "text": [
            "OUTSIDE LOOP AUC of Best\n",
            "Complex name 2FLU AUCROC 0.8995098039215687 AUCPR 0.21853419859815149\n",
            "Equivalent epochs in one iteration of data loader 1.8627039839547817\n",
            "test complex  4QC3\n"
          ]
        },
        {
          "metadata": {
            "tags": null
          },
          "name": "stderr",
          "output_type": "stream",
          "text": [
            "  0%|          | 0/5 [00:00<?, ?it/s]\n",
            "  0%|          | 0/20 [00:00<?, ?it/s]\u001b[A\n",
            "  5%|▌         | 1/20 [00:15<04:45, 15.03s/it]\u001b[A"
          ]
        },
        {
          "metadata": {
            "tags": null
          },
          "name": "stdout",
          "output_type": "stream",
          "text": [
            "LOADED BEST AUCROC 0.8899747793190416 AUCPR 0.673335436677216\n",
            "AUCROC 0.8899747793190416 AUCPR 0.673335436677216 best aucroc 0.8899747793190416\n"
          ]
        },
        {
          "metadata": {
            "tags": null
          },
          "name": "stderr",
          "output_type": "stream",
          "text": [
            "\n",
            " 10%|█         | 2/20 [00:29<04:20, 14.49s/it]\u001b[A"
          ]
        },
        {
          "metadata": {
            "tags": null
          },
          "name": "stdout",
          "output_type": "stream",
          "text": [
            "LOADED BEST AUCROC 0.8985498108448928 AUCPR 0.7002421502804976\n",
            "AUCROC 0.8985498108448928 AUCPR 0.7002421502804976 best aucroc 0.8985498108448928\n"
          ]
        },
        {
          "metadata": {
            "tags": null
          },
          "name": "stderr",
          "output_type": "stream",
          "text": [
            "\n",
            " 15%|█▌        | 3/20 [00:43<04:06, 14.49s/it]\u001b[A"
          ]
        },
        {
          "metadata": {
            "tags": null
          },
          "name": "stdout",
          "output_type": "stream",
          "text": [
            "LOADED BEST AUCROC 0.9012610340479194 AUCPR 0.7193343549390112\n",
            "AUCROC 0.9012610340479194 AUCPR 0.7193343549390112 best aucroc 0.9012610340479194\n"
          ]
        },
        {
          "metadata": {
            "tags": null
          },
          "name": "stderr",
          "output_type": "stream",
          "text": [
            "\n",
            " 20%|██        | 4/20 [00:55<03:36, 13.51s/it]\u001b[A\n",
            " 25%|██▌       | 5/20 [01:10<03:29, 13.96s/it]\u001b[A"
          ]
        },
        {
          "metadata": {
            "tags": null
          },
          "name": "stdout",
          "output_type": "stream",
          "text": [
            "LOADED BEST AUCROC 0.9058638083228248 AUCPR 0.7309197257508024\n",
            "AUCROC 0.9058638083228248 AUCPR 0.7309197257508024 best aucroc 0.9058638083228248\n"
          ]
        },
        {
          "metadata": {
            "tags": null
          },
          "name": "stderr",
          "output_type": "stream",
          "text": [
            "\n",
            " 30%|███       | 6/20 [01:25<03:20, 14.31s/it]\u001b[A"
          ]
        },
        {
          "metadata": {
            "tags": null
          },
          "name": "stdout",
          "output_type": "stream",
          "text": [
            "LOADED BEST AUCROC 0.9103404791929381 AUCPR 0.7230097241461992\n",
            "AUCROC 0.9103404791929381 AUCPR 0.7230097241461992 best aucroc 0.9103404791929381\n"
          ]
        },
        {
          "metadata": {
            "tags": null
          },
          "name": "stderr",
          "output_type": "stream",
          "text": [
            "\n",
            " 35%|███▌      | 7/20 [01:41<03:14, 14.96s/it]\u001b[A"
          ]
        },
        {
          "metadata": {
            "tags": null
          },
          "name": "stdout",
          "output_type": "stream",
          "text": [
            "LOADED BEST AUCROC 0.9124842370744011 AUCPR 0.725867662110802\n",
            "AUCROC 0.9124842370744011 AUCPR 0.725867662110802 best aucroc 0.9124842370744011\n"
          ]
        },
        {
          "metadata": {
            "tags": null
          },
          "name": "stderr",
          "output_type": "stream",
          "text": [
            "\n",
            " 40%|████      | 8/20 [01:57<03:01, 15.10s/it]\u001b[A"
          ]
        },
        {
          "metadata": {
            "tags": null
          },
          "name": "stdout",
          "output_type": "stream",
          "text": [
            "LOADED BEST AUCROC 0.9128625472887767 AUCPR 0.7329447354578033\n",
            "AUCROC 0.9128625472887767 AUCPR 0.7329447354578033 best aucroc 0.9128625472887767\n"
          ]
        },
        {
          "metadata": {
            "tags": null
          },
          "name": "stderr",
          "output_type": "stream",
          "text": [
            "\n",
            " 45%|████▌     | 9/20 [02:07<02:31, 13.73s/it]\u001b[A\n",
            " 50%|█████     | 10/20 [02:19<02:10, 13.07s/it]\u001b[A\n",
            " 55%|█████▌    | 11/20 [02:31<01:55, 12.80s/it]\u001b[A\n",
            " 60%|██████    | 12/20 [02:44<01:42, 12.83s/it]\u001b[A\n",
            " 65%|██████▌   | 13/20 [02:56<01:28, 12.64s/it]\u001b[A\n",
            " 70%|███████   | 14/20 [03:08<01:14, 12.40s/it]\u001b[A\n",
            " 75%|███████▌  | 15/20 [03:19<00:59, 11.97s/it]\u001b[A\n",
            " 80%|████████  | 16/20 [03:29<00:45, 11.38s/it]\u001b[A\n",
            " 85%|████████▌ | 17/20 [03:40<00:34, 11.36s/it]\u001b[A\n",
            " 90%|█████████ | 18/20 [03:52<00:22, 11.39s/it]\u001b[A\n",
            " 95%|█████████▌| 19/20 [04:03<00:11, 11.36s/it]\u001b[A\n",
            "100%|██████████| 20/20 [04:14<00:00, 12.75s/it]\n",
            " 20%|██        | 1/5 [04:14<16:59, 254.99s/it]\n",
            "  0%|          | 0/20 [00:00<?, ?it/s]\u001b[A\n",
            "  5%|▌         | 1/20 [00:11<03:37, 11.46s/it]\u001b[A\n",
            " 10%|█         | 2/20 [00:24<03:37, 12.10s/it]\u001b[A\n",
            " 15%|█▌        | 3/20 [00:34<03:16, 11.54s/it]\u001b[A\n",
            " 20%|██        | 4/20 [00:46<03:08, 11.75s/it]\u001b[A\n",
            " 25%|██▌       | 5/20 [00:58<02:53, 11.55s/it]\u001b[A\n",
            " 30%|███       | 6/20 [01:09<02:41, 11.53s/it]\u001b[A\n",
            " 35%|███▌      | 7/20 [01:21<02:32, 11.71s/it]\u001b[A\n",
            " 40%|████      | 8/20 [01:33<02:21, 11.81s/it]\u001b[A\n",
            " 45%|████▌     | 9/20 [01:45<02:09, 11.80s/it]\u001b[A\n",
            " 50%|█████     | 10/20 [01:57<01:57, 11.72s/it]\u001b[A\n",
            " 55%|█████▌    | 11/20 [02:08<01:44, 11.62s/it]\u001b[A\n",
            " 60%|██████    | 12/20 [02:18<01:29, 11.24s/it]\u001b[A\n",
            " 65%|██████▌   | 13/20 [02:30<01:20, 11.48s/it]\u001b[A\n",
            " 70%|███████   | 14/20 [02:42<01:09, 11.57s/it]\u001b[A\n",
            " 75%|███████▌  | 15/20 [02:54<00:58, 11.74s/it]\u001b[A\n",
            " 80%|████████  | 16/20 [03:07<00:47, 12.00s/it]\u001b[A\n",
            " 85%|████████▌ | 17/20 [03:18<00:35, 11.77s/it]\u001b[A\n",
            " 90%|█████████ | 18/20 [03:29<00:23, 11.65s/it]\u001b[A\n",
            " 95%|█████████▌| 19/20 [03:41<00:11, 11.52s/it]\u001b[A\n",
            "100%|██████████| 20/20 [03:51<00:00, 11.58s/it]\n",
            " 40%|████      | 2/5 [08:06<12:03, 241.28s/it]\n",
            "  0%|          | 0/20 [00:00<?, ?it/s]\u001b[A\n",
            "  5%|▌         | 1/20 [00:11<03:30, 11.07s/it]\u001b[A\n",
            " 10%|█         | 2/20 [00:22<03:21, 11.19s/it]\u001b[A\n",
            " 15%|█▌        | 3/20 [00:34<03:14, 11.46s/it]\u001b[A\n",
            " 20%|██        | 4/20 [00:45<03:05, 11.56s/it]\u001b[A\n",
            " 25%|██▌       | 5/20 [00:58<03:01, 12.08s/it]\u001b[A\n",
            " 30%|███       | 6/20 [01:11<02:51, 12.24s/it]\u001b[A\n",
            " 35%|███▌      | 7/20 [01:22<02:36, 12.01s/it]\u001b[A\n",
            " 40%|████      | 8/20 [01:34<02:21, 11.81s/it]\u001b[A\n",
            " 45%|████▌     | 9/20 [01:46<02:11, 11.94s/it]\u001b[A\n",
            " 50%|█████     | 10/20 [01:59<02:03, 12.34s/it]\u001b[A\n",
            " 55%|█████▌    | 11/20 [02:10<01:46, 11.86s/it]\u001b[A\n",
            " 60%|██████    | 12/20 [02:21<01:33, 11.64s/it]\u001b[A\n",
            " 65%|██████▌   | 13/20 [02:33<01:21, 11.62s/it]\u001b[A\n",
            " 70%|███████   | 14/20 [02:45<01:10, 11.71s/it]\u001b[A\n",
            " 75%|███████▌  | 15/20 [02:56<00:57, 11.47s/it]\u001b[A\n",
            " 80%|████████  | 16/20 [03:07<00:45, 11.42s/it]\u001b[A\n",
            " 85%|████████▌ | 17/20 [03:18<00:34, 11.35s/it]\u001b[A\n",
            " 90%|█████████ | 18/20 [03:29<00:22, 11.33s/it]\u001b[A\n",
            " 95%|█████████▌| 19/20 [03:41<00:11, 11.47s/it]\u001b[A\n",
            "100%|██████████| 20/20 [03:52<00:00, 11.62s/it]\n",
            " 60%|██████    | 3/5 [11:59<07:54, 237.21s/it]\n",
            "  0%|          | 0/20 [00:00<?, ?it/s]\u001b[A\n",
            "  5%|▌         | 1/20 [00:11<03:34, 11.27s/it]\u001b[A\n",
            " 10%|█         | 2/20 [00:23<03:32, 11.81s/it]\u001b[A\n",
            " 15%|█▌        | 3/20 [00:35<03:19, 11.73s/it]\u001b[A\n",
            " 20%|██        | 4/20 [00:46<03:07, 11.70s/it]\u001b[A\n",
            " 25%|██▌       | 5/20 [00:57<02:52, 11.48s/it]\u001b[A\n",
            " 30%|███       | 6/20 [01:10<02:45, 11.82s/it]\u001b[A\n",
            " 35%|███▌      | 7/20 [01:20<02:28, 11.43s/it]\u001b[A\n",
            " 40%|████      | 8/20 [01:32<02:16, 11.40s/it]\u001b[A\n",
            " 45%|████▌     | 9/20 [01:44<02:08, 11.64s/it]\u001b[A\n",
            " 50%|█████     | 10/20 [01:56<01:57, 11.72s/it]\u001b[A\n",
            " 55%|█████▌    | 11/20 [02:07<01:42, 11.43s/it]\u001b[A\n",
            " 60%|██████    | 12/20 [02:18<01:32, 11.54s/it]\u001b[A\n",
            " 65%|██████▌   | 13/20 [02:29<01:19, 11.40s/it]\u001b[A\n",
            " 70%|███████   | 14/20 [02:41<01:08, 11.36s/it]\u001b[A\n",
            " 75%|███████▌  | 15/20 [02:52<00:57, 11.47s/it]\u001b[A\n",
            " 80%|████████  | 16/20 [03:04<00:45, 11.44s/it]\u001b[A\n",
            " 85%|████████▌ | 17/20 [03:16<00:34, 11.58s/it]\u001b[A\n",
            " 90%|█████████ | 18/20 [03:27<00:23, 11.56s/it]\u001b[A\n",
            " 95%|█████████▌| 19/20 [03:39<00:11, 11.54s/it]\u001b[A\n",
            "100%|██████████| 20/20 [03:51<00:00, 11.56s/it]\n",
            " 80%|████████  | 4/5 [15:50<03:54, 234.84s/it]\n",
            "  0%|          | 0/20 [00:00<?, ?it/s]\u001b[A\n",
            "  5%|▌         | 1/20 [00:11<03:41, 11.66s/it]\u001b[A\n",
            " 10%|█         | 2/20 [00:22<03:23, 11.33s/it]\u001b[A\n",
            " 15%|█▌        | 3/20 [00:34<03:12, 11.34s/it]\u001b[A\n",
            " 20%|██        | 4/20 [00:46<03:04, 11.56s/it]\u001b[A\n",
            " 25%|██▌       | 5/20 [00:58<02:56, 11.74s/it]\u001b[A\n",
            " 30%|███       | 6/20 [01:10<02:46, 11.89s/it]\u001b[A\n",
            " 35%|███▌      | 7/20 [01:23<02:38, 12.19s/it]\u001b[A\n",
            " 40%|████      | 8/20 [01:34<02:25, 12.10s/it]\u001b[A\n",
            " 45%|████▌     | 9/20 [01:47<02:13, 12.18s/it]\u001b[A\n",
            " 50%|█████     | 10/20 [01:57<01:55, 11.57s/it]\u001b[A\n",
            " 55%|█████▌    | 11/20 [02:09<01:45, 11.67s/it]\u001b[A\n",
            " 60%|██████    | 12/20 [02:21<01:33, 11.73s/it]\u001b[A\n",
            " 65%|██████▌   | 13/20 [02:32<01:20, 11.51s/it]\u001b[A\n",
            " 70%|███████   | 14/20 [02:42<01:07, 11.26s/it]\u001b[A\n",
            " 75%|███████▌  | 15/20 [02:54<00:56, 11.33s/it]\u001b[A\n",
            " 80%|████████  | 16/20 [03:07<00:47, 11.89s/it]\u001b[A\n",
            " 85%|████████▌ | 17/20 [03:18<00:34, 11.49s/it]\u001b[A\n",
            " 90%|█████████ | 18/20 [03:29<00:22, 11.29s/it]\u001b[A\n",
            " 95%|█████████▌| 19/20 [03:40<00:11, 11.25s/it]\u001b[A\n",
            "100%|██████████| 20/20 [03:51<00:00, 11.55s/it]\n",
            "100%|██████████| 5/5 [19:41<00:00, 236.25s/it]\n"
          ]
        },
        {
          "metadata": {
            "tags": null
          },
          "name": "stdout",
          "output_type": "stream",
          "text": [
            "OUTSIDE LOOP AUC of Best\n",
            "Complex name 4QC3 AUCROC 0.9128625472887767 AUCPR 0.7329447354578033\n",
            "Equivalent epochs in one iteration of data loader 1.8551014835714936\n",
            "test complex  2RNY\n"
          ]
        },
        {
          "metadata": {
            "tags": null
          },
          "name": "stderr",
          "output_type": "stream",
          "text": [
            "  0%|          | 0/5 [00:00<?, ?it/s]\n",
            "  0%|          | 0/20 [00:00<?, ?it/s]\u001b[A\n",
            "  5%|▌         | 1/20 [00:13<04:22, 13.80s/it]\u001b[A"
          ]
        },
        {
          "metadata": {
            "tags": null
          },
          "name": "stdout",
          "output_type": "stream",
          "text": [
            "LOADED BEST AUCROC 0.8240188772975658 AUCPR 0.38420200898356693\n",
            "AUCROC 0.8240188772975658 AUCPR 0.38420200898356693 best aucroc 0.8240188772975658\n"
          ]
        },
        {
          "metadata": {
            "tags": null
          },
          "name": "stderr",
          "output_type": "stream",
          "text": [
            "\n",
            " 10%|█         | 2/20 [00:26<04:01, 13.39s/it]\u001b[A"
          ]
        },
        {
          "metadata": {
            "tags": null
          },
          "name": "stdout",
          "output_type": "stream",
          "text": [
            "LOADED BEST AUCROC 0.8306259314456035 AUCPR 0.38420263126545073\n",
            "AUCROC 0.8306259314456035 AUCPR 0.38420263126545073 best aucroc 0.8306259314456035\n"
          ]
        },
        {
          "metadata": {
            "tags": null
          },
          "name": "stderr",
          "output_type": "stream",
          "text": [
            "\n",
            " 15%|█▌        | 3/20 [00:37<03:25, 12.09s/it]\u001b[A"
          ]
        },
        {
          "metadata": {
            "tags": null
          },
          "name": "stdout",
          "output_type": "stream",
          "text": [
            "LOADED BEST AUCROC 0.8417536015896672 AUCPR 0.4062781129942988\n",
            "AUCROC 0.8417536015896672 AUCPR 0.4062781129942988 best aucroc 0.8417536015896672\n"
          ]
        },
        {
          "metadata": {
            "tags": null
          },
          "name": "stderr",
          "output_type": "stream",
          "text": [
            "\n",
            " 20%|██        | 4/20 [00:49<03:13, 12.07s/it]\u001b[A"
          ]
        },
        {
          "metadata": {
            "tags": null
          },
          "name": "stdout",
          "output_type": "stream",
          "text": [
            "LOADED BEST AUCROC 0.8481619473422752 AUCPR 0.42249945548280204\n",
            "AUCROC 0.8481619473422752 AUCPR 0.42249945548280204 best aucroc 0.8481619473422752\n"
          ]
        },
        {
          "metadata": {
            "tags": null
          },
          "name": "stderr",
          "output_type": "stream",
          "text": [
            "\n",
            " 25%|██▌       | 5/20 [01:04<03:15, 13.03s/it]\u001b[A"
          ]
        },
        {
          "metadata": {
            "tags": null
          },
          "name": "stdout",
          "output_type": "stream",
          "text": [
            "LOADED BEST AUCROC 0.8536761053154496 AUCPR 0.43059677340682057\n",
            "AUCROC 0.8536761053154496 AUCPR 0.43059677340682057 best aucroc 0.8536761053154496\n"
          ]
        },
        {
          "metadata": {
            "tags": null
          },
          "name": "stderr",
          "output_type": "stream",
          "text": [
            "\n",
            " 30%|███       | 6/20 [01:16<02:58, 12.76s/it]\u001b[A"
          ]
        },
        {
          "metadata": {
            "tags": null
          },
          "name": "stdout",
          "output_type": "stream",
          "text": [
            "LOADED BEST AUCROC 0.8555638350720318 AUCPR 0.42909523234262215\n",
            "AUCROC 0.8555638350720318 AUCPR 0.42909523234262215 best aucroc 0.8555638350720318\n"
          ]
        },
        {
          "metadata": {
            "tags": null
          },
          "name": "stderr",
          "output_type": "stream",
          "text": [
            "\n",
            " 35%|███▌      | 7/20 [01:29<02:49, 13.01s/it]\u001b[A"
          ]
        },
        {
          "metadata": {
            "tags": null
          },
          "name": "stdout",
          "output_type": "stream",
          "text": [
            "LOADED BEST AUCROC 0.8567064083457525 AUCPR 0.4354941758123159\n",
            "AUCROC 0.8567064083457525 AUCPR 0.4354941758123159 best aucroc 0.8567064083457525\n"
          ]
        },
        {
          "metadata": {
            "tags": null
          },
          "name": "stderr",
          "output_type": "stream",
          "text": [
            "\n",
            " 40%|████      | 8/20 [01:43<02:37, 13.09s/it]\u001b[A"
          ]
        },
        {
          "metadata": {
            "tags": null
          },
          "name": "stdout",
          "output_type": "stream",
          "text": [
            "LOADED BEST AUCROC 0.8643566815697963 AUCPR 0.46266422778691285\n",
            "AUCROC 0.8643566815697963 AUCPR 0.46266422778691285 best aucroc 0.8643566815697963\n"
          ]
        },
        {
          "metadata": {
            "tags": null
          },
          "name": "stderr",
          "output_type": "stream",
          "text": [
            "\n",
            " 45%|████▌     | 9/20 [01:56<02:23, 13.03s/it]\u001b[A"
          ]
        },
        {
          "metadata": {
            "tags": null
          },
          "name": "stdout",
          "output_type": "stream",
          "text": [
            "LOADED BEST AUCROC 0.8691256830601093 AUCPR 0.47955171308861366\n",
            "AUCROC 0.8691256830601093 AUCPR 0.47955171308861366 best aucroc 0.8691256830601093\n"
          ]
        },
        {
          "metadata": {
            "tags": null
          },
          "name": "stderr",
          "output_type": "stream",
          "text": [
            "\n",
            " 50%|█████     | 10/20 [02:07<02:06, 12.67s/it]\u001b[A"
          ]
        },
        {
          "metadata": {
            "tags": null
          },
          "name": "stdout",
          "output_type": "stream",
          "text": [
            "LOADED BEST AUCROC 0.8723050173869846 AUCPR 0.4874626710807192\n",
            "AUCROC 0.8723050173869846 AUCPR 0.4874626710807192 best aucroc 0.8723050173869846\n"
          ]
        },
        {
          "metadata": {
            "tags": null
          },
          "name": "stderr",
          "output_type": "stream",
          "text": [
            "\n",
            " 55%|█████▌    | 11/20 [02:16<01:41, 11.29s/it]\u001b[A\n",
            " 60%|██████    | 12/20 [02:25<01:24, 10.58s/it]\u001b[A\n",
            " 65%|██████▌   | 13/20 [02:33<01:10, 10.00s/it]\u001b[A\n",
            " 70%|███████   | 14/20 [02:42<00:56,  9.50s/it]\u001b[A\n",
            " 75%|███████▌  | 15/20 [02:53<00:49,  9.93s/it]\u001b[A\n",
            " 80%|████████  | 16/20 [03:03<00:39,  9.99s/it]\u001b[A\n",
            " 85%|████████▌ | 17/20 [03:13<00:29,  9.98s/it]\u001b[A\n",
            " 90%|█████████ | 18/20 [03:21<00:18,  9.44s/it]\u001b[A\n",
            " 95%|█████████▌| 19/20 [03:29<00:09,  9.14s/it]\u001b[A\n",
            "100%|██████████| 20/20 [03:38<00:00, 10.93s/it]\n",
            " 20%|██        | 1/5 [03:38<14:34, 218.62s/it]\n",
            "  0%|          | 0/20 [00:00<?, ?it/s]\u001b[A\n",
            "  5%|▌         | 1/20 [00:11<03:36, 11.39s/it]\u001b[A\n",
            " 10%|█         | 2/20 [00:20<03:01, 10.06s/it]\u001b[A\n",
            " 15%|█▌        | 3/20 [00:29<02:39,  9.40s/it]\u001b[A\n",
            " 20%|██        | 4/20 [00:40<02:43, 10.23s/it]\u001b[A\n",
            " 25%|██▌       | 5/20 [00:49<02:24,  9.60s/it]\u001b[A\n",
            " 30%|███       | 6/20 [00:59<02:15,  9.70s/it]\u001b[A\n",
            " 35%|███▌      | 7/20 [01:09<02:11, 10.11s/it]\u001b[A\n",
            " 40%|████      | 8/20 [01:21<02:05, 10.42s/it]\u001b[A\n",
            " 45%|████▌     | 9/20 [01:31<01:55, 10.52s/it]\u001b[A\n",
            " 50%|█████     | 10/20 [01:40<01:39,  9.96s/it]\u001b[A\n",
            " 55%|█████▌    | 11/20 [01:51<01:33, 10.40s/it]\u001b[A\n",
            " 60%|██████    | 12/20 [02:00<01:19,  9.91s/it]\u001b[A\n",
            " 65%|██████▌   | 13/20 [02:08<01:05,  9.40s/it]\u001b[A\n",
            " 70%|███████   | 14/20 [02:17<00:55,  9.25s/it]\u001b[A\n",
            " 75%|███████▌  | 15/20 [02:27<00:46,  9.25s/it]\u001b[A\n",
            " 80%|████████  | 16/20 [02:35<00:36,  9.01s/it]\u001b[A\n",
            " 85%|████████▌ | 17/20 [02:43<00:26,  8.68s/it]\u001b[A\n",
            " 90%|█████████ | 18/20 [02:53<00:18,  9.01s/it]\u001b[A\n",
            " 95%|█████████▌| 19/20 [03:01<00:08,  8.73s/it]\u001b[A\n",
            "100%|██████████| 20/20 [03:09<00:00,  9.49s/it]\n",
            " 40%|████      | 2/5 [06:48<10:05, 201.71s/it]\n",
            "  0%|          | 0/20 [00:00<?, ?it/s]\u001b[A\n",
            "  5%|▌         | 1/20 [00:11<03:30, 11.07s/it]\u001b[A\n",
            " 10%|█         | 2/20 [00:20<03:01, 10.08s/it]\u001b[A\n",
            " 15%|█▌        | 3/20 [00:30<02:53, 10.18s/it]\u001b[A\n",
            " 20%|██        | 4/20 [00:41<02:48, 10.53s/it]\u001b[A\n",
            " 25%|██▌       | 5/20 [00:51<02:33, 10.21s/it]\u001b[A\n",
            " 30%|███       | 6/20 [01:02<02:28, 10.58s/it]\u001b[A\n",
            " 35%|███▌      | 7/20 [01:13<02:16, 10.51s/it]\u001b[A\n",
            " 40%|████      | 8/20 [01:20<01:55,  9.67s/it]\u001b[A\n",
            " 45%|████▌     | 9/20 [01:29<01:42,  9.31s/it]\u001b[A\n",
            " 50%|█████     | 10/20 [01:38<01:31,  9.17s/it]\u001b[A\n",
            " 55%|█████▌    | 11/20 [01:48<01:25,  9.54s/it]\u001b[A\n",
            " 60%|██████    | 12/20 [01:59<01:18,  9.79s/it]\u001b[A\n",
            " 65%|██████▌   | 13/20 [02:07<01:05,  9.32s/it]\u001b[A\n",
            " 70%|███████   | 14/20 [02:16<00:55,  9.20s/it]\u001b[A\n",
            " 75%|███████▌  | 15/20 [02:26<00:47,  9.47s/it]\u001b[A\n",
            " 80%|████████  | 16/20 [02:35<00:37,  9.41s/it]\u001b[A\n",
            " 85%|████████▌ | 17/20 [02:44<00:27,  9.11s/it]\u001b[A\n",
            " 90%|█████████ | 18/20 [02:51<00:16,  8.47s/it]\u001b[A\n",
            " 95%|█████████▌| 19/20 [02:59<00:08,  8.57s/it]\u001b[A\n",
            "100%|██████████| 20/20 [03:11<00:00,  9.58s/it]\n",
            " 60%|██████    | 3/5 [10:00<06:34, 197.07s/it]\n",
            "  0%|          | 0/20 [00:00<?, ?it/s]\u001b[A\n",
            "  5%|▌         | 1/20 [00:08<02:39,  8.40s/it]\u001b[A\n",
            " 10%|█         | 2/20 [00:16<02:25,  8.08s/it]\u001b[A\n",
            " 15%|█▌        | 3/20 [00:26<02:32,  8.98s/it]\u001b[A\n",
            " 20%|██        | 4/20 [00:34<02:18,  8.68s/it]\u001b[A\n",
            " 25%|██▌       | 5/20 [00:43<02:14,  8.95s/it]\u001b[A\n",
            " 30%|███       | 6/20 [00:52<02:05,  8.94s/it]\u001b[A\n",
            " 35%|███▌      | 7/20 [01:01<01:55,  8.87s/it]\u001b[A\n",
            " 40%|████      | 8/20 [01:12<01:54,  9.52s/it]\u001b[A\n",
            " 45%|████▌     | 9/20 [01:22<01:44,  9.51s/it]\u001b[A\n",
            " 50%|█████     | 10/20 [01:29<01:29,  8.96s/it]\u001b[A\n",
            " 55%|█████▌    | 11/20 [01:38<01:20,  8.95s/it]\u001b[A\n",
            " 60%|██████    | 12/20 [01:46<01:09,  8.66s/it]\u001b[A\n",
            " 65%|██████▌   | 13/20 [01:55<01:01,  8.72s/it]\u001b[A\n",
            " 70%|███████   | 14/20 [02:04<00:52,  8.75s/it]\u001b[A\n",
            " 75%|███████▌  | 15/20 [02:12<00:42,  8.48s/it]\u001b[A\n",
            " 80%|████████  | 16/20 [02:23<00:36,  9.22s/it]\u001b[A\n",
            " 85%|████████▌ | 17/20 [02:34<00:29,  9.86s/it]\u001b[A\n",
            " 90%|█████████ | 18/20 [02:44<00:19,  9.96s/it]\u001b[A\n",
            " 95%|█████████▌| 19/20 [02:52<00:09,  9.45s/it]\u001b[A\n",
            "100%|██████████| 20/20 [03:01<00:00,  9.06s/it]\n",
            " 80%|████████  | 4/5 [13:01<03:10, 190.77s/it]\n",
            "  0%|          | 0/20 [00:00<?, ?it/s]\u001b[A\n",
            "  5%|▌         | 1/20 [00:10<03:15, 10.27s/it]\u001b[A\n",
            " 10%|█         | 2/20 [00:19<02:53,  9.62s/it]\u001b[A\n",
            " 15%|█▌        | 3/20 [00:29<02:48,  9.89s/it]\u001b[A\n",
            " 20%|██        | 4/20 [00:38<02:33,  9.58s/it]\u001b[A\n",
            " 25%|██▌       | 5/20 [00:50<02:33, 10.24s/it]\u001b[A\n",
            " 30%|███       | 6/20 [00:58<02:12,  9.45s/it]\u001b[A\n",
            " 35%|███▌      | 7/20 [01:08<02:08,  9.85s/it]\u001b[A\n",
            " 40%|████      | 8/20 [01:17<01:54,  9.51s/it]\u001b[A\n",
            " 45%|████▌     | 9/20 [01:25<01:38,  8.99s/it]\u001b[A\n",
            " 50%|█████     | 10/20 [01:35<01:32,  9.21s/it]\u001b[A\n",
            " 55%|█████▌    | 11/20 [01:43<01:20,  8.98s/it]\u001b[A\n",
            " 60%|██████    | 12/20 [01:52<01:11,  8.89s/it]\u001b[A\n",
            " 65%|██████▌   | 13/20 [02:02<01:04,  9.27s/it]\u001b[A\n",
            " 70%|███████   | 14/20 [02:11<00:54,  9.10s/it]\u001b[A\n",
            " 75%|███████▌  | 15/20 [02:19<00:44,  8.97s/it]\u001b[A\n",
            " 80%|████████  | 16/20 [02:30<00:37,  9.49s/it]\u001b[A\n",
            " 85%|████████▌ | 17/20 [02:38<00:27,  9.19s/it]\u001b[A\n",
            " 90%|█████████ | 18/20 [02:48<00:18,  9.20s/it]\u001b[A\n",
            " 95%|█████████▌| 19/20 [02:59<00:09,  9.72s/it]\u001b[A\n",
            "100%|██████████| 20/20 [03:10<00:00,  9.52s/it]\n",
            "100%|██████████| 5/5 [16:11<00:00, 194.30s/it]\n"
          ]
        },
        {
          "metadata": {
            "tags": null
          },
          "name": "stdout",
          "output_type": "stream",
          "text": [
            "OUTSIDE LOOP AUC of Best\n",
            "Complex name 2RNY AUCROC 0.8723050173869846 AUCPR 0.4874626710807192\n",
            "Equivalent epochs in one iteration of data loader 1.8605708053081258\n",
            "test complex  4AJY\n"
          ]
        },
        {
          "metadata": {
            "tags": null
          },
          "name": "stderr",
          "output_type": "stream",
          "text": [
            "  0%|          | 0/5 [00:00<?, ?it/s]\n",
            "  0%|          | 0/20 [00:00<?, ?it/s]\u001b[A\n",
            "  5%|▌         | 1/20 [00:13<04:20, 13.70s/it]\u001b[A"
          ]
        },
        {
          "metadata": {
            "tags": null
          },
          "name": "stdout",
          "output_type": "stream",
          "text": [
            "LOADED BEST AUCROC 0.7273892773892774 AUCPR 0.3378969079285423\n",
            "AUCROC 0.7273892773892774 AUCPR 0.3378969079285423 best aucroc 0.7273892773892774\n"
          ]
        },
        {
          "metadata": {
            "tags": null
          },
          "name": "stderr",
          "output_type": "stream",
          "text": [
            "\n",
            " 10%|█         | 2/20 [00:28<04:22, 14.60s/it]\u001b[A"
          ]
        },
        {
          "metadata": {
            "tags": null
          },
          "name": "stdout",
          "output_type": "stream",
          "text": [
            "LOADED BEST AUCROC 0.7389277389277389 AUCPR 0.3460871715434374\n",
            "AUCROC 0.7389277389277389 AUCPR 0.3460871715434374 best aucroc 0.7389277389277389\n"
          ]
        },
        {
          "metadata": {
            "tags": null
          },
          "name": "stderr",
          "output_type": "stream",
          "text": [
            "\n",
            " 15%|█▌        | 3/20 [00:42<04:01, 14.18s/it]\u001b[A"
          ]
        },
        {
          "metadata": {
            "tags": null
          },
          "name": "stdout",
          "output_type": "stream",
          "text": [
            "LOADED BEST AUCROC 0.7474358974358974 AUCPR 0.35353072222264814\n",
            "AUCROC 0.7474358974358974 AUCPR 0.35353072222264814 best aucroc 0.7474358974358974\n"
          ]
        },
        {
          "metadata": {
            "tags": null
          },
          "name": "stderr",
          "output_type": "stream",
          "text": [
            "\n",
            " 20%|██        | 4/20 [00:53<03:28, 13.03s/it]\u001b[A\n",
            " 25%|██▌       | 5/20 [01:08<03:21, 13.43s/it]\u001b[A"
          ]
        },
        {
          "metadata": {
            "tags": null
          },
          "name": "stdout",
          "output_type": "stream",
          "text": [
            "LOADED BEST AUCROC 0.7488344988344988 AUCPR 0.3549254893011938\n",
            "AUCROC 0.7488344988344988 AUCPR 0.3549254893011938 best aucroc 0.7488344988344988\n"
          ]
        },
        {
          "metadata": {
            "tags": null
          },
          "name": "stderr",
          "output_type": "stream",
          "text": [
            "\n",
            " 30%|███       | 6/20 [01:22<03:11, 13.70s/it]\u001b[A"
          ]
        },
        {
          "metadata": {
            "tags": null
          },
          "name": "stdout",
          "output_type": "stream",
          "text": [
            "LOADED BEST AUCROC 0.7641025641025642 AUCPR 0.37244335652083993\n",
            "AUCROC 0.7641025641025642 AUCPR 0.37244335652083993 best aucroc 0.7641025641025642\n"
          ]
        },
        {
          "metadata": {
            "tags": null
          },
          "name": "stderr",
          "output_type": "stream",
          "text": [
            "\n",
            " 35%|███▌      | 7/20 [01:37<03:02, 14.04s/it]\u001b[A"
          ]
        },
        {
          "metadata": {
            "tags": null
          },
          "name": "stdout",
          "output_type": "stream",
          "text": [
            "LOADED BEST AUCROC 0.7678321678321678 AUCPR 0.3878372327918609\n",
            "AUCROC 0.7678321678321678 AUCPR 0.3878372327918609 best aucroc 0.7678321678321678\n"
          ]
        },
        {
          "metadata": {
            "tags": null
          },
          "name": "stderr",
          "output_type": "stream",
          "text": [
            "\n",
            " 40%|████      | 8/20 [01:48<02:39, 13.31s/it]\u001b[A\n",
            " 45%|████▌     | 9/20 [01:59<02:16, 12.39s/it]\u001b[A\n",
            " 50%|█████     | 10/20 [02:10<02:00, 12.02s/it]\u001b[A\n",
            " 55%|█████▌    | 11/20 [02:21<01:46, 11.88s/it]\u001b[A\n",
            " 60%|██████    | 12/20 [02:33<01:33, 11.67s/it]\u001b[A\n",
            " 65%|██████▌   | 13/20 [02:44<01:21, 11.64s/it]\u001b[A\n",
            " 70%|███████   | 14/20 [02:55<01:07, 11.31s/it]\u001b[A\n",
            " 75%|███████▌  | 15/20 [03:05<00:55, 11.12s/it]\u001b[A\n",
            " 80%|████████  | 16/20 [03:16<00:44, 11.10s/it]\u001b[A\n",
            " 85%|████████▌ | 17/20 [03:27<00:33, 11.09s/it]\u001b[A\n",
            " 90%|█████████ | 18/20 [03:39<00:22, 11.33s/it]\u001b[A\n",
            " 95%|█████████▌| 19/20 [03:51<00:11, 11.52s/it]\u001b[A\n",
            "100%|██████████| 20/20 [04:03<00:00, 12.17s/it]\n",
            " 20%|██        | 1/5 [04:03<16:13, 243.44s/it]\n",
            "  0%|          | 0/20 [00:00<?, ?it/s]\u001b[A\n",
            "  5%|▌         | 1/20 [00:10<03:26, 10.89s/it]\u001b[A\n",
            " 10%|█         | 2/20 [00:21<03:11, 10.62s/it]\u001b[A\n",
            " 15%|█▌        | 3/20 [00:32<03:01, 10.67s/it]\u001b[A\n",
            " 20%|██        | 4/20 [00:44<03:00, 11.28s/it]\u001b[A\n",
            " 25%|██▌       | 5/20 [00:55<02:50, 11.34s/it]\u001b[A\n",
            " 30%|███       | 6/20 [01:07<02:38, 11.34s/it]\u001b[A\n",
            " 35%|███▌      | 7/20 [01:18<02:26, 11.30s/it]\u001b[A\n",
            " 40%|████      | 8/20 [01:28<02:12, 11.02s/it]\u001b[A\n",
            " 45%|████▌     | 9/20 [01:40<02:03, 11.23s/it]\u001b[A\n",
            " 50%|█████     | 10/20 [01:52<01:54, 11.43s/it]\u001b[A\n",
            " 55%|█████▌    | 11/20 [02:03<01:41, 11.29s/it]\u001b[A\n",
            " 60%|██████    | 12/20 [02:15<01:31, 11.45s/it]\u001b[A\n",
            " 65%|██████▌   | 13/20 [02:26<01:19, 11.39s/it]\u001b[A\n",
            " 70%|███████   | 14/20 [02:37<01:07, 11.30s/it]\u001b[A\n",
            " 75%|███████▌  | 15/20 [02:48<00:56, 11.21s/it]\u001b[A\n",
            " 80%|████████  | 16/20 [02:59<00:44, 11.12s/it]\u001b[A\n",
            " 85%|████████▌ | 17/20 [03:11<00:34, 11.39s/it]\u001b[A\n",
            " 90%|█████████ | 18/20 [03:22<00:22, 11.40s/it]\u001b[A\n",
            " 95%|█████████▌| 19/20 [03:33<00:11, 11.27s/it]\u001b[A\n",
            "100%|██████████| 20/20 [03:44<00:00, 11.23s/it]\n",
            " 40%|████      | 2/5 [07:48<11:37, 232.41s/it]\n",
            "  0%|          | 0/20 [00:00<?, ?it/s]\u001b[A\n",
            "  5%|▌         | 1/20 [00:10<03:19, 10.49s/it]\u001b[A\n",
            " 10%|█         | 2/20 [00:21<03:13, 10.73s/it]\u001b[A\n",
            " 15%|█▌        | 3/20 [00:32<03:03, 10.77s/it]\u001b[A\n",
            " 20%|██        | 4/20 [00:44<03:03, 11.47s/it]\u001b[A\n",
            " 25%|██▌       | 5/20 [00:56<02:54, 11.61s/it]\u001b[A\n",
            " 30%|███       | 6/20 [01:06<02:36, 11.17s/it]\u001b[A\n",
            " 35%|███▌      | 7/20 [01:19<02:29, 11.48s/it]\u001b[A\n",
            " 40%|████      | 8/20 [01:30<02:18, 11.56s/it]\u001b[A\n",
            " 45%|████▌     | 9/20 [01:41<02:04, 11.32s/it]\u001b[A\n",
            " 50%|█████     | 10/20 [01:52<01:51, 11.16s/it]\u001b[A\n",
            " 55%|█████▌    | 11/20 [02:03<01:40, 11.11s/it]\u001b[A\n",
            " 60%|██████    | 12/20 [02:14<01:29, 11.16s/it]\u001b[A\n",
            " 65%|██████▌   | 13/20 [02:25<01:17, 11.01s/it]\u001b[A\n",
            " 70%|███████   | 14/20 [02:36<01:06, 11.08s/it]\u001b[A\n",
            " 75%|███████▌  | 15/20 [02:48<00:56, 11.23s/it]\u001b[A\n",
            " 80%|████████  | 16/20 [02:58<00:43, 10.98s/it]\u001b[A\n",
            " 85%|████████▌ | 17/20 [03:09<00:32, 10.97s/it]\u001b[A\n",
            " 90%|█████████ | 18/20 [03:20<00:22, 11.13s/it]\u001b[A\n",
            " 95%|█████████▌| 19/20 [03:32<00:11, 11.12s/it]\u001b[A\n",
            "100%|██████████| 20/20 [03:42<00:00, 11.14s/it]\n",
            " 60%|██████    | 3/5 [11:30<07:36, 228.04s/it]\n",
            "  0%|          | 0/20 [00:00<?, ?it/s]\u001b[A\n",
            "  5%|▌         | 1/20 [00:10<03:24, 10.77s/it]\u001b[A\n",
            " 10%|█         | 2/20 [00:22<03:18, 11.04s/it]\u001b[A\n",
            " 15%|█▌        | 3/20 [00:33<03:11, 11.29s/it]\u001b[A\n",
            " 20%|██        | 4/20 [00:44<02:58, 11.15s/it]\u001b[A\n",
            " 25%|██▌       | 5/20 [00:55<02:48, 11.22s/it]\u001b[A\n",
            " 30%|███       | 6/20 [01:07<02:39, 11.40s/it]\u001b[A\n",
            " 35%|███▌      | 7/20 [01:19<02:32, 11.71s/it]\u001b[A\n",
            " 40%|████      | 8/20 [01:32<02:21, 11.82s/it]\u001b[A\n",
            " 45%|████▌     | 9/20 [01:42<02:06, 11.49s/it]\u001b[A\n",
            " 50%|█████     | 10/20 [01:53<01:53, 11.30s/it]\u001b[A\n",
            " 55%|█████▌    | 11/20 [02:04<01:41, 11.29s/it]\u001b[A\n",
            " 60%|██████    | 12/20 [02:16<01:31, 11.39s/it]\u001b[A\n",
            " 65%|██████▌   | 13/20 [02:27<01:18, 11.16s/it]\u001b[A\n",
            " 70%|███████   | 14/20 [02:37<01:06, 11.03s/it]\u001b[A\n",
            " 75%|███████▌  | 15/20 [02:47<00:53, 10.69s/it]\u001b[A\n",
            " 80%|████████  | 16/20 [02:59<00:43, 10.88s/it]\u001b[A\n",
            " 85%|████████▌ | 17/20 [03:10<00:32, 10.88s/it]\u001b[A\n",
            " 90%|█████████ | 18/20 [03:21<00:22, 11.11s/it]\u001b[A\n",
            " 95%|█████████▌| 19/20 [03:32<00:10, 10.92s/it]\u001b[A\n",
            "100%|██████████| 20/20 [03:43<00:00, 11.18s/it]\n",
            " 80%|████████  | 4/5 [15:14<03:46, 226.30s/it]\n",
            "  0%|          | 0/20 [00:00<?, ?it/s]\u001b[A\n",
            "  5%|▌         | 1/20 [00:12<03:50, 12.14s/it]\u001b[A\n",
            " 10%|█         | 2/20 [00:23<03:26, 11.49s/it]\u001b[A\n",
            " 15%|█▌        | 3/20 [00:35<03:23, 11.95s/it]\u001b[A\n",
            " 20%|██        | 4/20 [00:46<03:02, 11.42s/it]\u001b[A\n",
            " 25%|██▌       | 5/20 [00:57<02:49, 11.29s/it]\u001b[A\n",
            " 30%|███       | 6/20 [01:07<02:30, 10.74s/it]\u001b[A\n",
            " 35%|███▌      | 7/20 [01:17<02:19, 10.75s/it]\u001b[A\n",
            " 40%|████      | 8/20 [01:29<02:12, 11.03s/it]\u001b[A\n",
            " 45%|████▌     | 9/20 [01:40<02:01, 11.08s/it]\u001b[A\n",
            " 50%|█████     | 10/20 [01:53<01:55, 11.59s/it]\u001b[A\n",
            " 55%|█████▌    | 11/20 [02:04<01:43, 11.46s/it]\u001b[A\n",
            " 60%|██████    | 12/20 [02:16<01:32, 11.55s/it]\u001b[A\n",
            " 65%|██████▌   | 13/20 [02:26<01:17, 11.04s/it]\u001b[A\n",
            " 70%|███████   | 14/20 [02:35<01:03, 10.66s/it]\u001b[A\n",
            " 75%|███████▌  | 15/20 [02:47<00:54, 10.83s/it]\u001b[A\n",
            " 80%|████████  | 16/20 [02:58<00:43, 10.84s/it]\u001b[A\n",
            " 85%|████████▌ | 17/20 [03:10<00:33, 11.28s/it]\u001b[A\n",
            " 90%|█████████ | 18/20 [03:21<00:22, 11.24s/it]\u001b[A\n",
            " 95%|█████████▌| 19/20 [03:32<00:11, 11.07s/it]\u001b[A\n",
            "100%|██████████| 20/20 [03:43<00:00, 11.16s/it]\n",
            "100%|██████████| 5/5 [18:57<00:00, 227.56s/it]\n"
          ]
        },
        {
          "metadata": {
            "tags": null
          },
          "name": "stdout",
          "output_type": "stream",
          "text": [
            "OUTSIDE LOOP AUC of Best\n",
            "Complex name 4AJY AUCROC 0.7678321678321678 AUCPR 0.3878372327918609\n",
            "Equivalent epochs in one iteration of data loader 1.8564558570002723\n",
            "test complex  2E3K\n"
          ]
        },
        {
          "metadata": {
            "tags": null
          },
          "name": "stderr",
          "output_type": "stream",
          "text": [
            "  0%|          | 0/5 [00:00<?, ?it/s]\n",
            "  0%|          | 0/20 [00:00<?, ?it/s]\u001b[A\n",
            "  5%|▌         | 1/20 [00:13<04:17, 13.55s/it]\u001b[A"
          ]
        },
        {
          "metadata": {
            "tags": null
          },
          "name": "stdout",
          "output_type": "stream",
          "text": [
            "LOADED BEST AUCROC 0.915495157763199 AUCPR 0.6788609065195073\n",
            "AUCROC 0.915495157763199 AUCPR 0.6788609065195073 best aucroc 0.915495157763199\n"
          ]
        },
        {
          "metadata": {
            "tags": null
          },
          "name": "stderr",
          "output_type": "stream",
          "text": [
            "\n",
            " 10%|█         | 2/20 [00:23<03:27, 11.54s/it]\u001b[A\n",
            " 15%|█▌        | 3/20 [00:34<03:11, 11.24s/it]\u001b[A\n",
            " 20%|██        | 4/20 [00:47<03:09, 11.86s/it]\u001b[A"
          ]
        },
        {
          "metadata": {
            "tags": null
          },
          "name": "stdout",
          "output_type": "stream",
          "text": [
            "LOADED BEST AUCROC 0.9315838800374883 AUCPR 0.684103513932032\n",
            "AUCROC 0.9315838800374883 AUCPR 0.684103513932032 best aucroc 0.9315838800374883\n"
          ]
        },
        {
          "metadata": {
            "tags": null
          },
          "name": "stderr",
          "output_type": "stream",
          "text": [
            "\n",
            " 25%|██▌       | 5/20 [01:01<03:08, 12.56s/it]\u001b[A"
          ]
        },
        {
          "metadata": {
            "tags": null
          },
          "name": "stdout",
          "output_type": "stream",
          "text": [
            "LOADED BEST AUCROC 0.951265229615745 AUCPR 0.7688952621585737\n",
            "AUCROC 0.951265229615745 AUCPR 0.7688952621585737 best aucroc 0.951265229615745\n"
          ]
        },
        {
          "metadata": {
            "tags": null
          },
          "name": "stderr",
          "output_type": "stream",
          "text": [
            "\n",
            " 30%|███       | 6/20 [01:13<02:52, 12.34s/it]\u001b[A"
          ]
        },
        {
          "metadata": {
            "tags": null
          },
          "name": "stdout",
          "output_type": "stream",
          "text": [
            "LOADED BEST AUCROC 0.964073726960325 AUCPR 0.8450269313527654\n",
            "AUCROC 0.964073726960325 AUCPR 0.8450269313527654 best aucroc 0.964073726960325\n"
          ]
        },
        {
          "metadata": {
            "tags": null
          },
          "name": "stderr",
          "output_type": "stream",
          "text": [
            "\n",
            " 35%|███▌      | 7/20 [01:23<02:32, 11.71s/it]\u001b[A\n",
            " 40%|████      | 8/20 [01:36<02:26, 12.19s/it]\u001b[A"
          ]
        },
        {
          "metadata": {
            "tags": null
          },
          "name": "stdout",
          "output_type": "stream",
          "text": [
            "LOADED BEST AUCROC 0.9700093720712277 AUCPR 0.8930986554603317\n",
            "AUCROC 0.9700093720712277 AUCPR 0.8930986554603317 best aucroc 0.9700093720712277\n"
          ]
        },
        {
          "metadata": {
            "tags": null
          },
          "name": "stderr",
          "output_type": "stream",
          "text": [
            "\n",
            " 45%|████▌     | 9/20 [01:49<02:14, 12.25s/it]\u001b[A"
          ]
        },
        {
          "metadata": {
            "tags": null
          },
          "name": "stdout",
          "output_type": "stream",
          "text": [
            "LOADED BEST AUCROC 0.9781318338019369 AUCPR 0.9215461112756855\n",
            "AUCROC 0.9781318338019369 AUCPR 0.9215461112756855 best aucroc 0.9781318338019369\n"
          ]
        },
        {
          "metadata": {
            "tags": null
          },
          "name": "stderr",
          "output_type": "stream",
          "text": [
            "\n",
            " 50%|█████     | 10/20 [02:02<02:04, 12.48s/it]\u001b[A"
          ]
        },
        {
          "metadata": {
            "tags": null
          },
          "name": "stdout",
          "output_type": "stream",
          "text": [
            "LOADED BEST AUCROC 0.9826616682286785 AUCPR 0.9348583609056614\n",
            "AUCROC 0.9826616682286785 AUCPR 0.9348583609056614 best aucroc 0.9826616682286785\n"
          ]
        },
        {
          "metadata": {
            "tags": null
          },
          "name": "stderr",
          "output_type": "stream",
          "text": [
            "\n",
            " 55%|█████▌    | 11/20 [02:14<01:52, 12.53s/it]\u001b[A"
          ]
        },
        {
          "metadata": {
            "tags": null
          },
          "name": "stdout",
          "output_type": "stream",
          "text": [
            "LOADED BEST AUCROC 0.9835988753514526 AUCPR 0.9352892388633554\n",
            "AUCROC 0.9835988753514526 AUCPR 0.9352892388633554 best aucroc 0.9835988753514526\n"
          ]
        },
        {
          "metadata": {
            "tags": null
          },
          "name": "stderr",
          "output_type": "stream",
          "text": [
            "\n",
            " 60%|██████    | 12/20 [02:28<01:42, 12.83s/it]\u001b[A"
          ]
        },
        {
          "metadata": {
            "tags": null
          },
          "name": "stdout",
          "output_type": "stream",
          "text": [
            "LOADED BEST AUCROC 0.9840674789128397 AUCPR 0.9411023416759254\n",
            "AUCROC 0.9840674789128397 AUCPR 0.9411023416759254 best aucroc 0.9840674789128397\n"
          ]
        },
        {
          "metadata": {
            "tags": null
          },
          "name": "stderr",
          "output_type": "stream",
          "text": [
            "\n",
            " 65%|██████▌   | 13/20 [02:41<01:30, 12.88s/it]\u001b[A"
          ]
        },
        {
          "metadata": {
            "tags": null
          },
          "name": "stdout",
          "output_type": "stream",
          "text": [
            "LOADED BEST AUCROC 0.9845360824742269 AUCPR 0.9446263612530162\n",
            "AUCROC 0.9845360824742269 AUCPR 0.9446263612530162 best aucroc 0.9845360824742269\n"
          ]
        },
        {
          "metadata": {
            "tags": null
          },
          "name": "stderr",
          "output_type": "stream",
          "text": [
            "\n",
            " 70%|███████   | 14/20 [02:56<01:21, 13.59s/it]\u001b[A"
          ]
        },
        {
          "metadata": {
            "tags": null
          },
          "name": "stdout",
          "output_type": "stream",
          "text": [
            "LOADED BEST AUCROC 0.9865666979069041 AUCPR 0.9488342296364666\n",
            "AUCROC 0.9865666979069041 AUCPR 0.9488342296364666 best aucroc 0.9865666979069041\n"
          ]
        },
        {
          "metadata": {
            "tags": null
          },
          "name": "stderr",
          "output_type": "stream",
          "text": [
            "\n",
            " 75%|███████▌  | 15/20 [03:09<01:07, 13.55s/it]\u001b[A"
          ]
        },
        {
          "metadata": {
            "tags": null
          },
          "name": "stdout",
          "output_type": "stream",
          "text": [
            "LOADED BEST AUCROC 0.9876601062168072 AUCPR 0.9502840609499189\n",
            "AUCROC 0.9876601062168072 AUCPR 0.9502840609499189 best aucroc 0.9876601062168072\n"
          ]
        },
        {
          "metadata": {
            "tags": null
          },
          "name": "stderr",
          "output_type": "stream",
          "text": [
            "\n",
            " 80%|████████  | 16/20 [03:24<00:54, 13.74s/it]\u001b[A"
          ]
        },
        {
          "metadata": {
            "tags": null
          },
          "name": "stdout",
          "output_type": "stream",
          "text": [
            "LOADED BEST AUCROC 0.9887535145267103 AUCPR 0.9524409553513138\n",
            "AUCROC 0.9887535145267103 AUCPR 0.9524409553513138 best aucroc 0.9887535145267103\n"
          ]
        },
        {
          "metadata": {
            "tags": null
          },
          "name": "stderr",
          "output_type": "stream",
          "text": [
            "\n",
            " 85%|████████▌ | 17/20 [03:37<00:41, 13.75s/it]\u001b[A"
          ]
        },
        {
          "metadata": {
            "tags": null
          },
          "name": "stdout",
          "output_type": "stream",
          "text": [
            "LOADED BEST AUCROC 0.9904717275851296 AUCPR 0.9583380821687659\n",
            "AUCROC 0.9904717275851296 AUCPR 0.9583380821687659 best aucroc 0.9904717275851296\n"
          ]
        },
        {
          "metadata": {
            "tags": null
          },
          "name": "stderr",
          "output_type": "stream",
          "text": [
            "\n",
            " 90%|█████████ | 18/20 [03:50<00:26, 13.43s/it]\u001b[A"
          ]
        },
        {
          "metadata": {
            "tags": null
          },
          "name": "stdout",
          "output_type": "stream",
          "text": [
            "LOADED BEST AUCROC 0.9909403311465168 AUCPR 0.9595640806551082\n",
            "AUCROC 0.9909403311465168 AUCPR 0.9595640806551082 best aucroc 0.9909403311465168\n"
          ]
        },
        {
          "metadata": {
            "tags": null
          },
          "name": "stderr",
          "output_type": "stream",
          "text": [
            "\n",
            " 95%|█████████▌| 19/20 [04:03<00:13, 13.15s/it]\u001b[A"
          ]
        },
        {
          "metadata": {
            "tags": null
          },
          "name": "stdout",
          "output_type": "stream",
          "text": [
            "LOADED BEST AUCROC 0.9921899406435489 AUCPR 0.9642816763077866\n",
            "AUCROC 0.9921899406435489 AUCPR 0.9642816763077866 best aucroc 0.9921899406435489\n"
          ]
        },
        {
          "metadata": {
            "tags": null
          },
          "name": "stderr",
          "output_type": "stream",
          "text": [
            "\n",
            "100%|██████████| 20/20 [04:16<00:00, 12.83s/it]\n",
            " 20%|██        | 1/5 [04:16<17:06, 256.58s/it]"
          ]
        },
        {
          "metadata": {
            "tags": null
          },
          "name": "stdout",
          "output_type": "stream",
          "text": [
            "LOADED BEST AUCROC 0.993283348953452 AUCPR 0.9688434933511935\n",
            "AUCROC 0.993283348953452 AUCPR 0.9688434933511935 best aucroc 0.993283348953452\n"
          ]
        },
        {
          "metadata": {
            "tags": null
          },
          "name": "stderr",
          "output_type": "stream",
          "text": [
            "\n",
            "  0%|          | 0/20 [00:00<?, ?it/s]\u001b[A\n",
            "  5%|▌         | 1/20 [00:10<03:20, 10.57s/it]\u001b[A\n",
            " 10%|█         | 2/20 [00:20<03:06, 10.38s/it]\u001b[A\n",
            " 15%|█▌        | 3/20 [00:30<02:53, 10.23s/it]\u001b[A\n",
            " 20%|██        | 4/20 [00:41<02:44, 10.29s/it]\u001b[A\n",
            " 25%|██▌       | 5/20 [00:52<02:39, 10.64s/it]\u001b[A\n",
            " 30%|███       | 6/20 [01:02<02:27, 10.56s/it]\u001b[A\n",
            " 35%|███▌      | 7/20 [01:14<02:20, 10.78s/it]\u001b[A\n",
            " 40%|████      | 8/20 [01:24<02:08, 10.71s/it]\u001b[A\n",
            " 45%|████▌     | 9/20 [01:34<01:55, 10.54s/it]\u001b[A\n",
            " 50%|█████     | 10/20 [01:44<01:43, 10.34s/it]\u001b[A\n",
            " 55%|█████▌    | 11/20 [01:54<01:30, 10.03s/it]\u001b[A\n",
            " 60%|██████    | 12/20 [02:03<01:19,  9.94s/it]\u001b[A\n",
            " 65%|██████▌   | 13/20 [02:14<01:11, 10.25s/it]\u001b[A\n",
            " 70%|███████   | 14/20 [02:24<01:00, 10.03s/it]\u001b[A\n",
            " 75%|███████▌  | 15/20 [02:35<00:51, 10.31s/it]\u001b[A\n",
            " 80%|████████  | 16/20 [02:47<00:43, 10.80s/it]\u001b[A\n",
            " 85%|████████▌ | 17/20 [02:58<00:33, 11.03s/it]\u001b[A\n",
            " 90%|█████████ | 18/20 [03:10<00:22, 11.29s/it]\u001b[A\n",
            " 95%|█████████▌| 19/20 [03:20<00:10, 10.98s/it]\u001b[A\n",
            "100%|██████████| 20/20 [03:31<00:00, 10.58s/it]\n",
            " 40%|████      | 2/5 [07:48<11:30, 230.17s/it]\n",
            "  0%|          | 0/20 [00:00<?, ?it/s]\u001b[A\n",
            "  5%|▌         | 1/20 [00:10<03:22, 10.66s/it]\u001b[A\n",
            " 10%|█         | 2/20 [00:21<03:09, 10.54s/it]\u001b[A\n",
            " 15%|█▌        | 3/20 [00:31<03:01, 10.69s/it]\u001b[A\n",
            " 20%|██        | 4/20 [00:42<02:51, 10.71s/it]\u001b[A\n",
            " 25%|██▌       | 5/20 [00:54<02:43, 10.93s/it]\u001b[A\n",
            " 30%|███       | 6/20 [01:04<02:30, 10.72s/it]\u001b[A\n",
            " 35%|███▌      | 7/20 [01:14<02:15, 10.44s/it]\u001b[A\n",
            " 40%|████      | 8/20 [01:24<02:03, 10.31s/it]\u001b[A\n",
            " 45%|████▌     | 9/20 [01:34<01:52, 10.19s/it]\u001b[A\n",
            " 50%|█████     | 10/20 [01:45<01:45, 10.54s/it]\u001b[A\n",
            " 55%|█████▌    | 11/20 [01:56<01:35, 10.65s/it]\u001b[A\n",
            " 60%|██████    | 12/20 [02:07<01:25, 10.66s/it]\u001b[A\n",
            " 65%|██████▌   | 13/20 [02:17<01:13, 10.52s/it]\u001b[A\n",
            " 70%|███████   | 14/20 [02:28<01:04, 10.75s/it]\u001b[A\n",
            " 75%|███████▌  | 15/20 [02:38<00:52, 10.42s/it]\u001b[A\n",
            " 80%|████████  | 16/20 [02:48<00:41, 10.39s/it]\u001b[A\n",
            " 85%|████████▌ | 17/20 [02:59<00:31, 10.45s/it]\u001b[A\n",
            " 90%|█████████ | 18/20 [03:10<00:21, 10.68s/it]\u001b[A\n",
            " 95%|█████████▌| 19/20 [03:20<00:10, 10.59s/it]\u001b[A\n",
            "100%|██████████| 20/20 [03:32<00:00, 10.62s/it]\n",
            " 60%|██████    | 3/5 [11:20<07:24, 222.07s/it]\n",
            "  0%|          | 0/20 [00:00<?, ?it/s]\u001b[A\n",
            "  5%|▌         | 1/20 [00:10<03:23, 10.71s/it]\u001b[A\n",
            " 10%|█         | 2/20 [00:20<03:07, 10.42s/it]\u001b[A\n",
            " 15%|█▌        | 3/20 [00:31<02:57, 10.42s/it]\u001b[A\n",
            " 20%|██        | 4/20 [00:41<02:46, 10.43s/it]\u001b[A\n",
            " 25%|██▌       | 5/20 [00:52<02:39, 10.64s/it]\u001b[A\n",
            " 30%|███       | 6/20 [01:02<02:25, 10.42s/it]\u001b[A\n",
            " 35%|███▌      | 7/20 [01:14<02:21, 10.88s/it]\u001b[A\n",
            " 40%|████      | 8/20 [01:25<02:09, 10.82s/it]\u001b[A\n",
            " 45%|████▌     | 9/20 [01:35<01:56, 10.60s/it]\u001b[A\n",
            " 50%|█████     | 10/20 [01:45<01:45, 10.59s/it]\u001b[A\n",
            " 55%|█████▌    | 11/20 [01:55<01:33, 10.34s/it]\u001b[A\n",
            " 60%|██████    | 12/20 [02:07<01:25, 10.70s/it]\u001b[A\n",
            " 65%|██████▌   | 13/20 [02:18<01:15, 10.73s/it]\u001b[A\n",
            " 70%|███████   | 14/20 [02:28<01:03, 10.61s/it]\u001b[A\n",
            " 75%|███████▌  | 15/20 [02:39<00:53, 10.63s/it]\u001b[A\n",
            " 80%|████████  | 16/20 [02:49<00:41, 10.45s/it]\u001b[A\n",
            " 85%|████████▌ | 17/20 [02:59<00:30, 10.33s/it]\u001b[A\n",
            " 90%|█████████ | 18/20 [03:10<00:21, 10.59s/it]\u001b[A\n",
            " 95%|█████████▌| 19/20 [03:21<00:10, 10.66s/it]\u001b[A\n",
            "100%|██████████| 20/20 [03:32<00:00, 10.60s/it]\n",
            " 80%|████████  | 4/5 [14:52<03:38, 218.10s/it]\n",
            "  0%|          | 0/20 [00:00<?, ?it/s]\u001b[A\n",
            "  5%|▌         | 1/20 [00:10<03:27, 10.91s/it]\u001b[A\n",
            " 10%|█         | 2/20 [00:22<03:18, 11.04s/it]\u001b[A\n",
            " 15%|█▌        | 3/20 [00:32<03:03, 10.82s/it]\u001b[A\n",
            " 20%|██        | 4/20 [00:42<02:49, 10.60s/it]\u001b[A\n",
            " 25%|██▌       | 5/20 [00:53<02:38, 10.58s/it]\u001b[A\n",
            " 30%|███       | 6/20 [01:04<02:28, 10.60s/it]\u001b[A\n",
            " 35%|███▌      | 7/20 [01:15<02:20, 10.82s/it]\u001b[A\n",
            " 40%|████      | 8/20 [01:25<02:07, 10.61s/it]\u001b[A\n",
            " 45%|████▌     | 9/20 [01:35<01:53, 10.29s/it]\u001b[A\n",
            " 50%|█████     | 10/20 [01:44<01:41, 10.13s/it]\u001b[A\n",
            " 55%|█████▌    | 11/20 [01:55<01:31, 10.15s/it]\u001b[A\n",
            " 60%|██████    | 12/20 [02:06<01:23, 10.40s/it]\u001b[A\n",
            " 65%|██████▌   | 13/20 [02:15<01:11, 10.22s/it]\u001b[A\n",
            " 70%|███████   | 14/20 [02:26<01:02, 10.42s/it]\u001b[A\n",
            " 75%|███████▌  | 15/20 [02:36<00:51, 10.34s/it]\u001b[A\n",
            " 80%|████████  | 16/20 [02:46<00:41, 10.26s/it]\u001b[A\n",
            " 85%|████████▌ | 17/20 [02:57<00:30, 10.31s/it]\u001b[A\n",
            " 90%|█████████ | 18/20 [03:08<00:21, 10.63s/it]\u001b[A\n",
            " 95%|█████████▌| 19/20 [03:20<00:10, 10.90s/it]\u001b[A\n",
            "100%|██████████| 20/20 [03:30<00:00, 10.54s/it]\n",
            "100%|██████████| 5/5 [18:23<00:00, 220.72s/it]\n"
          ]
        },
        {
          "metadata": {
            "tags": null
          },
          "name": "stdout",
          "output_type": "stream",
          "text": [
            "OUTSIDE LOOP AUC of Best\n",
            "Complex name 2E3K AUCROC 0.993283348953452 AUCPR 0.9688434933511935\n",
            "Equivalent epochs in one iteration of data loader 1.8565087417338526\n",
            "test complex  2B4J\n"
          ]
        },
        {
          "metadata": {
            "tags": null
          },
          "name": "stderr",
          "output_type": "stream",
          "text": [
            "  0%|          | 0/5 [00:00<?, ?it/s]\n",
            "  0%|          | 0/21 [00:00<?, ?it/s]\u001b[A\n",
            "  5%|▍         | 1/21 [00:13<04:24, 13.22s/it]\u001b[A"
          ]
        },
        {
          "metadata": {
            "tags": null
          },
          "name": "stdout",
          "output_type": "stream",
          "text": [
            "LOADED BEST AUCROC 0.612128017967434 AUCPR 0.2155470205840981\n",
            "AUCROC 0.612128017967434 AUCPR 0.2155470205840981 best aucroc 0.612128017967434\n"
          ]
        },
        {
          "metadata": {
            "tags": null
          },
          "name": "stderr",
          "output_type": "stream",
          "text": [
            "\n",
            " 10%|▉         | 2/21 [00:24<03:51, 12.18s/it]\u001b[A\n",
            " 14%|█▍        | 3/21 [00:34<03:23, 11.30s/it]\u001b[A\n",
            " 19%|█▉        | 4/21 [00:46<03:10, 11.23s/it]\u001b[A\n",
            " 24%|██▍       | 5/21 [00:55<02:52, 10.76s/it]\u001b[A\n",
            " 29%|██▊       | 6/21 [01:06<02:38, 10.56s/it]\u001b[A\n",
            " 33%|███▎      | 7/21 [01:16<02:27, 10.52s/it]\u001b[A\n",
            " 38%|███▊      | 8/21 [01:26<02:15, 10.41s/it]\u001b[A\n",
            " 43%|████▎     | 9/21 [01:37<02:08, 10.67s/it]\u001b[A\n",
            " 48%|████▊     | 10/21 [01:48<01:58, 10.76s/it]\u001b[A\n",
            " 52%|█████▏    | 11/21 [02:00<01:51, 11.12s/it]\u001b[A\n",
            " 57%|█████▋    | 12/21 [02:10<01:34, 10.51s/it]\u001b[A\n",
            " 62%|██████▏   | 13/21 [02:20<01:23, 10.46s/it]\u001b[A\n",
            " 67%|██████▋   | 14/21 [02:31<01:14, 10.64s/it]\u001b[A\n",
            " 71%|███████▏  | 15/21 [02:40<01:01, 10.30s/it]\u001b[A\n",
            " 76%|███████▌  | 16/21 [02:50<00:50, 10.07s/it]\u001b[A\n",
            " 81%|████████  | 17/21 [03:00<00:40, 10.19s/it]\u001b[A\n",
            " 86%|████████▌ | 18/21 [03:11<00:31, 10.40s/it]\u001b[A\n",
            " 90%|█████████ | 19/21 [03:21<00:20, 10.33s/it]\u001b[A\n",
            " 95%|█████████▌| 20/21 [03:31<00:10, 10.14s/it]\u001b[A\n",
            "100%|██████████| 21/21 [03:41<00:00, 10.56s/it]\n",
            " 20%|██        | 1/5 [03:41<14:47, 221.84s/it]\n",
            "  0%|          | 0/21 [00:00<?, ?it/s]\u001b[A\n",
            "  5%|▍         | 1/21 [00:09<03:16,  9.85s/it]\u001b[A\n",
            " 10%|▉         | 2/21 [00:20<03:11, 10.08s/it]\u001b[A\n",
            " 14%|█▍        | 3/21 [00:31<03:11, 10.67s/it]\u001b[A\n",
            " 19%|█▉        | 4/21 [00:41<02:54, 10.27s/it]\u001b[A\n",
            " 24%|██▍       | 5/21 [00:51<02:43, 10.22s/it]\u001b[A\n",
            " 29%|██▊       | 6/21 [01:01<02:32, 10.15s/it]\u001b[A\n",
            " 33%|███▎      | 7/21 [01:11<02:20, 10.06s/it]\u001b[A\n",
            " 38%|███▊      | 8/21 [01:21<02:13, 10.28s/it]\u001b[A\n",
            " 43%|████▎     | 9/21 [01:31<02:01, 10.14s/it]\u001b[A\n",
            " 48%|████▊     | 10/21 [01:43<01:55, 10.51s/it]\u001b[A\n",
            " 52%|█████▏    | 11/21 [01:54<01:46, 10.68s/it]\u001b[A\n",
            " 57%|█████▋    | 12/21 [02:04<01:34, 10.51s/it]\u001b[A\n",
            " 62%|██████▏   | 13/21 [02:14<01:24, 10.52s/it]\u001b[A\n",
            " 67%|██████▋   | 14/21 [02:25<01:13, 10.47s/it]\u001b[A\n",
            " 71%|███████▏  | 15/21 [02:36<01:03, 10.61s/it]\u001b[A\n",
            " 76%|███████▌  | 16/21 [02:47<00:54, 10.94s/it]\u001b[A\n",
            " 81%|████████  | 17/21 [02:57<00:42, 10.64s/it]\u001b[A\n",
            " 86%|████████▌ | 18/21 [03:07<00:31, 10.50s/it]\u001b[A\n",
            " 90%|█████████ | 19/21 [03:19<00:21, 10.86s/it]\u001b[A\n",
            " 95%|█████████▌| 20/21 [03:29<00:10, 10.64s/it]\u001b[A\n",
            "100%|██████████| 21/21 [03:39<00:00, 10.48s/it]\n",
            " 40%|████      | 2/5 [07:21<11:02, 220.75s/it]\n",
            "  0%|          | 0/21 [00:00<?, ?it/s]\u001b[A\n",
            "  5%|▍         | 1/21 [00:10<03:29, 10.48s/it]\u001b[A\n",
            " 10%|▉         | 2/21 [00:20<03:18, 10.47s/it]\u001b[A\n",
            " 14%|█▍        | 3/21 [00:31<03:06, 10.36s/it]\u001b[A\n",
            " 19%|█▉        | 4/21 [00:42<02:59, 10.56s/it]\u001b[A\n",
            " 24%|██▍       | 5/21 [00:52<02:49, 10.57s/it]\u001b[A\n",
            " 29%|██▊       | 6/21 [01:03<02:37, 10.53s/it]\u001b[A\n",
            " 33%|███▎      | 7/21 [01:13<02:27, 10.54s/it]\u001b[A\n",
            " 38%|███▊      | 8/21 [01:23<02:13, 10.29s/it]\u001b[A\n",
            " 43%|████▎     | 9/21 [01:34<02:07, 10.63s/it]\u001b[A\n",
            " 48%|████▊     | 10/21 [01:45<01:57, 10.66s/it]\u001b[A\n",
            " 52%|█████▏    | 11/21 [01:55<01:46, 10.60s/it]\u001b[A\n",
            " 57%|█████▋    | 12/21 [02:06<01:35, 10.59s/it]\u001b[A\n",
            " 62%|██████▏   | 13/21 [02:17<01:24, 10.58s/it]\u001b[A\n",
            " 67%|██████▋   | 14/21 [02:28<01:14, 10.68s/it]\u001b[A\n",
            " 71%|███████▏  | 15/21 [02:39<01:05, 10.93s/it]\u001b[A\n",
            " 76%|███████▌  | 16/21 [02:50<00:54, 10.87s/it]\u001b[A\n",
            " 81%|████████  | 17/21 [03:00<00:43, 10.83s/it]\u001b[A\n",
            " 86%|████████▌ | 18/21 [03:11<00:31, 10.62s/it]\u001b[A\n",
            " 90%|█████████ | 19/21 [03:21<00:21, 10.63s/it]\u001b[A\n",
            " 95%|█████████▌| 20/21 [03:31<00:10, 10.44s/it]\u001b[A\n",
            "100%|██████████| 21/21 [03:42<00:00, 10.60s/it]\n",
            " 60%|██████    | 3/5 [11:04<07:23, 221.55s/it]\n",
            "  0%|          | 0/21 [00:00<?, ?it/s]\u001b[A\n",
            "  5%|▍         | 1/21 [00:10<03:24, 10.23s/it]\u001b[A\n",
            " 10%|▉         | 2/21 [00:21<03:27, 10.95s/it]\u001b[A\n",
            " 14%|█▍        | 3/21 [00:31<03:10, 10.60s/it]\u001b[A\n",
            " 19%|█▉        | 4/21 [00:42<03:03, 10.79s/it]\u001b[A\n",
            " 24%|██▍       | 5/21 [00:53<02:51, 10.71s/it]\u001b[A\n",
            " 29%|██▊       | 6/21 [01:03<02:35, 10.38s/it]\u001b[A\n",
            " 33%|███▎      | 7/21 [01:14<02:28, 10.60s/it]\u001b[A\n",
            " 38%|███▊      | 8/21 [01:24<02:17, 10.61s/it]\u001b[A\n",
            " 43%|████▎     | 9/21 [01:34<02:04, 10.36s/it]\u001b[A\n",
            " 48%|████▊     | 10/21 [01:44<01:51, 10.15s/it]\u001b[A\n",
            " 52%|█████▏    | 11/21 [01:55<01:43, 10.32s/it]\u001b[A\n",
            " 57%|█████▋    | 12/21 [02:05<01:32, 10.31s/it]\u001b[A\n",
            " 62%|██████▏   | 13/21 [02:16<01:24, 10.55s/it]\u001b[A\n",
            " 67%|██████▋   | 14/21 [02:27<01:15, 10.72s/it]\u001b[A\n",
            " 71%|███████▏  | 15/21 [02:38<01:03, 10.63s/it]\u001b[A\n",
            " 76%|███████▌  | 16/21 [02:48<00:52, 10.50s/it]\u001b[A\n",
            " 81%|████████  | 17/21 [02:58<00:42, 10.56s/it]\u001b[A\n",
            " 86%|████████▌ | 18/21 [03:09<00:31, 10.51s/it]\u001b[A\n",
            " 90%|█████████ | 19/21 [03:19<00:20, 10.39s/it]\u001b[A\n",
            " 95%|█████████▌| 20/21 [03:30<00:10, 10.72s/it]\u001b[A\n",
            "100%|██████████| 21/21 [03:41<00:00, 10.57s/it]\n",
            " 80%|████████  | 4/5 [14:46<03:41, 221.71s/it]\n",
            "  0%|          | 0/21 [00:00<?, ?it/s]\u001b[A\n",
            "  5%|▍         | 1/21 [00:10<03:28, 10.42s/it]\u001b[A\n",
            " 10%|▉         | 2/21 [00:21<03:21, 10.59s/it]\u001b[A\n",
            " 14%|█▍        | 3/21 [00:31<03:06, 10.34s/it]\u001b[A\n",
            " 19%|█▉        | 4/21 [00:40<02:51, 10.06s/it]\u001b[A\n",
            " 24%|██▍       | 5/21 [00:49<02:35,  9.72s/it]\u001b[A\n",
            " 29%|██▊       | 6/21 [00:59<02:24,  9.61s/it]\u001b[A\n",
            " 33%|███▎      | 7/21 [01:10<02:21, 10.10s/it]\u001b[A\n",
            " 38%|███▊      | 8/21 [01:21<02:15, 10.46s/it]\u001b[A\n",
            " 43%|████▎     | 9/21 [01:32<02:07, 10.60s/it]\u001b[A\n",
            " 48%|████▊     | 10/21 [01:44<01:59, 10.90s/it]\u001b[A\n",
            " 52%|█████▏    | 11/21 [01:54<01:48, 10.88s/it]\u001b[A\n",
            " 57%|█████▋    | 12/21 [02:05<01:37, 10.87s/it]\u001b[A\n",
            " 62%|██████▏   | 13/21 [02:15<01:25, 10.66s/it]\u001b[A\n",
            " 67%|██████▋   | 14/21 [02:26<01:14, 10.59s/it]\u001b[A\n",
            " 71%|███████▏  | 15/21 [02:36<01:03, 10.59s/it]\u001b[A\n",
            " 76%|███████▌  | 16/21 [02:48<00:53, 10.77s/it]\u001b[A\n",
            " 81%|████████  | 17/21 [02:59<00:44, 11.07s/it]\u001b[A\n",
            " 86%|████████▌ | 18/21 [03:11<00:33, 11.10s/it]\u001b[A\n",
            " 90%|█████████ | 19/21 [03:21<00:21, 10.98s/it]\u001b[A\n",
            " 95%|█████████▌| 20/21 [03:32<00:10, 10.90s/it]\u001b[A\n",
            "100%|██████████| 21/21 [03:43<00:00, 10.63s/it]\n",
            "100%|██████████| 5/5 [18:29<00:00, 221.92s/it]\n"
          ]
        },
        {
          "metadata": {
            "tags": null
          },
          "name": "stdout",
          "output_type": "stream",
          "text": [
            "OUTSIDE LOOP AUC of Best\n",
            "Complex name 2B4J AUCROC 0.612128017967434 AUCPR 0.2155470205840981\n",
            "Equivalent epochs in one iteration of data loader 1.8467946396233248\n",
            "test complex  1YCQ\n"
          ]
        },
        {
          "metadata": {
            "tags": null
          },
          "name": "stderr",
          "output_type": "stream",
          "text": [
            "  0%|          | 0/5 [00:00<?, ?it/s]\n",
            "  0%|          | 0/20 [00:00<?, ?it/s]\u001b[A\n",
            "  5%|▌         | 1/20 [00:09<03:08,  9.91s/it]\u001b[A"
          ]
        },
        {
          "metadata": {
            "tags": null
          },
          "name": "stdout",
          "output_type": "stream",
          "text": [
            "LOADED BEST AUCROC 0.857022234731213 AUCPR 0.1616936676022007\n",
            "AUCROC 0.857022234731213 AUCPR 0.1616936676022007 best aucroc 0.857022234731213\n"
          ]
        },
        {
          "metadata": {
            "tags": null
          },
          "name": "stderr",
          "output_type": "stream",
          "text": [
            "\n",
            " 10%|█         | 2/20 [00:19<02:51,  9.52s/it]\u001b[A"
          ]
        },
        {
          "metadata": {
            "tags": null
          },
          "name": "stdout",
          "output_type": "stream",
          "text": [
            "LOADED BEST AUCROC 0.9006473402758233 AUCPR 0.1861907262809148\n",
            "AUCROC 0.9006473402758233 AUCPR 0.1861907262809148 best aucroc 0.9006473402758233\n"
          ]
        },
        {
          "metadata": {
            "tags": null
          },
          "name": "stderr",
          "output_type": "stream",
          "text": [
            "\n",
            " 15%|█▌        | 3/20 [00:28<02:42,  9.54s/it]\u001b[A"
          ]
        },
        {
          "metadata": {
            "tags": null
          },
          "name": "stdout",
          "output_type": "stream",
          "text": [
            "LOADED BEST AUCROC 0.9293554742471151 AUCPR 0.23582662477258592\n",
            "AUCROC 0.9293554742471151 AUCPR 0.23582662477258592 best aucroc 0.9293554742471151\n"
          ]
        },
        {
          "metadata": {
            "tags": null
          },
          "name": "stderr",
          "output_type": "stream",
          "text": [
            "\n",
            " 20%|██        | 4/20 [00:38<02:33,  9.61s/it]\u001b[A"
          ]
        },
        {
          "metadata": {
            "tags": null
          },
          "name": "stdout",
          "output_type": "stream",
          "text": [
            "LOADED BEST AUCROC 0.9456797072896144 AUCPR 0.2677766995199949\n",
            "AUCROC 0.9456797072896144 AUCPR 0.2677766995199949 best aucroc 0.9456797072896144\n"
          ]
        },
        {
          "metadata": {
            "tags": null
          },
          "name": "stderr",
          "output_type": "stream",
          "text": [
            "\n",
            " 25%|██▌       | 5/20 [00:48<02:24,  9.62s/it]\u001b[A"
          ]
        },
        {
          "metadata": {
            "tags": null
          },
          "name": "stdout",
          "output_type": "stream",
          "text": [
            "LOADED BEST AUCROC 0.9532789192231916 AUCPR 0.2965777566691833\n",
            "AUCROC 0.9532789192231916 AUCPR 0.2965777566691833 best aucroc 0.9532789192231916\n"
          ]
        },
        {
          "metadata": {
            "tags": null
          },
          "name": "stderr",
          "output_type": "stream",
          "text": [
            "\n",
            " 30%|███       | 6/20 [00:58<02:19,  9.97s/it]\u001b[A"
          ]
        },
        {
          "metadata": {
            "tags": null
          },
          "name": "stdout",
          "output_type": "stream",
          "text": [
            "LOADED BEST AUCROC 0.9591894173937519 AUCPR 0.32640587463846127\n",
            "AUCROC 0.9591894173937519 AUCPR 0.32640587463846127 best aucroc 0.9591894173937519\n"
          ]
        },
        {
          "metadata": {
            "tags": null
          },
          "name": "stderr",
          "output_type": "stream",
          "text": [
            "\n",
            " 35%|███▌      | 7/20 [01:07<02:04,  9.58s/it]\u001b[A\n",
            " 40%|████      | 8/20 [01:16<01:53,  9.42s/it]\u001b[A\n",
            " 45%|████▌     | 9/20 [01:25<01:41,  9.22s/it]\u001b[A\n",
            " 50%|█████     | 10/20 [01:35<01:36,  9.62s/it]\u001b[A"
          ]
        },
        {
          "metadata": {
            "tags": null
          },
          "name": "stdout",
          "output_type": "stream",
          "text": [
            "LOADED BEST AUCROC 0.9614410357444413 AUCPR 0.36822172996086044\n",
            "AUCROC 0.9614410357444413 AUCPR 0.36822172996086044 best aucroc 0.9614410357444413\n"
          ]
        },
        {
          "metadata": {
            "tags": null
          },
          "name": "stderr",
          "output_type": "stream",
          "text": [
            "\n",
            " 55%|█████▌    | 11/20 [01:45<01:27,  9.75s/it]\u001b[A\n",
            " 60%|██████    | 12/20 [01:56<01:20, 10.01s/it]\u001b[A"
          ]
        },
        {
          "metadata": {
            "tags": null
          },
          "name": "stdout",
          "output_type": "stream",
          "text": [
            "LOADED BEST AUCROC 0.9631297495074586 AUCPR 0.3895682367034544\n",
            "AUCROC 0.9631297495074586 AUCPR 0.3895682367034544 best aucroc 0.9631297495074586\n"
          ]
        },
        {
          "metadata": {
            "tags": null
          },
          "name": "stderr",
          "output_type": "stream",
          "text": [
            "\n",
            " 65%|██████▌   | 13/20 [02:06<01:10, 10.06s/it]\u001b[A"
          ]
        },
        {
          "metadata": {
            "tags": null
          },
          "name": "stdout",
          "output_type": "stream",
          "text": [
            "LOADED BEST AUCROC 0.9645370109766395 AUCPR 0.4294365081042598\n",
            "AUCROC 0.9645370109766395 AUCPR 0.4294365081042598 best aucroc 0.9645370109766395\n"
          ]
        },
        {
          "metadata": {
            "tags": null
          },
          "name": "stderr",
          "output_type": "stream",
          "text": [
            "\n",
            " 70%|███████   | 14/20 [02:16<00:59,  9.99s/it]\u001b[A"
          ]
        },
        {
          "metadata": {
            "tags": null
          },
          "name": "stdout",
          "output_type": "stream",
          "text": [
            "LOADED BEST AUCROC 0.9670700816211651 AUCPR 0.4364242915626315\n",
            "AUCROC 0.9670700816211651 AUCPR 0.4364242915626315 best aucroc 0.9670700816211651\n"
          ]
        },
        {
          "metadata": {
            "tags": null
          },
          "name": "stderr",
          "output_type": "stream",
          "text": [
            "\n",
            " 75%|███████▌  | 15/20 [02:26<00:49,  9.93s/it]\u001b[A\n",
            " 80%|████████  | 16/20 [02:35<00:38,  9.62s/it]\u001b[A\n",
            " 85%|████████▌ | 17/20 [02:45<00:29,  9.74s/it]\u001b[A\n",
            " 90%|█████████ | 18/20 [02:54<00:18,  9.48s/it]\u001b[A\n",
            " 95%|█████████▌| 19/20 [03:03<00:09,  9.31s/it]\u001b[A\n",
            "100%|██████████| 20/20 [03:12<00:00,  9.60s/it]\n",
            " 20%|██        | 1/5 [03:12<12:48, 192.01s/it]\n",
            "  0%|          | 0/20 [00:00<?, ?it/s]\u001b[A\n",
            "  5%|▌         | 1/20 [00:09<03:05,  9.76s/it]\u001b[A\n",
            " 10%|█         | 2/20 [00:19<02:51,  9.53s/it]\u001b[A\n",
            " 15%|█▌        | 3/20 [00:28<02:39,  9.38s/it]\u001b[A\n",
            " 20%|██        | 4/20 [00:37<02:29,  9.35s/it]\u001b[A\n",
            " 25%|██▌       | 5/20 [00:46<02:17,  9.19s/it]\u001b[A\n",
            " 30%|███       | 6/20 [00:55<02:07,  9.08s/it]\u001b[A\n",
            " 35%|███▌      | 7/20 [01:05<02:00,  9.25s/it]\u001b[A\n",
            " 40%|████      | 8/20 [01:14<01:50,  9.23s/it]\u001b[A\n",
            " 45%|████▌     | 9/20 [01:23<01:41,  9.24s/it]\u001b[A\n",
            " 50%|█████     | 10/20 [01:32<01:30,  9.06s/it]\u001b[A\n",
            " 55%|█████▌    | 11/20 [01:40<01:19,  8.85s/it]\u001b[A\n",
            " 60%|██████    | 12/20 [01:49<01:10,  8.86s/it]\u001b[A\n",
            " 65%|██████▌   | 13/20 [01:58<01:02,  8.91s/it]\u001b[A\n",
            " 70%|███████   | 14/20 [02:07<00:54,  9.10s/it]\u001b[A\n",
            " 75%|███████▌  | 15/20 [02:17<00:46,  9.21s/it]\u001b[A\n",
            " 80%|████████  | 16/20 [02:25<00:36,  9.01s/it]\u001b[A\n",
            " 85%|████████▌ | 17/20 [02:35<00:27,  9.25s/it]\u001b[A\n",
            " 90%|█████████ | 18/20 [02:44<00:18,  9.19s/it]\u001b[A\n",
            " 95%|█████████▌| 19/20 [02:54<00:09,  9.26s/it]\u001b[A\n",
            "100%|██████████| 20/20 [03:02<00:00,  9.12s/it]\n",
            " 40%|████      | 2/5 [06:14<09:19, 186.41s/it]\n",
            "  0%|          | 0/20 [00:00<?, ?it/s]\u001b[A\n",
            "  5%|▌         | 1/20 [00:10<03:15, 10.31s/it]\u001b[A\n",
            " 10%|█         | 2/20 [00:18<02:44,  9.15s/it]\u001b[A\n",
            " 15%|█▌        | 3/20 [00:27<02:31,  8.93s/it]\u001b[A\n",
            " 20%|██        | 4/20 [00:36<02:26,  9.17s/it]\u001b[A\n",
            " 25%|██▌       | 5/20 [00:46<02:22,  9.49s/it]\u001b[A\n",
            " 30%|███       | 6/20 [00:57<02:16,  9.78s/it]\u001b[A\n",
            " 35%|███▌      | 7/20 [01:06<02:03,  9.47s/it]\u001b[A\n",
            " 40%|████      | 8/20 [01:16<01:56,  9.74s/it]\u001b[A\n",
            " 45%|████▌     | 9/20 [01:25<01:46,  9.69s/it]\u001b[A\n",
            " 50%|█████     | 10/20 [01:34<01:34,  9.45s/it]\u001b[A\n",
            " 55%|█████▌    | 11/20 [01:44<01:24,  9.38s/it]\u001b[A\n",
            " 60%|██████    | 12/20 [01:52<01:11,  8.97s/it]\u001b[A\n",
            " 65%|██████▌   | 13/20 [02:00<01:01,  8.80s/it]\u001b[A\n",
            " 70%|███████   | 14/20 [02:09<00:52,  8.71s/it]\u001b[A\n",
            " 75%|███████▌  | 15/20 [02:18<00:43,  8.78s/it]\u001b[A\n",
            " 80%|████████  | 16/20 [02:27<00:36,  9.06s/it]\u001b[A\n",
            " 85%|████████▌ | 17/20 [02:36<00:26,  8.96s/it]\u001b[A\n",
            " 90%|█████████ | 18/20 [02:43<00:17,  8.51s/it]\u001b[A\n",
            " 95%|█████████▌| 19/20 [02:53<00:08,  8.89s/it]\u001b[A\n",
            "100%|██████████| 20/20 [03:02<00:00,  9.15s/it]\n",
            " 60%|██████    | 3/5 [09:17<06:09, 184.83s/it]\n",
            "  0%|          | 0/20 [00:00<?, ?it/s]\u001b[A\n",
            "  5%|▌         | 1/20 [00:09<02:51,  9.03s/it]\u001b[A\n",
            " 10%|█         | 2/20 [00:18<02:44,  9.12s/it]\u001b[A\n",
            " 15%|█▌        | 3/20 [00:27<02:34,  9.08s/it]\u001b[A\n",
            " 20%|██        | 4/20 [00:36<02:23,  8.96s/it]\u001b[A\n",
            " 25%|██▌       | 5/20 [00:45<02:17,  9.20s/it]\u001b[A\n",
            " 30%|███       | 6/20 [00:54<02:07,  9.13s/it]\u001b[A\n",
            " 35%|███▌      | 7/20 [01:03<01:58,  9.10s/it]\u001b[A\n",
            " 40%|████      | 8/20 [01:13<01:52,  9.35s/it]\u001b[A\n",
            " 45%|████▌     | 9/20 [01:22<01:40,  9.11s/it]\u001b[A\n",
            " 50%|█████     | 10/20 [01:31<01:31,  9.11s/it]\u001b[A\n",
            " 55%|█████▌    | 11/20 [01:39<01:20,  9.00s/it]\u001b[A\n",
            " 60%|██████    | 12/20 [01:48<01:11,  8.96s/it]\u001b[A\n",
            " 65%|██████▌   | 13/20 [01:58<01:04,  9.16s/it]\u001b[A\n",
            " 70%|███████   | 14/20 [02:07<00:55,  9.23s/it]\u001b[A\n",
            " 75%|███████▌  | 15/20 [02:18<00:47,  9.56s/it]\u001b[A\n",
            " 80%|████████  | 16/20 [02:26<00:37,  9.32s/it]\u001b[A\n",
            " 85%|████████▌ | 17/20 [02:37<00:28,  9.61s/it]\u001b[A\n",
            " 90%|█████████ | 18/20 [02:46<00:18,  9.46s/it]\u001b[A\n",
            " 95%|█████████▌| 19/20 [02:55<00:09,  9.32s/it]\u001b[A\n",
            "100%|██████████| 20/20 [03:04<00:00,  9.21s/it]\n",
            " 80%|████████  | 4/5 [12:21<03:04, 184.60s/it]\n",
            "  0%|          | 0/20 [00:00<?, ?it/s]\u001b[A\n",
            "  5%|▌         | 1/20 [00:08<02:49,  8.92s/it]\u001b[A\n",
            " 10%|█         | 2/20 [00:17<02:41,  8.96s/it]\u001b[A\n",
            " 15%|█▌        | 3/20 [00:27<02:37,  9.28s/it]\u001b[A\n",
            " 20%|██        | 4/20 [00:36<02:27,  9.20s/it]\u001b[A\n",
            " 25%|██▌       | 5/20 [00:46<02:20,  9.34s/it]\u001b[A\n",
            " 30%|███       | 6/20 [00:55<02:12,  9.46s/it]\u001b[A\n",
            " 35%|███▌      | 7/20 [01:05<02:01,  9.36s/it]\u001b[A\n",
            " 40%|████      | 8/20 [01:13<01:47,  8.98s/it]\u001b[A\n",
            " 45%|████▌     | 9/20 [01:21<01:37,  8.88s/it]\u001b[A\n",
            " 50%|█████     | 10/20 [01:31<01:31,  9.11s/it]\u001b[A\n",
            " 55%|█████▌    | 11/20 [01:40<01:22,  9.16s/it]\u001b[A\n",
            " 60%|██████    | 12/20 [01:49<01:12,  9.11s/it]\u001b[A\n",
            " 65%|██████▌   | 13/20 [01:59<01:04,  9.17s/it]\u001b[A\n",
            " 70%|███████   | 14/20 [02:08<00:54,  9.16s/it]\u001b[A\n",
            " 75%|███████▌  | 15/20 [02:18<00:46,  9.37s/it]\u001b[A\n",
            " 80%|████████  | 16/20 [02:26<00:36,  9.07s/it]\u001b[A\n",
            " 85%|████████▌ | 17/20 [02:35<00:26,  8.98s/it]\u001b[A\n",
            " 90%|█████████ | 18/20 [02:43<00:17,  8.89s/it]\u001b[A\n",
            " 95%|█████████▌| 19/20 [02:54<00:09,  9.28s/it]\u001b[A\n",
            "100%|██████████| 20/20 [03:03<00:00,  9.18s/it]\n",
            "100%|██████████| 5/5 [15:25<00:00, 185.06s/it]\n"
          ]
        },
        {
          "metadata": {
            "tags": null
          },
          "name": "stdout",
          "output_type": "stream",
          "text": [
            "OUTSIDE LOOP AUC of Best\n",
            "Complex name 1YCQ AUCROC 0.9670700816211651 AUCPR 0.4364242915626315\n",
            "Equivalent epochs in one iteration of data loader 1.8459173523826748\n",
            "test complex  3DAB\n"
          ]
        },
        {
          "metadata": {
            "tags": null
          },
          "name": "stderr",
          "output_type": "stream",
          "text": [
            "  0%|          | 0/5 [00:00<?, ?it/s]\n",
            "  0%|          | 0/20 [00:00<?, ?it/s]\u001b[A\n",
            "  5%|▌         | 1/20 [00:08<02:44,  8.67s/it]\u001b[A"
          ]
        },
        {
          "metadata": {
            "tags": null
          },
          "name": "stdout",
          "output_type": "stream",
          "text": [
            "LOADED BEST AUCROC 0.9152866242038216 AUCPR 0.09688023088023087\n",
            "AUCROC 0.9152866242038216 AUCPR 0.09688023088023087 best aucroc 0.9152866242038216\n"
          ]
        },
        {
          "metadata": {
            "tags": null
          },
          "name": "stderr",
          "output_type": "stream",
          "text": [
            "\n",
            " 10%|█         | 2/20 [00:18<02:44,  9.13s/it]\u001b[A"
          ]
        },
        {
          "metadata": {
            "tags": null
          },
          "name": "stdout",
          "output_type": "stream",
          "text": [
            "LOADED BEST AUCROC 0.9471337579617835 AUCPR 0.14855816722824394\n",
            "AUCROC 0.9471337579617835 AUCPR 0.14855816722824394 best aucroc 0.9471337579617835\n"
          ]
        },
        {
          "metadata": {
            "tags": null
          },
          "name": "stderr",
          "output_type": "stream",
          "text": [
            "\n",
            " 15%|█▌        | 3/20 [00:27<02:38,  9.31s/it]\u001b[A"
          ]
        },
        {
          "metadata": {
            "tags": null
          },
          "name": "stdout",
          "output_type": "stream",
          "text": [
            "LOADED BEST AUCROC 0.9764331210191083 AUCPR 0.2734432234432234\n",
            "AUCROC 0.9764331210191083 AUCPR 0.2734432234432234 best aucroc 0.9764331210191083\n"
          ]
        },
        {
          "metadata": {
            "tags": null
          },
          "name": "stderr",
          "output_type": "stream",
          "text": [
            "\n",
            " 20%|██        | 4/20 [00:37<02:30,  9.43s/it]\u001b[A"
          ]
        },
        {
          "metadata": {
            "tags": null
          },
          "name": "stdout",
          "output_type": "stream",
          "text": [
            "LOADED BEST AUCROC 0.9853503184713375 AUCPR 0.3759090909090909\n",
            "AUCROC 0.9853503184713375 AUCPR 0.3759090909090909 best aucroc 0.9853503184713375\n"
          ]
        },
        {
          "metadata": {
            "tags": null
          },
          "name": "stderr",
          "output_type": "stream",
          "text": [
            "\n",
            " 25%|██▌       | 5/20 [00:45<02:15,  9.00s/it]\u001b[A"
          ]
        },
        {
          "metadata": {
            "tags": null
          },
          "name": "stdout",
          "output_type": "stream",
          "text": [
            "LOADED BEST AUCROC 0.9904458598726115 AUCPR 0.4692857142857143\n",
            "AUCROC 0.9904458598726115 AUCPR 0.4692857142857143 best aucroc 0.9904458598726115\n"
          ]
        },
        {
          "metadata": {
            "tags": null
          },
          "name": "stderr",
          "output_type": "stream",
          "text": [
            "\n",
            " 30%|███       | 6/20 [00:54<02:03,  8.84s/it]\u001b[A\n",
            " 35%|███▌      | 7/20 [01:02<01:54,  8.83s/it]\u001b[A\n",
            " 40%|████      | 8/20 [01:11<01:43,  8.64s/it]\u001b[A"
          ]
        },
        {
          "metadata": {
            "tags": null
          },
          "name": "stdout",
          "output_type": "stream",
          "text": [
            "LOADED BEST AUCROC 0.9923566878980892 AUCPR 0.5587301587301587\n",
            "AUCROC 0.9923566878980892 AUCPR 0.5587301587301587 best aucroc 0.9923566878980892\n"
          ]
        },
        {
          "metadata": {
            "tags": null
          },
          "name": "stderr",
          "output_type": "stream",
          "text": [
            "\n",
            " 45%|████▌     | 9/20 [01:20<01:36,  8.75s/it]\u001b[A"
          ]
        },
        {
          "metadata": {
            "tags": null
          },
          "name": "stdout",
          "output_type": "stream",
          "text": [
            "LOADED BEST AUCROC 0.9936305732484076 AUCPR 0.7253968253968255\n",
            "AUCROC 0.9936305732484076 AUCPR 0.7253968253968255 best aucroc 0.9936305732484076\n"
          ]
        },
        {
          "metadata": {
            "tags": null
          },
          "name": "stderr",
          "output_type": "stream",
          "text": [
            "\n",
            " 50%|█████     | 10/20 [01:29<01:28,  8.85s/it]\u001b[A"
          ]
        },
        {
          "metadata": {
            "tags": null
          },
          "name": "stdout",
          "output_type": "stream",
          "text": [
            "LOADED BEST AUCROC 0.9942675159235668 AUCPR 0.6977777777777778\n",
            "AUCROC 0.9942675159235668 AUCPR 0.6977777777777778 best aucroc 0.9942675159235668\n"
          ]
        },
        {
          "metadata": {
            "tags": null
          },
          "name": "stderr",
          "output_type": "stream",
          "text": [
            "\n",
            " 55%|█████▌    | 11/20 [01:38<01:21,  9.08s/it]\u001b[A"
          ]
        },
        {
          "metadata": {
            "tags": null
          },
          "name": "stdout",
          "output_type": "stream",
          "text": [
            "LOADED BEST AUCROC 0.9955414012738855 AUCPR 0.7416666666666667\n",
            "AUCROC 0.9955414012738855 AUCPR 0.7416666666666667 best aucroc 0.9955414012738855\n"
          ]
        },
        {
          "metadata": {
            "tags": null
          },
          "name": "stderr",
          "output_type": "stream",
          "text": [
            "\n",
            " 60%|██████    | 12/20 [01:47<01:11,  8.97s/it]\u001b[A"
          ]
        },
        {
          "metadata": {
            "tags": null
          },
          "name": "stdout",
          "output_type": "stream",
          "text": [
            "LOADED BEST AUCROC 0.9968152866242038 AUCPR 0.835\n",
            "AUCROC 0.9968152866242038 AUCPR 0.835 best aucroc 0.9968152866242038\n"
          ]
        },
        {
          "metadata": {
            "tags": null
          },
          "name": "stderr",
          "output_type": "stream",
          "text": [
            "\n",
            " 65%|██████▌   | 13/20 [01:55<01:01,  8.73s/it]\u001b[A\n",
            " 70%|███████   | 14/20 [02:04<00:51,  8.66s/it]\u001b[A"
          ]
        },
        {
          "metadata": {
            "tags": null
          },
          "name": "stdout",
          "output_type": "stream",
          "text": [
            "LOADED BEST AUCROC 0.9980891719745223 AUCPR 0.925\n",
            "AUCROC 0.9980891719745223 AUCPR 0.925 best aucroc 0.9980891719745223\n"
          ]
        },
        {
          "metadata": {
            "tags": null
          },
          "name": "stderr",
          "output_type": "stream",
          "text": [
            "\n",
            " 75%|███████▌  | 15/20 [02:12<00:42,  8.46s/it]\u001b[A\n",
            " 80%|████████  | 16/20 [02:20<00:34,  8.50s/it]\u001b[A\n",
            " 85%|████████▌ | 17/20 [02:29<00:25,  8.45s/it]\u001b[A\n",
            " 90%|█████████ | 18/20 [02:38<00:17,  8.75s/it]\u001b[A\n",
            " 95%|█████████▌| 19/20 [02:47<00:08,  8.83s/it]\u001b[A\n",
            "100%|██████████| 20/20 [02:57<00:00,  8.89s/it]\n",
            " 20%|██        | 1/5 [02:57<11:51, 177.86s/it]\n",
            "  0%|          | 0/20 [00:00<?, ?it/s]\u001b[A\n",
            "  5%|▌         | 1/20 [00:09<03:03,  9.64s/it]\u001b[A\n",
            " 10%|█         | 2/20 [00:18<02:47,  9.28s/it]\u001b[A\n",
            " 15%|█▌        | 3/20 [00:27<02:33,  9.05s/it]\u001b[A\n",
            " 20%|██        | 4/20 [00:36<02:22,  8.92s/it]\u001b[A\n",
            " 25%|██▌       | 5/20 [00:45<02:14,  9.00s/it]\u001b[A\n",
            " 30%|███       | 6/20 [00:54<02:06,  9.04s/it]\u001b[A\n",
            " 35%|███▌      | 7/20 [01:04<02:00,  9.26s/it]\u001b[A\n",
            " 40%|████      | 8/20 [01:12<01:46,  8.91s/it]\u001b[A\n",
            " 45%|████▌     | 9/20 [01:20<01:35,  8.64s/it]\u001b[A\n",
            " 50%|█████     | 10/20 [01:28<01:24,  8.41s/it]\u001b[A\n",
            " 55%|█████▌    | 11/20 [01:36<01:15,  8.44s/it]\u001b[A\n",
            " 60%|██████    | 12/20 [01:46<01:11,  8.89s/it]\u001b[A\n",
            " 65%|██████▌   | 13/20 [01:55<01:02,  8.95s/it]\u001b[A\n",
            " 70%|███████   | 14/20 [02:03<00:52,  8.69s/it]\u001b[A\n",
            " 75%|███████▌  | 15/20 [02:11<00:42,  8.41s/it]\u001b[A\n",
            " 80%|████████  | 16/20 [02:20<00:33,  8.44s/it]\u001b[A\n",
            " 85%|████████▌ | 17/20 [02:29<00:26,  8.72s/it]\u001b[A\n",
            " 90%|█████████ | 18/20 [02:38<00:17,  8.81s/it]\u001b[A\n",
            " 95%|█████████▌| 19/20 [02:46<00:08,  8.70s/it]\u001b[A\n",
            "100%|██████████| 20/20 [02:55<00:00,  8.79s/it]\n",
            " 40%|████      | 2/5 [05:53<08:49, 176.61s/it]\n",
            "  0%|          | 0/20 [00:00<?, ?it/s]\u001b[A\n",
            "  5%|▌         | 1/20 [00:09<02:57,  9.33s/it]\u001b[A\n",
            " 10%|█         | 2/20 [00:17<02:36,  8.69s/it]\u001b[A\n",
            " 15%|█▌        | 3/20 [00:26<02:32,  8.95s/it]\u001b[A\n",
            " 20%|██        | 4/20 [00:36<02:25,  9.09s/it]\u001b[A\n",
            " 25%|██▌       | 5/20 [00:44<02:10,  8.67s/it]\u001b[A\n",
            " 30%|███       | 6/20 [00:53<02:03,  8.82s/it]\u001b[A\n",
            " 35%|███▌      | 7/20 [01:01<01:54,  8.79s/it]\u001b[A\n",
            " 40%|████      | 8/20 [01:09<01:42,  8.52s/it]\u001b[A\n",
            " 45%|████▌     | 9/20 [01:18<01:34,  8.61s/it]\u001b[A\n",
            " 50%|█████     | 10/20 [01:27<01:26,  8.66s/it]\u001b[A\n",
            " 55%|█████▌    | 11/20 [01:35<01:17,  8.59s/it]\u001b[A\n",
            " 60%|██████    | 12/20 [01:45<01:10,  8.86s/it]\u001b[A\n",
            " 65%|██████▌   | 13/20 [01:54<01:01,  8.84s/it]\u001b[A\n",
            " 70%|███████   | 14/20 [02:04<00:54,  9.15s/it]\u001b[A\n",
            " 75%|███████▌  | 15/20 [02:12<00:44,  8.96s/it]\u001b[A\n",
            " 80%|████████  | 16/20 [02:21<00:35,  8.99s/it]\u001b[A\n",
            " 85%|████████▌ | 17/20 [02:30<00:26,  8.93s/it]\u001b[A\n",
            " 90%|█████████ | 18/20 [02:39<00:18,  9.05s/it]\u001b[A\n",
            " 95%|█████████▌| 19/20 [02:48<00:08,  8.98s/it]\u001b[A\n",
            "100%|██████████| 20/20 [02:56<00:00,  8.85s/it]\n",
            " 60%|██████    | 3/5 [08:50<05:53, 176.78s/it]\n",
            "  0%|          | 0/20 [00:00<?, ?it/s]\u001b[A\n",
            "  5%|▌         | 1/20 [00:09<03:04,  9.71s/it]\u001b[A\n",
            " 10%|█         | 2/20 [00:19<02:52,  9.56s/it]\u001b[A\n",
            " 15%|█▌        | 3/20 [00:26<02:28,  8.72s/it]\u001b[A\n",
            " 20%|██        | 4/20 [00:37<02:28,  9.27s/it]\u001b[A\n",
            " 25%|██▌       | 5/20 [00:47<02:23,  9.56s/it]\u001b[A\n",
            " 30%|███       | 6/20 [00:55<02:09,  9.22s/it]\u001b[A\n",
            " 35%|███▌      | 7/20 [01:03<01:55,  8.88s/it]\u001b[A\n",
            " 40%|████      | 8/20 [01:13<01:49,  9.11s/it]\u001b[A\n",
            " 45%|████▌     | 9/20 [01:22<01:38,  8.99s/it]\u001b[A\n",
            " 50%|█████     | 10/20 [01:29<01:23,  8.36s/it]\u001b[A\n",
            " 55%|█████▌    | 11/20 [01:37<01:16,  8.52s/it]\u001b[A\n",
            " 60%|██████    | 12/20 [01:46<01:08,  8.55s/it]\u001b[A\n",
            " 65%|██████▌   | 13/20 [01:56<01:02,  8.89s/it]\u001b[A\n",
            " 70%|███████   | 14/20 [02:05<00:54,  9.13s/it]\u001b[A\n",
            " 75%|███████▌  | 15/20 [02:13<00:43,  8.76s/it]\u001b[A\n",
            " 80%|████████  | 16/20 [02:22<00:35,  8.79s/it]\u001b[A\n",
            " 85%|████████▌ | 17/20 [02:30<00:25,  8.53s/it]\u001b[A\n",
            " 90%|█████████ | 18/20 [02:38<00:16,  8.22s/it]\u001b[A\n",
            " 95%|█████████▌| 19/20 [02:47<00:08,  8.46s/it]\u001b[A\n",
            "100%|██████████| 20/20 [02:56<00:00,  8.81s/it]\n",
            " 80%|████████  | 4/5 [11:46<02:56, 176.58s/it]\n",
            "  0%|          | 0/20 [00:00<?, ?it/s]\u001b[A\n",
            "  5%|▌         | 1/20 [00:09<02:54,  9.21s/it]\u001b[A\n",
            " 10%|█         | 2/20 [00:17<02:38,  8.82s/it]\u001b[A\n",
            " 15%|█▌        | 3/20 [00:26<02:27,  8.67s/it]\u001b[A\n",
            " 20%|██        | 4/20 [00:34<02:17,  8.62s/it]\u001b[A\n",
            " 25%|██▌       | 5/20 [00:43<02:10,  8.67s/it]\u001b[A\n",
            " 30%|███       | 6/20 [00:52<02:04,  8.86s/it]\u001b[A\n",
            " 35%|███▌      | 7/20 [01:01<01:55,  8.85s/it]\u001b[A\n",
            " 40%|████      | 8/20 [01:11<01:48,  9.06s/it]\u001b[A\n",
            " 45%|████▌     | 9/20 [01:19<01:36,  8.75s/it]\u001b[A\n",
            " 50%|█████     | 10/20 [01:28<01:27,  8.78s/it]\u001b[A\n",
            " 55%|█████▌    | 11/20 [01:35<01:16,  8.45s/it]\u001b[A\n",
            " 60%|██████    | 12/20 [01:44<01:07,  8.45s/it]\u001b[A\n",
            " 65%|██████▌   | 13/20 [01:52<00:59,  8.52s/it]\u001b[A\n",
            " 70%|███████   | 14/20 [02:02<00:52,  8.76s/it]\u001b[A\n",
            " 75%|███████▌  | 15/20 [02:10<00:42,  8.51s/it]\u001b[A\n",
            " 80%|████████  | 16/20 [02:19<00:35,  8.87s/it]\u001b[A\n",
            " 85%|████████▌ | 17/20 [02:28<00:26,  8.96s/it]\u001b[A\n",
            " 90%|█████████ | 18/20 [02:38<00:18,  9.26s/it]\u001b[A\n",
            " 95%|█████████▌| 19/20 [02:46<00:08,  8.85s/it]\u001b[A\n",
            "100%|██████████| 20/20 [02:55<00:00,  8.77s/it]\n",
            "100%|██████████| 5/5 [14:42<00:00, 176.45s/it]\n"
          ]
        },
        {
          "metadata": {
            "tags": null
          },
          "name": "stdout",
          "output_type": "stream",
          "text": [
            "OUTSIDE LOOP AUC of Best\n",
            "Complex name 3DAB AUCROC 0.9980891719745223 AUCPR 0.925\n",
            "Equivalent epochs in one iteration of data loader 1.85079166293944\n",
            "test complex  4GQ6\n"
          ]
        },
        {
          "metadata": {
            "tags": null
          },
          "name": "stderr",
          "output_type": "stream",
          "text": [
            "  0%|          | 0/5 [00:00<?, ?it/s]\n",
            "  0%|          | 0/21 [00:00<?, ?it/s]\u001b[A\n",
            "  5%|▍         | 1/21 [00:09<03:19,  9.97s/it]\u001b[A"
          ]
        },
        {
          "metadata": {
            "tags": null
          },
          "name": "stdout",
          "output_type": "stream",
          "text": [
            "LOADED BEST AUCROC 0.692193675889328 AUCPR 0.16584914648126714\n",
            "AUCROC 0.692193675889328 AUCPR 0.16584914648126714 best aucroc 0.692193675889328\n"
          ]
        },
        {
          "metadata": {
            "tags": null
          },
          "name": "stderr",
          "output_type": "stream",
          "text": [
            "\n",
            " 10%|▉         | 2/21 [00:20<03:18, 10.46s/it]\u001b[A"
          ]
        },
        {
          "metadata": {
            "tags": null
          },
          "name": "stdout",
          "output_type": "stream",
          "text": [
            "LOADED BEST AUCROC 0.7346837944664032 AUCPR 0.18728776920470147\n",
            "AUCROC 0.7346837944664032 AUCPR 0.18728776920470147 best aucroc 0.7346837944664032\n"
          ]
        },
        {
          "metadata": {
            "tags": null
          },
          "name": "stderr",
          "output_type": "stream",
          "text": [
            "\n",
            " 14%|█▍        | 3/21 [00:31<03:06, 10.35s/it]\u001b[A"
          ]
        },
        {
          "metadata": {
            "tags": null
          },
          "name": "stdout",
          "output_type": "stream",
          "text": [
            "LOADED BEST AUCROC 0.7551877470355731 AUCPR 0.19891752364854365\n",
            "AUCROC 0.7551877470355731 AUCPR 0.19891752364854365 best aucroc 0.7551877470355731\n"
          ]
        },
        {
          "output_type": "stream",
          "name": "stderr",
          "text": [
            "\n",
            " 19%|█▉        | 4/21 [00:42<03:00, 10.63s/it]\u001b[A\n",
            " 24%|██▍       | 5/21 [00:50<02:39,  9.96s/it]\u001b[A\n",
            " 29%|██▊       | 6/21 [00:59<02:23,  9.56s/it]\u001b[A\n",
            " 33%|███▎      | 7/21 [01:09<02:14,  9.60s/it]\u001b[A\n",
            " 38%|███▊      | 8/21 [01:18<02:05,  9.62s/it]\u001b[A\n",
            " 43%|████▎     | 9/21 [01:29<01:57,  9.80s/it]\u001b[A\n",
            " 48%|████▊     | 10/21 [01:38<01:46,  9.68s/it]\u001b[A\n",
            " 52%|█████▏    | 11/21 [01:46<01:30,  9.06s/it]\u001b[A\n",
            " 57%|█████▋    | 12/21 [01:55<01:21,  9.04s/it]\u001b[A\n",
            " 62%|██████▏   | 13/21 [02:04<01:13,  9.25s/it]\u001b[A\n",
            " 67%|██████▋   | 14/21 [02:14<01:05,  9.36s/it]\u001b[A\n",
            " 71%|███████▏  | 15/21 [02:23<00:55,  9.31s/it]\u001b[A\n",
            " 76%|███████▌  | 16/21 [02:33<00:46,  9.35s/it]\u001b[A\n",
            " 81%|████████  | 17/21 [02:42<00:37,  9.30s/it]\u001b[A\n",
            " 86%|████████▌ | 18/21 [02:52<00:28,  9.41s/it]\u001b[A\n",
            " 90%|█████████ | 19/21 [03:01<00:18,  9.28s/it]\u001b[A\n",
            " 95%|█████████▌| 20/21 [03:10<00:09,  9.33s/it]\u001b[A\n",
            "100%|██████████| 21/21 [03:19<00:00,  9.48s/it]\n",
            " 20%|██        | 1/5 [03:19<13:16, 199.04s/it]\n",
            "  0%|          | 0/21 [00:00<?, ?it/s]\u001b[A\n",
            "  5%|▍         | 1/21 [00:08<02:56,  8.83s/it]\u001b[A\n",
            " 10%|▉         | 2/21 [00:18<02:56,  9.28s/it]\u001b[A\n",
            " 14%|█▍        | 3/21 [00:26<02:39,  8.85s/it]\u001b[A\n",
            " 19%|█▉        | 4/21 [00:36<02:34,  9.06s/it]\u001b[A\n",
            " 24%|██▍       | 5/21 [00:46<02:31,  9.46s/it]\u001b[A\n",
            " 29%|██▊       | 6/21 [00:56<02:27,  9.81s/it]\u001b[A\n",
            " 33%|███▎      | 7/21 [01:06<02:16,  9.77s/it]\u001b[A\n",
            " 38%|███▊      | 8/21 [01:15<02:04,  9.54s/it]\u001b[A\n",
            " 43%|████▎     | 9/21 [01:24<01:52,  9.39s/it]\u001b[A\n",
            " 48%|████▊     | 10/21 [01:34<01:44,  9.47s/it]\u001b[A\n",
            " 52%|█████▏    | 11/21 [01:44<01:36,  9.69s/it]\u001b[A\n",
            " 57%|█████▋    | 12/21 [01:54<01:28,  9.88s/it]\u001b[A\n",
            " 62%|██████▏   | 13/21 [02:03<01:16,  9.54s/it]\u001b[A\n",
            " 67%|██████▋   | 14/21 [02:12<01:06,  9.44s/it]\u001b[A\n",
            " 71%|███████▏  | 15/21 [02:22<00:56,  9.44s/it]\u001b[A\n",
            " 76%|███████▌  | 16/21 [02:31<00:46,  9.35s/it]\u001b[A\n",
            " 81%|████████  | 17/21 [02:40<00:37,  9.40s/it]\u001b[A\n",
            " 86%|████████▌ | 18/21 [02:50<00:28,  9.37s/it]\u001b[A\n",
            " 90%|█████████ | 19/21 [02:58<00:18,  9.04s/it]\u001b[A\n",
            " 95%|█████████▌| 20/21 [03:06<00:08,  8.77s/it]\u001b[A\n",
            "100%|██████████| 21/21 [03:15<00:00,  9.31s/it]\n",
            " 40%|████      | 2/5 [06:34<09:50, 196.92s/it]\n",
            "  0%|          | 0/21 [00:00<?, ?it/s]\u001b[A\n",
            "  5%|▍         | 1/21 [00:09<03:01,  9.07s/it]\u001b[A\n",
            " 10%|▉         | 2/21 [00:17<02:45,  8.72s/it]\u001b[A\n",
            " 14%|█▍        | 3/21 [00:26<02:39,  8.85s/it]\u001b[A\n",
            " 19%|█▉        | 4/21 [00:35<02:34,  9.07s/it]\u001b[A\n",
            " 24%|██▍       | 5/21 [00:45<02:29,  9.31s/it]\u001b[A\n",
            " 29%|██▊       | 6/21 [00:55<02:19,  9.32s/it]\u001b[A\n",
            " 33%|███▎      | 7/21 [01:02<02:03,  8.85s/it]\u001b[A\n",
            " 38%|███▊      | 8/21 [01:11<01:54,  8.79s/it]\u001b[A\n",
            " 43%|████▎     | 9/21 [01:20<01:44,  8.75s/it]\u001b[A\n",
            " 48%|████▊     | 10/21 [01:29<01:38,  8.92s/it]\u001b[A\n",
            " 52%|█████▏    | 11/21 [01:39<01:33,  9.34s/it]\u001b[A\n",
            " 57%|█████▋    | 12/21 [01:50<01:27,  9.68s/it]\u001b[A\n",
            " 62%|██████▏   | 13/21 [01:59<01:15,  9.50s/it]\u001b[A\n",
            " 67%|██████▋   | 14/21 [02:08<01:06,  9.48s/it]\u001b[A\n",
            " 71%|███████▏  | 15/21 [02:19<00:59,  9.90s/it]\u001b[A\n",
            " 76%|███████▌  | 16/21 [02:29<00:49,  9.91s/it]\u001b[A\n",
            " 81%|████████  | 17/21 [02:38<00:38,  9.57s/it]\u001b[A\n",
            " 86%|████████▌ | 18/21 [02:47<00:28,  9.51s/it]\u001b[A\n",
            " 90%|█████████ | 19/21 [02:58<00:19,  9.73s/it]\u001b[A\n",
            " 95%|█████████▌| 20/21 [03:06<00:09,  9.50s/it]\u001b[A\n",
            "100%|██████████| 21/21 [03:17<00:00,  9.39s/it]\n",
            " 60%|██████    | 3/5 [09:51<06:34, 197.03s/it]\n",
            "  0%|          | 0/21 [00:00<?, ?it/s]\u001b[A\n",
            "  5%|▍         | 1/21 [00:10<03:20, 10.04s/it]\u001b[A\n",
            " 10%|▉         | 2/21 [00:18<02:56,  9.27s/it]\u001b[A\n",
            " 14%|█▍        | 3/21 [00:28<02:53,  9.66s/it]\u001b[A\n",
            " 19%|█▉        | 4/21 [00:38<02:42,  9.58s/it]\u001b[A\n",
            " 24%|██▍       | 5/21 [00:48<02:38,  9.94s/it]\u001b[A\n",
            " 29%|██▊       | 6/21 [00:57<02:23,  9.56s/it]\u001b[A\n",
            " 33%|███▎      | 7/21 [01:06<02:10,  9.31s/it]\u001b[A\n",
            " 38%|███▊      | 8/21 [01:16<02:03,  9.49s/it]\u001b[A\n",
            " 43%|████▎     | 9/21 [01:25<01:53,  9.42s/it]\u001b[A\n",
            " 48%|████▊     | 10/21 [01:35<01:45,  9.56s/it]\u001b[A\n",
            " 52%|█████▏    | 11/21 [01:44<01:33,  9.30s/it]\u001b[A\n",
            " 57%|█████▋    | 12/21 [01:53<01:22,  9.22s/it]\u001b[A\n",
            " 62%|██████▏   | 13/21 [02:02<01:14,  9.32s/it]\u001b[A\n",
            " 67%|██████▋   | 14/21 [02:11<01:03,  9.02s/it]\u001b[A\n",
            " 71%|███████▏  | 15/21 [02:20<00:53,  8.98s/it]\u001b[A\n",
            " 76%|███████▌  | 16/21 [02:28<00:44,  8.92s/it]\u001b[A\n",
            " 81%|████████  | 17/21 [02:38<00:36,  9.23s/it]\u001b[A\n",
            " 86%|████████▌ | 18/21 [02:47<00:27,  9.22s/it]\u001b[A\n",
            " 90%|█████████ | 19/21 [02:56<00:18,  9.12s/it]\u001b[A\n",
            " 95%|█████████▌| 20/21 [03:06<00:09,  9.22s/it]\u001b[A\n",
            "100%|██████████| 21/21 [03:16<00:00,  9.35s/it]\n",
            " 80%|████████  | 4/5 [13:07<03:16, 196.73s/it]\n",
            "  0%|          | 0/21 [00:00<?, ?it/s]\u001b[A\n",
            "  5%|▍         | 1/21 [00:09<03:09,  9.47s/it]\u001b[A\n",
            " 10%|▉         | 2/21 [00:19<03:00,  9.51s/it]\u001b[A\n",
            " 14%|█▍        | 3/21 [00:28<02:53,  9.64s/it]\u001b[A\n",
            " 19%|█▉        | 4/21 [00:36<02:33,  9.02s/it]\u001b[A\n",
            " 24%|██▍       | 5/21 [00:46<02:27,  9.23s/it]\u001b[A\n",
            " 29%|██▊       | 6/21 [00:56<02:21,  9.42s/it]\u001b[A\n",
            " 33%|███▎      | 7/21 [01:04<02:07,  9.11s/it]\u001b[A\n",
            " 38%|███▊      | 8/21 [01:13<01:56,  8.98s/it]\u001b[A\n",
            " 43%|████▎     | 9/21 [01:23<01:50,  9.19s/it]\u001b[A\n",
            " 48%|████▊     | 10/21 [01:32<01:40,  9.14s/it]\u001b[A\n",
            " 52%|█████▏    | 11/21 [01:40<01:29,  8.98s/it]\u001b[A\n",
            " 57%|█████▋    | 12/21 [01:50<01:22,  9.17s/it]\u001b[A\n",
            " 62%|██████▏   | 13/21 [02:00<01:15,  9.39s/it]\u001b[A\n",
            " 67%|██████▋   | 14/21 [02:10<01:07,  9.62s/it]\u001b[A\n",
            " 71%|███████▏  | 15/21 [02:21<00:59,  9.96s/it]\u001b[A\n",
            " 76%|███████▌  | 16/21 [02:30<00:49,  9.88s/it]\u001b[A\n",
            " 81%|████████  | 17/21 [02:39<00:38,  9.66s/it]\u001b[A\n",
            " 86%|████████▌ | 18/21 [02:49<00:28,  9.63s/it]\u001b[A\n",
            " 90%|█████████ | 19/21 [02:58<00:19,  9.56s/it]\u001b[A\n",
            " 95%|█████████▌| 20/21 [03:08<00:09,  9.55s/it]\u001b[A\n",
            "100%|██████████| 21/21 [03:16<00:00,  9.37s/it]\n",
            "100%|██████████| 5/5 [16:24<00:00, 196.94s/it]\n"
          ]
        },
        {
          "output_type": "stream",
          "name": "stdout",
          "text": [
            "OUTSIDE LOOP AUC of Best\n",
            "Complex name 4GQ6 AUCROC 0.7551877470355731 AUCPR 0.19891752364854365\n",
            "Equivalent epochs in one iteration of data loader 1.8495409573045727\n",
            "test complex  1NW9\n"
          ]
        },
        {
          "output_type": "stream",
          "name": "stderr",
          "text": [
            "  0%|          | 0/5 [00:00<?, ?it/s]\n",
            "  0%|          | 0/21 [00:00<?, ?it/s]\u001b[A\n",
            "  5%|▍         | 1/21 [00:10<03:25, 10.26s/it]\u001b[A"
          ]
        },
        {
          "output_type": "stream",
          "name": "stdout",
          "text": [
            "LOADED BEST AUCROC 0.7175974710221286 AUCPR 0.14127489337602128\n",
            "AUCROC 0.7175974710221286 AUCPR 0.14127489337602128 best aucroc 0.7175974710221286\n"
          ]
        },
        {
          "output_type": "stream",
          "name": "stderr",
          "text": [
            "\n",
            " 10%|▉         | 2/21 [00:19<03:07,  9.89s/it]\u001b[A"
          ]
        },
        {
          "output_type": "stream",
          "name": "stdout",
          "text": [
            "LOADED BEST AUCROC 0.7386722866174922 AUCPR 0.15111335684643956\n",
            "AUCROC 0.7386722866174922 AUCPR 0.15111335684643956 best aucroc 0.7386722866174922\n"
          ]
        },
        {
          "output_type": "stream",
          "name": "stderr",
          "text": [
            "\n",
            " 14%|█▍        | 3/21 [00:29<02:57,  9.84s/it]\u001b[A"
          ]
        },
        {
          "output_type": "stream",
          "name": "stdout",
          "text": [
            "LOADED BEST AUCROC 0.7507903055848262 AUCPR 0.1580697037178558\n",
            "AUCROC 0.7507903055848262 AUCPR 0.1580697037178558 best aucroc 0.7507903055848262\n"
          ]
        },
        {
          "output_type": "stream",
          "name": "stderr",
          "text": [
            "\n",
            " 19%|█▉        | 4/21 [00:38<02:40,  9.43s/it]\u001b[A\n",
            " 24%|██▍       | 5/21 [00:47<02:29,  9.32s/it]\u001b[A\n",
            " 29%|██▊       | 6/21 [00:55<02:11,  8.78s/it]\u001b[A\n",
            " 33%|███▎      | 7/21 [01:04<02:04,  8.89s/it]\u001b[A\n",
            " 38%|███▊      | 8/21 [01:13<01:56,  8.96s/it]\u001b[A\n",
            " 43%|████▎     | 9/21 [01:22<01:46,  8.92s/it]\u001b[A\n",
            " 48%|████▊     | 10/21 [01:30<01:36,  8.81s/it]\u001b[A\n",
            " 52%|█████▏    | 11/21 [01:39<01:27,  8.74s/it]\u001b[A\n",
            " 57%|█████▋    | 12/21 [01:47<01:17,  8.64s/it]\u001b[A\n",
            " 62%|██████▏   | 13/21 [01:57<01:10,  8.81s/it]\u001b[A\n",
            " 67%|██████▋   | 14/21 [02:06<01:02,  8.91s/it]\u001b[A\n",
            " 71%|███████▏  | 15/21 [02:14<00:51,  8.61s/it]\u001b[A\n",
            " 76%|███████▌  | 16/21 [02:23<00:44,  8.88s/it]\u001b[A\n",
            " 81%|████████  | 17/21 [02:32<00:34,  8.71s/it]\u001b[A\n",
            " 86%|████████▌ | 18/21 [02:41<00:27,  9.05s/it]\u001b[A\n",
            " 90%|█████████ | 19/21 [02:52<00:18,  9.41s/it]\u001b[A\n",
            " 95%|█████████▌| 20/21 [03:00<00:09,  9.18s/it]\u001b[A\n",
            "100%|██████████| 21/21 [03:09<00:00,  9.01s/it]\n",
            " 20%|██        | 1/5 [03:09<12:36, 189.22s/it]\n",
            "  0%|          | 0/21 [00:00<?, ?it/s]\u001b[A\n",
            "  5%|▍         | 1/21 [00:08<02:40,  8.02s/it]\u001b[A\n",
            " 10%|▉         | 2/21 [00:15<02:29,  7.86s/it]\u001b[A"
          ]
        },
        {
          "output_type": "stream",
          "name": "stdout",
          "text": [
            "LOADED BEST AUCROC 0.7523709167544784 AUCPR 0.2061257327906235\n",
            "AUCROC 0.7523709167544784 AUCPR 0.2061257327906235 best aucroc 0.7523709167544784\n"
          ]
        },
        {
          "output_type": "stream",
          "name": "stderr",
          "text": [
            "\n",
            " 14%|█▍        | 3/21 [00:25<02:32,  8.49s/it]\u001b[A"
          ]
        },
        {
          "output_type": "stream",
          "name": "stdout",
          "text": [
            "LOADED BEST AUCROC 0.7576396206533192 AUCPR 0.2132892943263382\n",
            "AUCROC 0.7576396206533192 AUCPR 0.2132892943263382 best aucroc 0.7576396206533192\n"
          ]
        },
        {
          "output_type": "stream",
          "name": "stderr",
          "text": [
            "\n",
            " 19%|█▉        | 4/21 [00:33<02:27,  8.65s/it]\u001b[A\n",
            " 24%|██▍       | 5/21 [00:44<02:27,  9.23s/it]\u001b[A\n",
            " 29%|██▊       | 6/21 [00:54<02:24,  9.62s/it]\u001b[A\n",
            " 33%|███▎      | 7/21 [01:04<02:14,  9.58s/it]\u001b[A\n",
            " 38%|███▊      | 8/21 [01:13<02:03,  9.46s/it]\u001b[A\n",
            " 43%|████▎     | 9/21 [01:22<01:53,  9.44s/it]\u001b[A\n",
            " 48%|████▊     | 10/21 [01:31<01:40,  9.14s/it]\u001b[A\n",
            " 52%|█████▏    | 11/21 [01:40<01:32,  9.30s/it]\u001b[A\n",
            " 57%|█████▋    | 12/21 [01:49<01:20,  8.97s/it]\u001b[A\n",
            " 62%|██████▏   | 13/21 [01:58<01:14,  9.26s/it]\u001b[A\n",
            " 67%|██████▋   | 14/21 [02:08<01:05,  9.39s/it]\u001b[A\n",
            " 71%|███████▏  | 15/21 [02:17<00:54,  9.12s/it]\u001b[A\n",
            " 76%|███████▌  | 16/21 [02:25<00:44,  8.97s/it]\u001b[A\n",
            " 81%|████████  | 17/21 [02:34<00:35,  8.89s/it]\u001b[A\n",
            " 86%|████████▌ | 18/21 [02:42<00:26,  8.75s/it]\u001b[A\n",
            " 90%|█████████ | 19/21 [02:51<00:17,  8.81s/it]\u001b[A\n",
            " 95%|█████████▌| 20/21 [03:02<00:09,  9.33s/it]\u001b[A"
          ]
        },
        {
          "output_type": "stream",
          "name": "stdout",
          "text": [
            "LOADED BEST AUCROC 0.7581664910432033 AUCPR 0.19923963985778878\n",
            "AUCROC 0.7581664910432033 AUCPR 0.19923963985778878 best aucroc 0.7581664910432033\n"
          ]
        },
        {
          "output_type": "stream",
          "name": "stderr",
          "text": [
            "\n",
            "100%|██████████| 21/21 [03:11<00:00,  9.11s/it]\n",
            " 40%|████      | 2/5 [06:20<09:31, 190.46s/it]\n",
            "  0%|          | 0/21 [00:00<?, ?it/s]\u001b[A\n",
            "  5%|▍         | 1/21 [00:09<03:05,  9.29s/it]\u001b[A"
          ]
        },
        {
          "output_type": "stream",
          "name": "stdout",
          "text": [
            "LOADED BEST AUCROC 0.7586933614330875 AUCPR 0.197321439076097\n",
            "AUCROC 0.7586933614330875 AUCPR 0.197321439076097 best aucroc 0.7586933614330875\n"
          ]
        },
        {
          "output_type": "stream",
          "name": "stderr",
          "text": [
            "\n",
            " 10%|▉         | 2/21 [00:18<02:58,  9.38s/it]\u001b[A\n",
            " 14%|█▍        | 3/21 [00:27<02:46,  9.24s/it]\u001b[A\n",
            " 19%|█▉        | 4/21 [00:38<02:43,  9.63s/it]\u001b[A"
          ]
        },
        {
          "output_type": "stream",
          "name": "stdout",
          "text": [
            "LOADED BEST AUCROC 0.7597471022128557 AUCPR 0.19525069947090584\n",
            "AUCROC 0.7597471022128557 AUCPR 0.19525069947090584 best aucroc 0.7597471022128557\n"
          ]
        },
        {
          "output_type": "stream",
          "name": "stderr",
          "text": [
            "\n",
            " 24%|██▍       | 5/21 [00:48<02:36,  9.79s/it]\u001b[A"
          ]
        },
        {
          "output_type": "stream",
          "name": "stdout",
          "text": [
            "LOADED BEST AUCROC 0.7613277133825079 AUCPR 0.19657223555202868\n",
            "AUCROC 0.7613277133825079 AUCPR 0.19657223555202868 best aucroc 0.7613277133825079\n"
          ]
        },
        {
          "output_type": "stream",
          "name": "stderr",
          "text": [
            "\n",
            " 29%|██▊       | 6/21 [00:57<02:25,  9.70s/it]\u001b[A\n",
            " 33%|███▎      | 7/21 [01:06<02:13,  9.54s/it]\u001b[A\n",
            " 38%|███▊      | 8/21 [01:15<02:00,  9.30s/it]\u001b[A\n",
            " 43%|████▎     | 9/21 [01:24<01:51,  9.25s/it]\u001b[A\n",
            " 48%|████▊     | 10/21 [01:33<01:39,  9.05s/it]\u001b[A\n",
            " 52%|█████▏    | 11/21 [01:41<01:29,  8.91s/it]\u001b[A\n",
            " 57%|█████▋    | 12/21 [01:51<01:21,  9.02s/it]\u001b[A\n",
            " 62%|██████▏   | 13/21 [02:01<01:15,  9.39s/it]\u001b[A\n",
            " 67%|██████▋   | 14/21 [02:09<01:03,  9.09s/it]\u001b[A\n",
            " 71%|███████▏  | 15/21 [02:19<00:55,  9.21s/it]\u001b[A\n",
            " 76%|███████▌  | 16/21 [02:28<00:45,  9.12s/it]\u001b[A\n",
            " 81%|████████  | 17/21 [02:37<00:36,  9.09s/it]\u001b[A"
          ]
        },
        {
          "output_type": "stream",
          "name": "stdout",
          "text": [
            "LOADED BEST AUCROC 0.761854583772392 AUCPR 0.19293266882716983\n",
            "AUCROC 0.761854583772392 AUCPR 0.19293266882716983 best aucroc 0.761854583772392\n"
          ]
        },
        {
          "output_type": "stream",
          "name": "stderr",
          "text": [
            "\n",
            " 86%|████████▌ | 18/21 [02:47<00:28,  9.34s/it]\u001b[A"
          ]
        },
        {
          "output_type": "stream",
          "name": "stdout",
          "text": [
            "LOADED BEST AUCROC 0.7634351949420444 AUCPR 0.19356207263640718\n",
            "AUCROC 0.7634351949420444 AUCPR 0.19356207263640718 best aucroc 0.7634351949420444\n"
          ]
        },
        {
          "output_type": "stream",
          "name": "stderr",
          "text": [
            "\n",
            " 90%|█████████ | 19/21 [02:57<00:19,  9.68s/it]\u001b[A"
          ]
        },
        {
          "output_type": "stream",
          "name": "stdout",
          "text": [
            "LOADED BEST AUCROC 0.7665964172813489 AUCPR 0.19489024179300393\n",
            "AUCROC 0.7665964172813489 AUCPR 0.19489024179300393 best aucroc 0.7665964172813489\n"
          ]
        },
        {
          "output_type": "stream",
          "name": "stderr",
          "text": [
            "\n",
            " 95%|█████████▌| 20/21 [03:05<00:09,  9.26s/it]\u001b[A\n",
            "100%|██████████| 21/21 [03:15<00:00,  9.32s/it]\n",
            " 60%|██████    | 3/5 [09:36<06:25, 192.82s/it]"
          ]
        },
        {
          "output_type": "stream",
          "name": "stdout",
          "text": [
            "LOADED BEST AUCROC 0.7713382507903056 AUCPR 0.19670256928395183\n",
            "AUCROC 0.7713382507903056 AUCPR 0.19670256928395183 best aucroc 0.7713382507903056\n"
          ]
        },
        {
          "output_type": "stream",
          "name": "stderr",
          "text": [
            "\n",
            "  0%|          | 0/21 [00:00<?, ?it/s]\u001b[A\n",
            "  5%|▍         | 1/21 [00:11<03:41, 11.07s/it]\u001b[A"
          ]
        },
        {
          "output_type": "stream",
          "name": "stdout",
          "text": [
            "LOADED BEST AUCROC 0.7744994731296102 AUCPR 0.19847372804655983\n",
            "AUCROC 0.7744994731296102 AUCPR 0.19847372804655983 best aucroc 0.7744994731296102\n"
          ]
        },
        {
          "output_type": "stream",
          "name": "stderr",
          "text": [
            "\n",
            " 10%|▉         | 2/21 [00:21<03:20, 10.58s/it]\u001b[A"
          ]
        },
        {
          "output_type": "stream",
          "name": "stdout",
          "text": [
            "LOADED BEST AUCROC 0.7760800842992625 AUCPR 0.1996849813119162\n",
            "AUCROC 0.7760800842992625 AUCPR 0.1996849813119162 best aucroc 0.7760800842992625\n"
          ]
        },
        {
          "output_type": "stream",
          "name": "stderr",
          "text": [
            "\n",
            " 14%|█▍        | 3/21 [00:30<02:58,  9.91s/it]\u001b[A"
          ]
        },
        {
          "output_type": "stream",
          "name": "stdout",
          "text": [
            "LOADED BEST AUCROC 0.7766069546891464 AUCPR 0.20089869264361238\n",
            "AUCROC 0.7766069546891464 AUCPR 0.20089869264361238 best aucroc 0.7766069546891464\n"
          ]
        },
        {
          "output_type": "stream",
          "name": "stderr",
          "text": [
            "\n",
            " 19%|█▉        | 4/21 [00:38<02:37,  9.25s/it]\u001b[A\n",
            " 24%|██▍       | 5/21 [00:46<02:22,  8.88s/it]\u001b[A\n",
            " 29%|██▊       | 6/21 [00:56<02:16,  9.09s/it]\u001b[A\n",
            " 33%|███▎      | 7/21 [01:04<02:04,  8.89s/it]\u001b[A\n",
            " 38%|███▊      | 8/21 [01:14<01:58,  9.09s/it]\u001b[A\n",
            " 43%|████▎     | 9/21 [01:23<01:50,  9.22s/it]\u001b[A\n",
            " 48%|████▊     | 10/21 [01:32<01:39,  9.04s/it]\u001b[A\n",
            " 52%|█████▏    | 11/21 [01:41<01:29,  8.98s/it]\u001b[A\n",
            " 57%|█████▋    | 12/21 [01:49<01:19,  8.86s/it]\u001b[A\n",
            " 62%|██████▏   | 13/21 [01:58<01:09,  8.67s/it]\u001b[A\n",
            " 67%|██████▋   | 14/21 [02:06<01:00,  8.68s/it]\u001b[A\n",
            " 71%|███████▏  | 15/21 [02:15<00:52,  8.75s/it]\u001b[A\n",
            " 76%|███████▌  | 16/21 [02:25<00:44,  8.92s/it]\u001b[A\n",
            " 81%|████████  | 17/21 [02:33<00:34,  8.71s/it]\u001b[A\n",
            " 86%|████████▌ | 18/21 [02:43<00:27,  9.14s/it]\u001b[A\n",
            " 90%|█████████ | 19/21 [02:53<00:18,  9.39s/it]\u001b[A"
          ]
        },
        {
          "output_type": "stream",
          "name": "stdout",
          "text": [
            "LOADED BEST AUCROC 0.7766069546891465 AUCPR 0.20331942516407975\n",
            "AUCROC 0.7766069546891465 AUCPR 0.20331942516407975 best aucroc 0.7766069546891465\n"
          ]
        },
        {
          "output_type": "stream",
          "name": "stderr",
          "text": [
            "\n",
            " 95%|█████████▌| 20/21 [03:03<00:09,  9.67s/it]\u001b[A"
          ]
        },
        {
          "output_type": "stream",
          "name": "stdout",
          "text": [
            "LOADED BEST AUCROC 0.7787144362486829 AUCPR 0.20355803139748824\n",
            "AUCROC 0.7787144362486829 AUCPR 0.20355803139748824 best aucroc 0.7787144362486829\n"
          ]
        },
        {
          "output_type": "stream",
          "name": "stderr",
          "text": [
            "\n",
            "100%|██████████| 21/21 [03:12<00:00,  9.18s/it]\n",
            " 80%|████████  | 4/5 [12:48<03:12, 192.78s/it]"
          ]
        },
        {
          "output_type": "stream",
          "name": "stdout",
          "text": [
            "LOADED BEST AUCROC 0.7792413066385668 AUCPR 0.20388985643519564\n",
            "AUCROC 0.7792413066385668 AUCPR 0.20388985643519564 best aucroc 0.7792413066385668\n"
          ]
        },
        {
          "output_type": "stream",
          "name": "stderr",
          "text": [
            "\n",
            "  0%|          | 0/21 [00:00<?, ?it/s]\u001b[A\n",
            "  5%|▍         | 1/21 [00:09<03:01,  9.07s/it]\u001b[A"
          ]
        },
        {
          "output_type": "stream",
          "name": "stdout",
          "text": [
            "LOADED BEST AUCROC 0.7818756585879875 AUCPR 0.20562894615971436\n",
            "AUCROC 0.7818756585879875 AUCPR 0.20562894615971436 best aucroc 0.7818756585879875\n"
          ]
        },
        {
          "output_type": "stream",
          "name": "stderr",
          "text": [
            "\n",
            " 10%|▉         | 2/21 [00:18<03:01,  9.57s/it]\u001b[A"
          ]
        },
        {
          "output_type": "stream",
          "name": "stdout",
          "text": [
            "LOADED BEST AUCROC 0.7845100105374079 AUCPR 0.20713892654991065\n",
            "AUCROC 0.7845100105374079 AUCPR 0.20713892654991065 best aucroc 0.7845100105374079\n"
          ]
        },
        {
          "output_type": "stream",
          "name": "stderr",
          "text": [
            "\n",
            " 14%|█▍        | 3/21 [00:28<02:50,  9.46s/it]\u001b[A\n",
            " 19%|█▉        | 4/21 [00:38<02:46,  9.78s/it]\u001b[A"
          ]
        },
        {
          "output_type": "stream",
          "name": "stdout",
          "text": [
            "LOADED BEST AUCROC 0.7855637513171759 AUCPR 0.20774988477042275\n",
            "AUCROC 0.7855637513171759 AUCPR 0.20774988477042275 best aucroc 0.7855637513171759\n"
          ]
        },
        {
          "output_type": "stream",
          "name": "stderr",
          "text": [
            "\n",
            " 24%|██▍       | 5/21 [00:47<02:32,  9.56s/it]\u001b[A"
          ]
        },
        {
          "output_type": "stream",
          "name": "stdout",
          "text": [
            "LOADED BEST AUCROC 0.7881981032665965 AUCPR 0.20937802661701813\n",
            "AUCROC 0.7881981032665965 AUCPR 0.20937802661701813 best aucroc 0.7881981032665965\n"
          ]
        },
        {
          "output_type": "stream",
          "name": "stderr",
          "text": [
            "\n",
            " 29%|██▊       | 6/21 [00:56<02:20,  9.38s/it]\u001b[A\n",
            " 33%|███▎      | 7/21 [01:05<02:06,  9.00s/it]\u001b[A\n",
            " 38%|███▊      | 8/21 [01:14<01:57,  9.04s/it]\u001b[A"
          ]
        },
        {
          "output_type": "stream",
          "name": "stdout",
          "text": [
            "LOADED BEST AUCROC 0.7887249736564805 AUCPR 0.2095403042187675\n",
            "AUCROC 0.7887249736564805 AUCPR 0.2095403042187675 best aucroc 0.7887249736564805\n"
          ]
        },
        {
          "output_type": "stream",
          "name": "stderr",
          "text": [
            "\n",
            " 43%|████▎     | 9/21 [01:24<01:53,  9.46s/it]\u001b[A"
          ]
        },
        {
          "output_type": "stream",
          "name": "stdout",
          "text": [
            "LOADED BEST AUCROC 0.7897787144362488 AUCPR 0.20855502255326142\n",
            "AUCROC 0.7897787144362488 AUCPR 0.20855502255326142 best aucroc 0.7897787144362488\n"
          ]
        },
        {
          "output_type": "stream",
          "name": "stderr",
          "text": [
            "\n",
            " 48%|████▊     | 10/21 [01:35<01:48,  9.85s/it]\u001b[A"
          ]
        },
        {
          "output_type": "stream",
          "name": "stdout",
          "text": [
            "LOADED BEST AUCROC 0.7903055848261328 AUCPR 0.20896159272727344\n",
            "AUCROC 0.7903055848261328 AUCPR 0.20896159272727344 best aucroc 0.7903055848261328\n"
          ]
        },
        {
          "output_type": "stream",
          "name": "stderr",
          "text": [
            "\n",
            " 52%|█████▏    | 11/21 [01:44<01:35,  9.53s/it]\u001b[A\n",
            " 57%|█████▋    | 12/21 [01:53<01:26,  9.58s/it]\u001b[A\n",
            " 62%|██████▏   | 13/21 [02:02<01:14,  9.31s/it]\u001b[A"
          ]
        },
        {
          "output_type": "stream",
          "name": "stdout",
          "text": [
            "LOADED BEST AUCROC 0.7908324552160169 AUCPR 0.208887177618362\n",
            "AUCROC 0.7908324552160169 AUCPR 0.208887177618362 best aucroc 0.7908324552160169\n"
          ]
        },
        {
          "output_type": "stream",
          "name": "stderr",
          "text": [
            "\n",
            " 67%|██████▋   | 14/21 [02:11<01:05,  9.34s/it]\u001b[A\n",
            " 71%|███████▏  | 15/21 [02:22<00:57,  9.63s/it]\u001b[A\n",
            " 76%|███████▌  | 16/21 [02:30<00:46,  9.29s/it]\u001b[A\n",
            " 81%|████████  | 17/21 [02:40<00:37,  9.44s/it]\u001b[A"
          ]
        },
        {
          "output_type": "stream",
          "name": "stdout",
          "text": [
            "LOADED BEST AUCROC 0.790832455216017 AUCPR 0.21015470503659467\n",
            "AUCROC 0.790832455216017 AUCPR 0.21015470503659467 best aucroc 0.790832455216017\n"
          ]
        },
        {
          "output_type": "stream",
          "name": "stderr",
          "text": [
            "\n",
            " 86%|████████▌ | 18/21 [02:49<00:28,  9.41s/it]\u001b[A"
          ]
        },
        {
          "output_type": "stream",
          "name": "stdout",
          "text": [
            "LOADED BEST AUCROC 0.7913593256059009 AUCPR 0.20954012786004816\n",
            "AUCROC 0.7913593256059009 AUCPR 0.20954012786004816 best aucroc 0.7913593256059009\n"
          ]
        },
        {
          "output_type": "stream",
          "name": "stderr",
          "text": [
            "\n",
            " 90%|█████████ | 19/21 [02:58<00:18,  9.30s/it]\u001b[A\n",
            " 95%|█████████▌| 20/21 [03:08<00:09,  9.46s/it]\u001b[A"
          ]
        },
        {
          "output_type": "stream",
          "name": "stdout",
          "text": [
            "LOADED BEST AUCROC 0.791886195995785 AUCPR 0.2100917482089713\n",
            "AUCROC 0.791886195995785 AUCPR 0.2100917482089713 best aucroc 0.791886195995785\n"
          ]
        },
        {
          "output_type": "stream",
          "name": "stderr",
          "text": [
            "\n",
            "100%|██████████| 21/21 [03:17<00:00,  9.39s/it]\n",
            "100%|██████████| 5/5 [16:06<00:00, 193.24s/it]\n"
          ]
        },
        {
          "output_type": "stream",
          "name": "stdout",
          "text": [
            "OUTSIDE LOOP AUC of Best\n",
            "Complex name 1NW9 AUCROC 0.791886195995785 AUCPR 0.2100917482089713\n",
            "Equivalent epochs in one iteration of data loader 1.8515951301875055\n",
            "test complex  4YY6\n"
          ]
        },
        {
          "output_type": "stream",
          "name": "stderr",
          "text": [
            "  0%|          | 0/5 [00:00<?, ?it/s]\n",
            "  0%|          | 0/21 [00:00<?, ?it/s]\u001b[A\n",
            "  5%|▍         | 1/21 [00:11<03:44, 11.21s/it]\u001b[A"
          ]
        },
        {
          "output_type": "stream",
          "name": "stdout",
          "text": [
            "LOADED BEST AUCROC 0.8433362753751104 AUCPR 0.5070342273834162\n",
            "AUCROC 0.8433362753751104 AUCPR 0.5070342273834162 best aucroc 0.8433362753751104\n"
          ]
        },
        {
          "output_type": "stream",
          "name": "stderr",
          "text": [
            "\n",
            " 10%|▉         | 2/21 [00:21<03:24, 10.77s/it]\u001b[A"
          ]
        },
        {
          "output_type": "stream",
          "name": "stdout",
          "text": [
            "LOADED BEST AUCROC 0.8565754633715799 AUCPR 0.5308842022895952\n",
            "AUCROC 0.8565754633715799 AUCPR 0.5308842022895952 best aucroc 0.8565754633715799\n"
          ]
        },
        {
          "output_type": "stream",
          "name": "stderr",
          "text": [
            "\n",
            " 14%|█▍        | 3/21 [00:31<03:09, 10.55s/it]\u001b[A"
          ]
        },
        {
          "output_type": "stream",
          "name": "stdout",
          "text": [
            "LOADED BEST AUCROC 0.8636363636363635 AUCPR 0.5413514206862262\n",
            "AUCROC 0.8636363636363635 AUCPR 0.5413514206862262 best aucroc 0.8636363636363635\n"
          ]
        },
        {
          "output_type": "stream",
          "name": "stderr",
          "text": [
            "\n",
            " 19%|█▉        | 4/21 [00:43<03:04, 10.84s/it]\u001b[A"
          ]
        },
        {
          "output_type": "stream",
          "name": "stdout",
          "text": [
            "LOADED BEST AUCROC 0.8693733451015004 AUCPR 0.5366357815579892\n",
            "AUCROC 0.8693733451015004 AUCPR 0.5366357815579892 best aucroc 0.8693733451015004\n"
          ]
        },
        {
          "output_type": "stream",
          "name": "stderr",
          "text": [
            "\n",
            " 24%|██▍       | 5/21 [00:53<02:50, 10.67s/it]\u001b[A"
          ]
        },
        {
          "output_type": "stream",
          "name": "stdout",
          "text": [
            "LOADED BEST AUCROC 0.87819947043248 AUCPR 0.5709715915171438\n",
            "AUCROC 0.87819947043248 AUCPR 0.5709715915171438 best aucroc 0.87819947043248\n"
          ]
        },
        {
          "output_type": "stream",
          "name": "stderr",
          "text": [
            "\n",
            " 29%|██▊       | 6/21 [01:02<02:29,  9.95s/it]\u001b[A\n",
            " 33%|███▎      | 7/21 [01:11<02:17,  9.84s/it]\u001b[A\n",
            " 38%|███▊      | 8/21 [01:20<02:03,  9.51s/it]\u001b[A\n",
            " 43%|████▎     | 9/21 [01:31<02:00, 10.06s/it]\u001b[A"
          ]
        },
        {
          "output_type": "stream",
          "name": "stdout",
          "text": [
            "LOADED BEST AUCROC 0.8914386584289495 AUCPR 0.5786513899844112\n",
            "AUCROC 0.8914386584289495 AUCPR 0.5786513899844112 best aucroc 0.8914386584289495\n"
          ]
        },
        {
          "output_type": "stream",
          "name": "stderr",
          "text": [
            "\n",
            " 48%|████▊     | 10/21 [01:42<01:52, 10.22s/it]\u001b[A"
          ]
        },
        {
          "output_type": "stream",
          "name": "stdout",
          "text": [
            "LOADED BEST AUCROC 0.8971756398940864 AUCPR 0.5962615564316988\n",
            "AUCROC 0.8971756398940864 AUCPR 0.5962615564316988 best aucroc 0.8971756398940864\n"
          ]
        },
        {
          "output_type": "stream",
          "name": "stderr",
          "text": [
            "\n",
            " 52%|█████▏    | 11/21 [01:53<01:45, 10.56s/it]\u001b[A"
          ]
        },
        {
          "output_type": "stream",
          "name": "stdout",
          "text": [
            "LOADED BEST AUCROC 0.8976169461606355 AUCPR 0.5959568239289358\n",
            "AUCROC 0.8976169461606355 AUCPR 0.5959568239289358 best aucroc 0.8976169461606355\n"
          ]
        },
        {
          "output_type": "stream",
          "name": "stderr",
          "text": [
            "\n",
            " 57%|█████▋    | 12/21 [02:02<01:30, 10.10s/it]\u001b[A"
          ]
        },
        {
          "output_type": "stream",
          "name": "stdout",
          "text": [
            "LOADED BEST AUCROC 0.8980582524271845 AUCPR 0.6052732884069045\n",
            "AUCROC 0.8980582524271845 AUCPR 0.6052732884069045 best aucroc 0.8980582524271845\n"
          ]
        },
        {
          "output_type": "stream",
          "name": "stderr",
          "text": [
            "\n",
            " 62%|██████▏   | 13/21 [02:11<01:18,  9.82s/it]\u001b[A\n",
            " 67%|██████▋   | 14/21 [02:21<01:07,  9.68s/it]\u001b[A\n",
            " 71%|███████▏  | 15/21 [02:30<00:57,  9.66s/it]\u001b[A\n",
            " 76%|███████▌  | 16/21 [02:40<00:48,  9.66s/it]\u001b[A\n",
            " 81%|████████  | 17/21 [02:49<00:38,  9.52s/it]\u001b[A\n",
            " 86%|████████▌ | 18/21 [03:01<00:30, 10.23s/it]\u001b[A"
          ]
        },
        {
          "output_type": "stream",
          "name": "stdout",
          "text": [
            "LOADED BEST AUCROC 0.8993821712268314 AUCPR 0.6329569480185447\n",
            "AUCROC 0.8993821712268314 AUCPR 0.6329569480185447 best aucroc 0.8993821712268314\n"
          ]
        },
        {
          "output_type": "stream",
          "name": "stderr",
          "text": [
            "\n",
            " 90%|█████████ | 19/21 [03:12<00:20, 10.44s/it]\u001b[A"
          ]
        },
        {
          "output_type": "stream",
          "name": "stdout",
          "text": [
            "LOADED BEST AUCROC 0.9037952338923212 AUCPR 0.6447849168650613\n",
            "AUCROC 0.9037952338923212 AUCPR 0.6447849168650613 best aucroc 0.9037952338923212\n"
          ]
        },
        {
          "output_type": "stream",
          "name": "stderr",
          "text": [
            "\n",
            " 95%|█████████▌| 20/21 [03:22<00:10, 10.27s/it]\u001b[A\n",
            "100%|██████████| 21/21 [03:32<00:00, 10.10s/it]\n",
            " 20%|██        | 1/5 [03:32<14:08, 212.13s/it]\n",
            "  0%|          | 0/21 [00:00<?, ?it/s]\u001b[A\n",
            "  5%|▍         | 1/21 [00:09<03:03,  9.20s/it]\u001b[A\n",
            " 10%|▉         | 2/21 [00:19<03:03,  9.63s/it]\u001b[A"
          ]
        },
        {
          "output_type": "stream",
          "name": "stdout",
          "text": [
            "LOADED BEST AUCROC 0.9051191526919682 AUCPR 0.6724167323027244\n",
            "AUCROC 0.9051191526919682 AUCPR 0.6724167323027244 best aucroc 0.9051191526919682\n"
          ]
        },
        {
          "output_type": "stream",
          "name": "stderr",
          "text": [
            "\n",
            " 14%|█▍        | 3/21 [00:28<02:54,  9.69s/it]\u001b[A"
          ]
        },
        {
          "output_type": "stream",
          "name": "stdout",
          "text": [
            "LOADED BEST AUCROC 0.9068843777581641 AUCPR 0.6786507436965101\n",
            "AUCROC 0.9068843777581641 AUCPR 0.6786507436965101 best aucroc 0.9068843777581641\n"
          ]
        },
        {
          "output_type": "stream",
          "name": "stderr",
          "text": [
            "\n",
            " 19%|█▉        | 4/21 [00:38<02:44,  9.68s/it]\u001b[A\n",
            " 24%|██▍       | 5/21 [00:47<02:30,  9.38s/it]\u001b[A\n",
            " 29%|██▊       | 6/21 [00:56<02:19,  9.28s/it]\u001b[A\n",
            " 33%|███▎      | 7/21 [01:07<02:18,  9.88s/it]\u001b[A\n",
            " 38%|███▊      | 8/21 [01:16<02:04,  9.57s/it]\u001b[A\n",
            " 43%|████▎     | 9/21 [01:26<01:56,  9.68s/it]\u001b[A\n",
            " 48%|████▊     | 10/21 [01:36<01:48,  9.85s/it]\u001b[A\n",
            " 52%|█████▏    | 11/21 [01:46<01:37,  9.71s/it]\u001b[A\n",
            " 57%|█████▋    | 12/21 [01:55<01:26,  9.56s/it]\u001b[A\n",
            " 62%|██████▏   | 13/21 [02:05<01:18,  9.76s/it]\u001b[A\n",
            " 67%|██████▋   | 14/21 [02:15<01:08,  9.77s/it]\u001b[A\n",
            " 71%|███████▏  | 15/21 [02:24<00:58,  9.74s/it]\u001b[A\n",
            " 76%|███████▌  | 16/21 [02:33<00:46,  9.28s/it]\u001b[A\n",
            " 81%|████████  | 17/21 [02:42<00:37,  9.31s/it]\u001b[A\n",
            " 86%|████████▌ | 18/21 [02:50<00:26,  8.95s/it]\u001b[A\n",
            " 90%|█████████ | 19/21 [03:00<00:18,  9.31s/it]\u001b[A\n",
            " 95%|█████████▌| 20/21 [03:10<00:09,  9.46s/it]\u001b[A\n",
            "100%|██████████| 21/21 [03:20<00:00,  9.53s/it]\n",
            " 40%|████      | 2/5 [06:52<10:15, 205.05s/it]\n",
            "  0%|          | 0/21 [00:00<?, ?it/s]\u001b[A\n",
            "  5%|▍         | 1/21 [00:10<03:32, 10.61s/it]\u001b[A\n",
            " 10%|▉         | 2/21 [00:19<03:06,  9.80s/it]\u001b[A\n",
            " 14%|█▍        | 3/21 [00:30<03:00, 10.02s/it]\u001b[A\n",
            " 19%|█▉        | 4/21 [00:39<02:48,  9.91s/it]\u001b[A\n",
            " 24%|██▍       | 5/21 [00:48<02:33,  9.61s/it]\u001b[A\n",
            " 29%|██▊       | 6/21 [00:57<02:20,  9.37s/it]\u001b[A\n",
            " 33%|███▎      | 7/21 [01:07<02:11,  9.38s/it]\u001b[A\n",
            " 38%|███▊      | 8/21 [01:16<02:01,  9.33s/it]\u001b[A\n",
            " 43%|████▎     | 9/21 [01:25<01:51,  9.31s/it]\u001b[A\n",
            " 48%|████▊     | 10/21 [01:35<01:45,  9.55s/it]\u001b[A\n",
            " 52%|█████▏    | 11/21 [01:45<01:37,  9.73s/it]\u001b[A\n",
            " 57%|█████▋    | 12/21 [01:55<01:27,  9.71s/it]\u001b[A\n",
            " 62%|██████▏   | 13/21 [02:04<01:16,  9.50s/it]\u001b[A\n",
            " 67%|██████▋   | 14/21 [02:14<01:07,  9.59s/it]\u001b[A\n",
            " 71%|███████▏  | 15/21 [02:23<00:57,  9.52s/it]\u001b[A\n",
            " 76%|███████▌  | 16/21 [02:32<00:47,  9.42s/it]\u001b[A\n",
            " 81%|████████  | 17/21 [02:41<00:37,  9.29s/it]\u001b[A\n",
            " 86%|████████▌ | 18/21 [02:50<00:27,  9.12s/it]\u001b[A\n",
            " 90%|█████████ | 19/21 [02:59<00:17,  8.89s/it]\u001b[A\n",
            " 95%|█████████▌| 20/21 [03:08<00:09,  9.17s/it]\u001b[A\n",
            "100%|██████████| 21/21 [03:17<00:00,  9.42s/it]\n",
            " 60%|██████    | 3/5 [10:10<06:43, 201.76s/it]\n",
            "  0%|          | 0/21 [00:00<?, ?it/s]\u001b[A\n",
            "  5%|▍         | 1/21 [00:09<03:04,  9.23s/it]\u001b[A\n",
            " 10%|▉         | 2/21 [00:18<02:54,  9.19s/it]\u001b[A\n",
            " 14%|█▍        | 3/21 [00:26<02:39,  8.88s/it]\u001b[A\n",
            " 19%|█▉        | 4/21 [00:36<02:35,  9.14s/it]\u001b[A\n",
            " 24%|██▍       | 5/21 [00:45<02:24,  9.02s/it]\u001b[A\n",
            " 29%|██▊       | 6/21 [00:54<02:16,  9.13s/it]\u001b[A\n",
            " 33%|███▎      | 7/21 [01:04<02:11,  9.38s/it]\u001b[A\n",
            " 38%|███▊      | 8/21 [01:13<02:02,  9.41s/it]\u001b[A\n",
            " 43%|████▎     | 9/21 [01:23<01:54,  9.51s/it]\u001b[A\n",
            " 48%|████▊     | 10/21 [01:32<01:42,  9.36s/it]\u001b[A\n",
            " 52%|█████▏    | 11/21 [01:42<01:36,  9.63s/it]\u001b[A\n",
            " 57%|█████▋    | 12/21 [01:52<01:26,  9.61s/it]\u001b[A\n",
            " 62%|██████▏   | 13/21 [02:00<01:14,  9.26s/it]\u001b[A\n",
            " 67%|██████▋   | 14/21 [02:11<01:07,  9.59s/it]\u001b[A\n",
            " 71%|███████▏  | 15/21 [02:21<00:57,  9.66s/it]\u001b[A\n",
            " 76%|███████▌  | 16/21 [02:31<00:48,  9.73s/it]\u001b[A\n",
            " 81%|████████  | 17/21 [02:40<00:38,  9.52s/it]\u001b[A\n",
            " 86%|████████▌ | 18/21 [02:49<00:28,  9.45s/it]\u001b[A\n",
            " 90%|█████████ | 19/21 [02:58<00:18,  9.24s/it]\u001b[A\n",
            " 95%|█████████▌| 20/21 [03:07<00:09,  9.26s/it]\u001b[A\n",
            "100%|██████████| 21/21 [03:16<00:00,  9.37s/it]\n",
            " 80%|████████  | 4/5 [13:26<03:19, 199.83s/it]\n",
            "  0%|          | 0/21 [00:00<?, ?it/s]\u001b[A\n",
            "  5%|▍         | 1/21 [00:09<03:15,  9.78s/it]\u001b[A\n",
            " 10%|▉         | 2/21 [00:18<02:57,  9.33s/it]\u001b[A\n",
            " 14%|█▍        | 3/21 [00:28<02:47,  9.33s/it]\u001b[A\n",
            " 19%|█▉        | 4/21 [00:36<02:33,  9.04s/it]\u001b[A\n",
            " 24%|██▍       | 5/21 [00:45<02:25,  9.12s/it]\u001b[A\n",
            " 29%|██▊       | 6/21 [00:55<02:16,  9.10s/it]\u001b[A\n",
            " 33%|███▎      | 7/21 [01:04<02:07,  9.14s/it]\u001b[A\n",
            " 38%|███▊      | 8/21 [01:13<02:00,  9.26s/it]\u001b[A\n",
            " 43%|████▎     | 9/21 [01:22<01:50,  9.21s/it]\u001b[A\n",
            " 48%|████▊     | 10/21 [01:31<01:40,  9.14s/it]\u001b[A\n",
            " 52%|█████▏    | 11/21 [01:40<01:29,  8.91s/it]\u001b[A\n",
            " 57%|█████▋    | 12/21 [01:51<01:26,  9.56s/it]\u001b[A\n",
            " 62%|██████▏   | 13/21 [02:01<01:17,  9.67s/it]\u001b[A\n",
            " 67%|██████▋   | 14/21 [02:10<01:06,  9.57s/it]\u001b[A\n",
            " 71%|███████▏  | 15/21 [02:19<00:56,  9.40s/it]\u001b[A\n",
            " 76%|███████▌  | 16/21 [02:28<00:46,  9.29s/it]\u001b[A\n",
            " 81%|████████  | 17/21 [02:37<00:37,  9.28s/it]\u001b[A\n",
            " 86%|████████▌ | 18/21 [02:46<00:27,  9.23s/it]\u001b[A\n",
            " 90%|█████████ | 19/21 [02:56<00:18,  9.47s/it]\u001b[A\n",
            " 95%|█████████▌| 20/21 [03:06<00:09,  9.47s/it]\u001b[A\n",
            "100%|██████████| 21/21 [03:16<00:00,  9.34s/it]\n",
            "100%|██████████| 5/5 [16:43<00:00, 200.63s/it]\n"
          ]
        },
        {
          "output_type": "stream",
          "name": "stdout",
          "text": [
            "OUTSIDE LOOP AUC of Best\n",
            "Complex name 4YY6 AUCROC 0.9068843777581641 AUCPR 0.6786507436965101\n",
            "Equivalent epochs in one iteration of data loader 1.8516746411483254\n",
            "test complex  3TDU\n"
          ]
        },
        {
          "output_type": "stream",
          "name": "stderr",
          "text": [
            "  0%|          | 0/5 [00:00<?, ?it/s]\n",
            "  0%|          | 0/21 [00:00<?, ?it/s]\u001b[A\n",
            "  5%|▍         | 1/21 [00:10<03:27, 10.40s/it]\u001b[A"
          ]
        },
        {
          "output_type": "stream",
          "name": "stdout",
          "text": [
            "LOADED BEST AUCROC 0.7611111111111111 AUCPR 0.3854860681114551\n",
            "AUCROC 0.7611111111111111 AUCPR 0.3854860681114551 best aucroc 0.7611111111111111\n"
          ]
        },
        {
          "output_type": "stream",
          "name": "stderr",
          "text": [
            "\n",
            " 10%|▉         | 2/21 [00:19<03:07,  9.84s/it]\u001b[A\n",
            " 14%|█▍        | 3/21 [00:29<02:57,  9.88s/it]\u001b[A\n",
            " 19%|█▉        | 4/21 [00:40<02:50, 10.02s/it]\u001b[A"
          ]
        },
        {
          "output_type": "stream",
          "name": "stdout",
          "text": [
            "LOADED BEST AUCROC 0.7638888888888888 AUCPR 0.388991475554089\n",
            "AUCROC 0.7638888888888888 AUCPR 0.388991475554089 best aucroc 0.7638888888888888\n"
          ]
        },
        {
          "output_type": "stream",
          "name": "stderr",
          "text": [
            "\n",
            " 24%|██▍       | 5/21 [00:49<02:36,  9.75s/it]\u001b[A\n",
            " 29%|██▊       | 6/21 [01:00<02:31, 10.10s/it]\u001b[A"
          ]
        },
        {
          "output_type": "stream",
          "name": "stdout",
          "text": [
            "LOADED BEST AUCROC 0.775 AUCPR 0.400825721592985\n",
            "AUCROC 0.775 AUCPR 0.400825721592985 best aucroc 0.775\n"
          ]
        },
        {
          "output_type": "stream",
          "name": "stderr",
          "text": [
            "\n",
            " 33%|███▎      | 7/21 [01:09<02:18,  9.88s/it]\u001b[A"
          ]
        },
        {
          "output_type": "stream",
          "name": "stdout",
          "text": [
            "LOADED BEST AUCROC 0.7944444444444445 AUCPR 0.43245559038662496\n",
            "AUCROC 0.7944444444444445 AUCPR 0.43245559038662496 best aucroc 0.7944444444444445\n"
          ]
        },
        {
          "output_type": "stream",
          "name": "stderr",
          "text": [
            "\n",
            " 38%|███▊      | 8/21 [01:18<02:05,  9.69s/it]\u001b[A\n",
            " 43%|████▎     | 9/21 [01:27<01:54,  9.50s/it]\u001b[A\n",
            " 48%|████▊     | 10/21 [01:36<01:41,  9.26s/it]\u001b[A\n",
            " 52%|█████▏    | 11/21 [01:45<01:30,  9.08s/it]\u001b[A\n",
            " 57%|█████▋    | 12/21 [01:53<01:20,  8.97s/it]\u001b[A\n",
            " 62%|██████▏   | 13/21 [02:02<01:11,  8.89s/it]\u001b[A\n",
            " 67%|██████▋   | 14/21 [02:11<01:02,  8.95s/it]\u001b[A\n",
            " 71%|███████▏  | 15/21 [02:20<00:53,  8.84s/it]\u001b[A\n",
            " 76%|███████▌  | 16/21 [02:28<00:43,  8.76s/it]\u001b[A\n",
            " 81%|████████  | 17/21 [02:37<00:34,  8.68s/it]\u001b[A\n",
            " 86%|████████▌ | 18/21 [02:46<00:26,  8.71s/it]\u001b[A\n",
            " 90%|█████████ | 19/21 [02:56<00:18,  9.05s/it]\u001b[A\n",
            " 95%|█████████▌| 20/21 [03:05<00:09,  9.04s/it]\u001b[A\n",
            "100%|██████████| 21/21 [03:13<00:00,  9.21s/it]\n",
            " 20%|██        | 1/5 [03:13<12:53, 193.43s/it]\n",
            "  0%|          | 0/21 [00:00<?, ?it/s]\u001b[A\n",
            "  5%|▍         | 1/21 [00:09<03:00,  9.02s/it]\u001b[A\n",
            " 10%|▉         | 2/21 [00:17<02:47,  8.81s/it]\u001b[A\n",
            " 14%|█▍        | 3/21 [00:26<02:40,  8.89s/it]\u001b[A\n",
            " 19%|█▉        | 4/21 [00:36<02:39,  9.38s/it]\u001b[A\n",
            " 24%|██▍       | 5/21 [00:45<02:26,  9.16s/it]\u001b[A\n",
            " 29%|██▊       | 6/21 [00:54<02:15,  9.03s/it]\u001b[A\n",
            " 33%|███▎      | 7/21 [01:02<02:03,  8.80s/it]\u001b[A\n",
            " 38%|███▊      | 8/21 [01:11<01:56,  8.95s/it]\u001b[A\n",
            " 43%|████▎     | 9/21 [01:20<01:46,  8.90s/it]\u001b[A\n",
            " 48%|████▊     | 10/21 [01:29<01:38,  8.98s/it]\u001b[A\n",
            " 52%|█████▏    | 11/21 [01:38<01:29,  8.96s/it]\u001b[A\n",
            " 57%|█████▋    | 12/21 [01:47<01:19,  8.82s/it]\u001b[A\n",
            " 62%|██████▏   | 13/21 [01:55<01:08,  8.59s/it]\u001b[A\n",
            " 67%|██████▋   | 14/21 [02:05<01:02,  8.94s/it]\u001b[A\n",
            " 71%|███████▏  | 15/21 [02:13<00:51,  8.64s/it]\u001b[A\n",
            " 76%|███████▌  | 16/21 [02:22<00:44,  8.95s/it]\u001b[A\n",
            " 81%|████████  | 17/21 [02:30<00:34,  8.61s/it]\u001b[A\n",
            " 86%|████████▌ | 18/21 [02:40<00:26,  8.94s/it]\u001b[A\n",
            " 90%|█████████ | 19/21 [02:49<00:17,  8.99s/it]\u001b[A\n",
            " 95%|█████████▌| 20/21 [02:58<00:08,  8.99s/it]\u001b[A\n",
            "100%|██████████| 21/21 [03:09<00:00,  9.00s/it]\n",
            " 40%|████      | 2/5 [06:22<09:32, 190.84s/it]\n",
            "  0%|          | 0/21 [00:00<?, ?it/s]\u001b[A\n",
            "  5%|▍         | 1/21 [00:09<03:02,  9.10s/it]\u001b[A\n",
            " 10%|▉         | 2/21 [00:17<02:45,  8.69s/it]\u001b[A\n",
            " 14%|█▍        | 3/21 [00:26<02:39,  8.88s/it]\u001b[A\n",
            " 19%|█▉        | 4/21 [00:35<02:32,  8.95s/it]\u001b[A\n",
            " 24%|██▍       | 5/21 [00:45<02:25,  9.10s/it]\u001b[A\n",
            " 29%|██▊       | 6/21 [00:54<02:16,  9.10s/it]\u001b[A\n",
            " 33%|███▎      | 7/21 [01:03<02:07,  9.12s/it]\u001b[A\n",
            " 38%|███▊      | 8/21 [01:12<01:57,  9.01s/it]\u001b[A\n",
            " 43%|████▎     | 9/21 [01:20<01:44,  8.74s/it]\u001b[A\n",
            " 48%|████▊     | 10/21 [01:30<01:39,  9.07s/it]\u001b[A\n",
            " 52%|█████▏    | 11/21 [01:38<01:29,  8.91s/it]\u001b[A\n",
            " 57%|█████▋    | 12/21 [01:48<01:22,  9.20s/it]\u001b[A\n",
            " 62%|██████▏   | 13/21 [01:57<01:13,  9.13s/it]\u001b[A\n",
            " 67%|██████▋   | 14/21 [02:07<01:05,  9.32s/it]\u001b[A\n",
            " 71%|███████▏  | 15/21 [02:16<00:56,  9.33s/it]\u001b[A\n",
            " 76%|███████▌  | 16/21 [02:24<00:45,  9.02s/it]\u001b[A\n",
            " 81%|████████  | 17/21 [02:34<00:36,  9.13s/it]\u001b[A\n",
            " 86%|████████▌ | 18/21 [02:44<00:28,  9.39s/it]\u001b[A\n",
            " 90%|█████████ | 19/21 [02:53<00:18,  9.24s/it]\u001b[A\n",
            " 95%|█████████▌| 20/21 [03:01<00:08,  8.99s/it]\u001b[A\n",
            "100%|██████████| 21/21 [03:11<00:00,  9.11s/it]\n",
            " 60%|██████    | 3/5 [09:33<06:22, 191.02s/it]\n",
            "  0%|          | 0/21 [00:00<?, ?it/s]\u001b[A\n",
            "  5%|▍         | 1/21 [00:08<02:47,  8.37s/it]\u001b[A\n",
            " 10%|▉         | 2/21 [00:17<02:51,  9.01s/it]\u001b[A\n",
            " 14%|█▍        | 3/21 [00:26<02:42,  9.04s/it]\u001b[A\n",
            " 19%|█▉        | 4/21 [00:36<02:38,  9.34s/it]\u001b[A\n",
            " 24%|██▍       | 5/21 [00:46<02:30,  9.41s/it]\u001b[A\n",
            " 29%|██▊       | 6/21 [00:55<02:18,  9.22s/it]\u001b[A\n",
            " 33%|███▎      | 7/21 [01:04<02:08,  9.17s/it]\u001b[A\n",
            " 38%|███▊      | 8/21 [01:12<01:57,  9.06s/it]\u001b[A\n",
            " 43%|████▎     | 9/21 [01:22<01:48,  9.05s/it]\u001b[A\n",
            " 48%|████▊     | 10/21 [01:30<01:38,  8.95s/it]\u001b[A\n",
            " 52%|█████▏    | 11/21 [01:39<01:29,  8.91s/it]\u001b[A\n",
            " 57%|█████▋    | 12/21 [01:48<01:20,  9.00s/it]\u001b[A\n",
            " 62%|██████▏   | 13/21 [01:56<01:09,  8.71s/it]\u001b[A\n",
            " 67%|██████▋   | 14/21 [02:06<01:02,  8.88s/it]\u001b[A\n",
            " 71%|███████▏  | 15/21 [02:16<00:56,  9.34s/it]\u001b[A\n",
            " 76%|███████▌  | 16/21 [02:25<00:46,  9.22s/it]\u001b[A\n",
            " 81%|████████  | 17/21 [02:34<00:37,  9.25s/it]\u001b[A\n",
            " 86%|████████▌ | 18/21 [02:44<00:27,  9.26s/it]\u001b[A\n",
            " 90%|█████████ | 19/21 [02:53<00:18,  9.28s/it]\u001b[A\n",
            " 95%|█████████▌| 20/21 [03:02<00:09,  9.13s/it]\u001b[A\n",
            "100%|██████████| 21/21 [03:10<00:00,  9.09s/it]\n",
            " 80%|████████  | 4/5 [12:44<03:10, 190.93s/it]\n",
            "  0%|          | 0/21 [00:00<?, ?it/s]\u001b[A\n",
            "  5%|▍         | 1/21 [00:08<02:46,  8.35s/it]\u001b[A\n",
            " 10%|▉         | 2/21 [00:17<02:45,  8.72s/it]\u001b[A\n",
            " 14%|█▍        | 3/21 [00:27<02:46,  9.24s/it]\u001b[A\n",
            " 19%|█▉        | 4/21 [00:35<02:33,  9.04s/it]\u001b[A\n",
            " 24%|██▍       | 5/21 [00:46<02:31,  9.45s/it]\u001b[A\n",
            " 29%|██▊       | 6/21 [00:55<02:19,  9.27s/it]\u001b[A\n",
            " 33%|███▎      | 7/21 [01:04<02:10,  9.31s/it]\u001b[A\n",
            " 38%|███▊      | 8/21 [01:13<02:01,  9.35s/it]\u001b[A\n",
            " 43%|████▎     | 9/21 [01:22<01:49,  9.14s/it]\u001b[A\n",
            " 48%|████▊     | 10/21 [01:31<01:39,  9.03s/it]\u001b[A\n",
            " 52%|█████▏    | 11/21 [01:40<01:31,  9.14s/it]\u001b[A\n",
            " 57%|█████▋    | 12/21 [01:48<01:19,  8.81s/it]\u001b[A\n",
            " 62%|██████▏   | 13/21 [01:57<01:09,  8.73s/it]\u001b[A\n",
            " 67%|██████▋   | 14/21 [02:05<00:59,  8.45s/it]\u001b[A\n",
            " 71%|███████▏  | 15/21 [02:13<00:51,  8.58s/it]\u001b[A\n",
            " 76%|███████▌  | 16/21 [02:24<00:45,  9.14s/it]\u001b[A\n",
            " 81%|████████  | 17/21 [02:34<00:38,  9.53s/it]\u001b[A\n",
            " 86%|████████▌ | 18/21 [02:43<00:27,  9.14s/it]\u001b[A\n",
            " 90%|█████████ | 19/21 [02:51<00:18,  9.06s/it]\u001b[A\n",
            " 95%|█████████▌| 20/21 [03:00<00:08,  8.83s/it]\u001b[A\n",
            "100%|██████████| 21/21 [03:09<00:00,  9.01s/it]\n",
            "100%|██████████| 5/5 [15:53<00:00, 190.74s/it]\n"
          ]
        },
        {
          "output_type": "stream",
          "name": "stdout",
          "text": [
            "OUTSIDE LOOP AUC of Best\n",
            "Complex name 3TDU AUCROC 0.7944444444444445 AUCPR 0.43245559038662496\n",
            "Equivalent epochs in one iteration of data loader 1.8484848484848484\n",
            "test complex  1BKD\n"
          ]
        },
        {
          "output_type": "stream",
          "name": "stderr",
          "text": [
            "  0%|          | 0/5 [00:00<?, ?it/s]\n",
            "  0%|          | 0/21 [00:00<?, ?it/s]\u001b[A\n",
            "  5%|▍         | 1/21 [00:09<03:17,  9.88s/it]\u001b[A"
          ]
        },
        {
          "output_type": "stream",
          "name": "stdout",
          "text": [
            "LOADED BEST AUCROC 0.8833333333333334 AUCPR 0.12222222222222222\n",
            "AUCROC 0.8833333333333334 AUCPR 0.12222222222222222 best aucroc 0.8833333333333334\n"
          ]
        },
        {
          "output_type": "stream",
          "name": "stderr",
          "text": [
            "\n",
            " 10%|▉         | 2/21 [00:18<02:52,  9.09s/it]\u001b[A\n",
            " 14%|█▍        | 3/21 [00:27<02:42,  9.03s/it]\u001b[A"
          ]
        },
        {
          "output_type": "stream",
          "name": "stdout",
          "text": [
            "LOADED BEST AUCROC 0.8888888888888888 AUCPR 0.15555555555555556\n",
            "AUCROC 0.8888888888888888 AUCPR 0.15555555555555556 best aucroc 0.8888888888888888\n"
          ]
        },
        {
          "output_type": "stream",
          "name": "stderr",
          "text": [
            "\n",
            " 19%|█▉        | 4/21 [00:35<02:28,  8.72s/it]\u001b[A"
          ]
        },
        {
          "output_type": "stream",
          "name": "stdout",
          "text": [
            "LOADED BEST AUCROC 0.9055555555555557 AUCPR 0.16666666666666669\n",
            "AUCROC 0.9055555555555557 AUCPR 0.16666666666666669 best aucroc 0.9055555555555557\n"
          ]
        },
        {
          "output_type": "stream",
          "name": "stderr",
          "text": [
            "\n",
            " 24%|██▍       | 5/21 [00:43<02:15,  8.46s/it]\u001b[A\n",
            " 29%|██▊       | 6/21 [00:52<02:08,  8.59s/it]\u001b[A"
          ]
        },
        {
          "output_type": "stream",
          "name": "stdout",
          "text": [
            "LOADED BEST AUCROC 0.9111111111111112 AUCPR 0.19166666666666665\n",
            "AUCROC 0.9111111111111112 AUCPR 0.19166666666666665 best aucroc 0.9111111111111112\n"
          ]
        },
        {
          "output_type": "stream",
          "name": "stderr",
          "text": [
            "\n",
            " 33%|███▎      | 7/21 [01:00<01:57,  8.42s/it]\u001b[A\n",
            " 38%|███▊      | 8/21 [01:09<01:51,  8.58s/it]\u001b[A\n",
            " 43%|████▎     | 9/21 [01:18<01:44,  8.74s/it]\u001b[A\n",
            " 48%|████▊     | 10/21 [01:26<01:32,  8.41s/it]\u001b[A\n",
            " 52%|█████▏    | 11/21 [01:34<01:22,  8.28s/it]\u001b[A\n",
            " 57%|█████▋    | 12/21 [01:42<01:14,  8.26s/it]\u001b[A\n",
            " 62%|██████▏   | 13/21 [01:51<01:07,  8.43s/it]\u001b[A\n",
            " 67%|██████▋   | 14/21 [01:59<00:58,  8.30s/it]\u001b[A\n",
            " 71%|███████▏  | 15/21 [02:07<00:49,  8.30s/it]\u001b[A\n",
            " 76%|███████▌  | 16/21 [02:16<00:42,  8.43s/it]\u001b[A\n",
            " 81%|████████  | 17/21 [02:24<00:33,  8.30s/it]\u001b[A\n",
            " 86%|████████▌ | 18/21 [02:32<00:24,  8.27s/it]\u001b[A\n",
            " 90%|█████████ | 19/21 [02:40<00:16,  8.18s/it]\u001b[A\n",
            " 95%|█████████▌| 20/21 [02:47<00:07,  7.84s/it]\u001b[A\n",
            "100%|██████████| 21/21 [02:56<00:00,  8.39s/it]\n",
            " 20%|██        | 1/5 [02:56<11:44, 176.11s/it]\n",
            "  0%|          | 0/21 [00:00<?, ?it/s]\u001b[A\n",
            "  5%|▍         | 1/21 [00:08<02:44,  8.20s/it]\u001b[A\n",
            " 10%|▉         | 2/21 [00:17<02:43,  8.60s/it]\u001b[A\n",
            " 14%|█▍        | 3/21 [00:26<02:42,  9.01s/it]\u001b[A\n",
            " 19%|█▉        | 4/21 [00:35<02:31,  8.91s/it]\u001b[A\n",
            " 24%|██▍       | 5/21 [00:42<02:12,  8.28s/it]\u001b[A\n",
            " 29%|██▊       | 6/21 [00:51<02:06,  8.42s/it]\u001b[A\n",
            " 33%|███▎      | 7/21 [00:59<01:55,  8.28s/it]\u001b[A\n",
            " 38%|███▊      | 8/21 [01:07<01:47,  8.25s/it]\u001b[A\n",
            " 43%|████▎     | 9/21 [01:15<01:39,  8.31s/it]\u001b[A\n",
            " 48%|████▊     | 10/21 [01:24<01:32,  8.42s/it]\u001b[A\n",
            " 52%|█████▏    | 11/21 [01:33<01:25,  8.51s/it]\u001b[A\n",
            " 57%|█████▋    | 12/21 [01:41<01:15,  8.36s/it]\u001b[A\n",
            " 62%|██████▏   | 13/21 [01:49<01:06,  8.35s/it]\u001b[A\n",
            " 67%|██████▋   | 14/21 [01:57<00:58,  8.29s/it]\u001b[A\n",
            " 71%|███████▏  | 15/21 [02:07<00:52,  8.73s/it]\u001b[A\n",
            " 76%|███████▌  | 16/21 [02:16<00:43,  8.70s/it]\u001b[A\n",
            " 81%|████████  | 17/21 [02:23<00:33,  8.45s/it]\u001b[A\n",
            " 86%|████████▌ | 18/21 [02:32<00:25,  8.47s/it]\u001b[A\n",
            " 90%|█████████ | 19/21 [02:40<00:16,  8.33s/it]\u001b[A\n",
            " 95%|█████████▌| 20/21 [02:48<00:08,  8.18s/it]\u001b[A\n",
            "100%|██████████| 21/21 [02:56<00:00,  8.41s/it]\n",
            " 40%|████      | 2/5 [05:52<08:49, 176.43s/it]\n",
            "  0%|          | 0/21 [00:00<?, ?it/s]\u001b[A\n",
            "  5%|▍         | 1/21 [00:07<02:24,  7.25s/it]\u001b[A\n",
            " 10%|▉         | 2/21 [00:15<02:27,  7.75s/it]\u001b[A\n",
            " 14%|█▍        | 3/21 [00:24<02:26,  8.16s/it]\u001b[A\n",
            " 19%|█▉        | 4/21 [00:31<02:16,  8.01s/it]\u001b[A\n",
            " 24%|██▍       | 5/21 [00:39<02:05,  7.87s/it]\u001b[A\n",
            " 29%|██▊       | 6/21 [00:47<02:00,  8.06s/it]\u001b[A\n",
            " 33%|███▎      | 7/21 [00:55<01:51,  7.99s/it]\u001b[A\n",
            " 38%|███▊      | 8/21 [01:04<01:48,  8.36s/it]\u001b[A\n",
            " 43%|████▎     | 9/21 [01:12<01:37,  8.11s/it]\u001b[A\n",
            " 48%|████▊     | 10/21 [01:20<01:30,  8.19s/it]\u001b[A\n",
            " 52%|█████▏    | 11/21 [01:28<01:20,  8.08s/it]\u001b[A\n",
            " 57%|█████▋    | 12/21 [01:37<01:14,  8.25s/it]\u001b[A\n",
            " 62%|██████▏   | 13/21 [01:46<01:07,  8.41s/it]\u001b[A\n",
            " 67%|██████▋   | 14/21 [01:54<00:59,  8.47s/it]\u001b[A\n",
            " 71%|███████▏  | 15/21 [02:03<00:50,  8.49s/it]\u001b[A\n",
            " 76%|███████▌  | 16/21 [02:11<00:41,  8.35s/it]\u001b[A\n",
            " 81%|████████  | 17/21 [02:19<00:33,  8.46s/it]\u001b[A\n",
            " 86%|████████▌ | 18/21 [02:27<00:24,  8.29s/it]\u001b[A\n",
            " 90%|█████████ | 19/21 [02:36<00:16,  8.48s/it]\u001b[A\n",
            " 95%|█████████▌| 20/21 [02:45<00:08,  8.64s/it]\u001b[A\n",
            "100%|██████████| 21/21 [02:55<00:00,  8.34s/it]\n",
            " 60%|██████    | 3/5 [08:47<05:51, 175.88s/it]\n",
            "  0%|          | 0/21 [00:00<?, ?it/s]\u001b[A\n",
            "  5%|▍         | 1/21 [00:09<03:03,  9.18s/it]\u001b[A\n",
            " 10%|▉         | 2/21 [00:17<02:45,  8.69s/it]\u001b[A\n",
            " 14%|█▍        | 3/21 [00:26<02:37,  8.73s/it]\u001b[A\n",
            " 19%|█▉        | 4/21 [00:33<02:20,  8.28s/it]\u001b[A\n",
            " 24%|██▍       | 5/21 [00:41<02:10,  8.14s/it]\u001b[A\n",
            " 29%|██▊       | 6/21 [00:50<02:06,  8.45s/it]\u001b[A\n",
            " 33%|███▎      | 7/21 [00:59<02:01,  8.66s/it]\u001b[A\n",
            " 38%|███▊      | 8/21 [01:08<01:50,  8.48s/it]\u001b[A\n",
            " 43%|████▎     | 9/21 [01:16<01:42,  8.53s/it]\u001b[A\n",
            " 48%|████▊     | 10/21 [01:23<01:29,  8.10s/it]\u001b[A\n",
            " 52%|█████▏    | 11/21 [01:31<01:20,  8.05s/it]\u001b[A\n",
            " 57%|█████▋    | 12/21 [01:39<01:12,  8.05s/it]\u001b[A\n",
            " 62%|██████▏   | 13/21 [01:48<01:05,  8.16s/it]\u001b[A\n",
            " 67%|██████▋   | 14/21 [01:55<00:55,  7.90s/it]\u001b[A\n",
            " 71%|███████▏  | 15/21 [02:04<00:49,  8.19s/it]\u001b[A\n",
            " 76%|███████▌  | 16/21 [02:12<00:41,  8.24s/it]\u001b[A\n",
            " 81%|████████  | 17/21 [02:20<00:32,  8.24s/it]\u001b[A\n",
            " 86%|████████▌ | 18/21 [02:30<00:25,  8.53s/it]\u001b[A\n",
            " 90%|█████████ | 19/21 [02:39<00:17,  8.75s/it]\u001b[A\n",
            " 95%|█████████▌| 20/21 [02:47<00:08,  8.49s/it]\u001b[A\n",
            "100%|██████████| 21/21 [02:55<00:00,  8.33s/it]\n",
            " 80%|████████  | 4/5 [11:42<02:55, 175.54s/it]\n",
            "  0%|          | 0/21 [00:00<?, ?it/s]\u001b[A\n",
            "  5%|▍         | 1/21 [00:09<03:10,  9.51s/it]\u001b[A\n",
            " 10%|▉         | 2/21 [00:18<03:00,  9.50s/it]\u001b[A\n",
            " 14%|█▍        | 3/21 [00:27<02:46,  9.25s/it]\u001b[A\n",
            " 19%|█▉        | 4/21 [00:35<02:27,  8.68s/it]\u001b[A\n",
            " 24%|██▍       | 5/21 [00:43<02:16,  8.52s/it]\u001b[A\n",
            " 29%|██▊       | 6/21 [00:53<02:14,  9.00s/it]\u001b[A\n",
            " 33%|███▎      | 7/21 [01:00<01:56,  8.31s/it]\u001b[A\n",
            " 38%|███▊      | 8/21 [01:08<01:45,  8.12s/it]\u001b[A\n",
            " 43%|████▎     | 9/21 [01:17<01:39,  8.30s/it]\u001b[A\n",
            " 48%|████▊     | 10/21 [01:25<01:30,  8.18s/it]\u001b[A\n",
            " 52%|█████▏    | 11/21 [01:35<01:27,  8.78s/it]\u001b[A\n",
            " 57%|█████▋    | 12/21 [01:43<01:17,  8.60s/it]\u001b[A\n",
            " 62%|██████▏   | 13/21 [01:50<01:05,  8.25s/it]\u001b[A\n",
            " 67%|██████▋   | 14/21 [02:00<00:59,  8.55s/it]\u001b[A\n",
            " 71%|███████▏  | 15/21 [02:07<00:49,  8.30s/it]\u001b[A\n",
            " 76%|███████▌  | 16/21 [02:15<00:40,  8.11s/it]\u001b[A\n",
            " 81%|████████  | 17/21 [02:23<00:32,  8.15s/it]\u001b[A\n",
            " 86%|████████▌ | 18/21 [02:32<00:24,  8.18s/it]\u001b[A\n",
            " 90%|█████████ | 19/21 [02:40<00:16,  8.15s/it]\u001b[A\n",
            " 95%|█████████▌| 20/21 [02:49<00:08,  8.45s/it]\u001b[A\n",
            "100%|██████████| 21/21 [02:56<00:00,  8.43s/it]\n",
            "100%|██████████| 5/5 [14:39<00:00, 176.00s/it]\n"
          ]
        },
        {
          "output_type": "stream",
          "name": "stdout",
          "text": [
            "OUTSIDE LOOP AUC of Best\n",
            "Complex name 1BKD AUCROC 0.9111111111111112 AUCPR 0.19166666666666665\n",
            "Equivalent epochs in one iteration of data loader 1.8504027617951668\n",
            "test complex  1BXL\n"
          ]
        },
        {
          "output_type": "stream",
          "name": "stderr",
          "text": [
            "  0%|          | 0/5 [00:00<?, ?it/s]\n",
            "  0%|          | 0/21 [00:00<?, ?it/s]\u001b[A\n",
            "  5%|▍         | 1/21 [00:09<03:03,  9.15s/it]\u001b[A"
          ]
        },
        {
          "output_type": "stream",
          "name": "stdout",
          "text": [
            "LOADED BEST AUCROC 0.7270531400966184 AUCPR 0.31379208269329234\n",
            "AUCROC 0.7270531400966184 AUCPR 0.31379208269329234 best aucroc 0.7270531400966184\n"
          ]
        },
        {
          "output_type": "stream",
          "name": "stderr",
          "text": [
            "\n",
            " 10%|▉         | 2/21 [00:18<02:53,  9.14s/it]\u001b[A"
          ]
        },
        {
          "output_type": "stream",
          "name": "stdout",
          "text": [
            "LOADED BEST AUCROC 0.7644927536231885 AUCPR 0.2771434676199107\n",
            "AUCROC 0.7644927536231885 AUCPR 0.2771434676199107 best aucroc 0.7644927536231885\n"
          ]
        },
        {
          "output_type": "stream",
          "name": "stderr",
          "text": [
            "\n",
            " 14%|█▍        | 3/21 [00:28<02:50,  9.45s/it]\u001b[A"
          ]
        },
        {
          "output_type": "stream",
          "name": "stdout",
          "text": [
            "LOADED BEST AUCROC 0.788647342995169 AUCPR 0.29795097378217583\n",
            "AUCROC 0.788647342995169 AUCPR 0.29795097378217583 best aucroc 0.788647342995169\n"
          ]
        },
        {
          "output_type": "stream",
          "name": "stderr",
          "text": [
            "\n",
            " 19%|█▉        | 4/21 [00:37<02:42,  9.57s/it]\u001b[A"
          ]
        },
        {
          "output_type": "stream",
          "name": "stdout",
          "text": [
            "LOADED BEST AUCROC 0.8043478260869564 AUCPR 0.3296735826844186\n",
            "AUCROC 0.8043478260869564 AUCPR 0.3296735826844186 best aucroc 0.8043478260869564\n"
          ]
        },
        {
          "output_type": "stream",
          "name": "stderr",
          "text": [
            "\n",
            " 24%|██▍       | 5/21 [00:45<02:22,  8.93s/it]\u001b[A\n",
            " 29%|██▊       | 6/21 [00:54<02:15,  9.01s/it]\u001b[A\n",
            " 33%|███▎      | 7/21 [01:05<02:13,  9.52s/it]\u001b[A\n",
            " 38%|███▊      | 8/21 [01:14<02:02,  9.46s/it]\u001b[A\n",
            " 43%|████▎     | 9/21 [01:23<01:49,  9.11s/it]\u001b[A\n",
            " 48%|████▊     | 10/21 [01:31<01:39,  9.01s/it]\u001b[A\n",
            " 52%|█████▏    | 11/21 [01:40<01:30,  9.03s/it]\u001b[A\n",
            " 57%|█████▋    | 12/21 [01:49<01:18,  8.77s/it]\u001b[A\n",
            " 62%|██████▏   | 13/21 [01:57<01:10,  8.81s/it]\u001b[A\n",
            " 67%|██████▋   | 14/21 [02:07<01:02,  8.97s/it]\u001b[A\n",
            " 71%|███████▏  | 15/21 [02:18<00:57,  9.50s/it]\u001b[A\n",
            " 76%|███████▌  | 16/21 [02:26<00:45,  9.15s/it]\u001b[A\n",
            " 81%|████████  | 17/21 [02:35<00:36,  9.16s/it]\u001b[A\n",
            " 86%|████████▌ | 18/21 [02:44<00:27,  9.04s/it]\u001b[A\n",
            " 90%|█████████ | 19/21 [02:53<00:18,  9.07s/it]\u001b[A\n",
            " 95%|█████████▌| 20/21 [03:01<00:08,  8.82s/it]\u001b[A\n",
            "100%|██████████| 21/21 [03:10<00:00,  9.08s/it]\n",
            " 20%|██        | 1/5 [03:10<12:42, 190.68s/it]\n",
            "  0%|          | 0/21 [00:00<?, ?it/s]\u001b[A\n",
            "  5%|▍         | 1/21 [00:08<02:47,  8.37s/it]\u001b[A\n",
            " 10%|▉         | 2/21 [00:18<02:54,  9.17s/it]\u001b[A\n",
            " 14%|█▍        | 3/21 [00:26<02:37,  8.75s/it]\u001b[A\n",
            " 19%|█▉        | 4/21 [00:36<02:35,  9.13s/it]\u001b[A\n",
            " 24%|██▍       | 5/21 [00:45<02:26,  9.13s/it]\u001b[A\n",
            " 29%|██▊       | 6/21 [00:53<02:12,  8.82s/it]\u001b[A\n",
            " 33%|███▎      | 7/21 [01:02<02:06,  9.02s/it]\u001b[A\n",
            " 38%|███▊      | 8/21 [01:10<01:52,  8.65s/it]\u001b[A\n",
            " 43%|████▎     | 9/21 [01:20<01:47,  9.00s/it]\u001b[A\n",
            " 48%|████▊     | 10/21 [01:29<01:39,  9.06s/it]\u001b[A\n",
            " 52%|█████▏    | 11/21 [01:38<01:28,  8.85s/it]\u001b[A\n",
            " 57%|█████▋    | 12/21 [01:46<01:19,  8.81s/it]\u001b[A\n",
            " 62%|██████▏   | 13/21 [01:55<01:10,  8.80s/it]\u001b[A\n",
            " 67%|██████▋   | 14/21 [02:04<01:01,  8.78s/it]\u001b[A\n",
            " 71%|███████▏  | 15/21 [02:13<00:53,  8.86s/it]\u001b[A\n",
            " 76%|███████▌  | 16/21 [02:22<00:44,  8.83s/it]\u001b[A\n",
            " 81%|████████  | 17/21 [02:31<00:35,  8.94s/it]\u001b[A\n",
            " 86%|████████▌ | 18/21 [02:40<00:26,  8.98s/it]\u001b[A\n",
            " 90%|█████████ | 19/21 [02:49<00:17,  8.91s/it]\u001b[A\n",
            " 95%|█████████▌| 20/21 [02:57<00:08,  8.75s/it]\u001b[A\n",
            "100%|██████████| 21/21 [03:06<00:00,  8.89s/it]\n",
            " 40%|████      | 2/5 [06:17<09:24, 188.33s/it]\n",
            "  0%|          | 0/21 [00:00<?, ?it/s]\u001b[A\n",
            "  5%|▍         | 1/21 [00:09<03:05,  9.29s/it]\u001b[A\n",
            " 10%|▉         | 2/21 [00:18<02:58,  9.38s/it]\u001b[A\n",
            " 14%|█▍        | 3/21 [00:27<02:46,  9.25s/it]\u001b[A\n",
            " 19%|█▉        | 4/21 [00:36<02:35,  9.15s/it]\u001b[A\n",
            " 24%|██▍       | 5/21 [00:45<02:25,  9.08s/it]\u001b[A\n",
            " 29%|██▊       | 6/21 [00:54<02:13,  8.93s/it]\u001b[A\n",
            " 33%|███▎      | 7/21 [01:03<02:05,  8.96s/it]\u001b[A\n",
            " 38%|███▊      | 8/21 [01:12<01:56,  8.96s/it]\u001b[A\n",
            " 43%|████▎     | 9/21 [01:21<01:48,  9.03s/it]\u001b[A\n",
            " 48%|████▊     | 10/21 [01:30<01:39,  9.06s/it]\u001b[A\n",
            " 52%|█████▏    | 11/21 [01:38<01:27,  8.76s/it]\u001b[A\n",
            " 57%|█████▋    | 12/21 [01:47<01:18,  8.74s/it]\u001b[A\n",
            " 62%|██████▏   | 13/21 [01:55<01:08,  8.58s/it]\u001b[A\n",
            " 67%|██████▋   | 14/21 [02:04<01:01,  8.75s/it]\u001b[A\n",
            " 71%|███████▏  | 15/21 [02:13<00:52,  8.78s/it]\u001b[A\n",
            " 76%|███████▌  | 16/21 [02:22<00:44,  8.80s/it]\u001b[A\n",
            " 81%|████████  | 17/21 [02:31<00:34,  8.70s/it]\u001b[A\n",
            " 86%|████████▌ | 18/21 [02:40<00:26,  8.89s/it]\u001b[A\n",
            " 90%|█████████ | 19/21 [02:48<00:17,  8.75s/it]\u001b[A\n",
            " 95%|█████████▌| 20/21 [02:57<00:08,  8.66s/it]\u001b[A\n",
            "100%|██████████| 21/21 [03:06<00:00,  8.88s/it]\n",
            " 60%|██████    | 3/5 [09:23<06:14, 187.46s/it]\n",
            "  0%|          | 0/21 [00:00<?, ?it/s]\u001b[A\n",
            "  5%|▍         | 1/21 [00:09<03:09,  9.46s/it]\u001b[A\n",
            " 10%|▉         | 2/21 [00:18<02:57,  9.32s/it]\u001b[A\n",
            " 14%|█▍        | 3/21 [00:27<02:40,  8.93s/it]\u001b[A\n",
            " 19%|█▉        | 4/21 [00:36<02:32,  8.95s/it]\u001b[A\n",
            " 24%|██▍       | 5/21 [00:45<02:24,  9.03s/it]\u001b[A\n",
            " 29%|██▊       | 6/21 [00:54<02:15,  9.05s/it]\u001b[A\n",
            " 33%|███▎      | 7/21 [01:04<02:11,  9.40s/it]\u001b[A\n",
            " 38%|███▊      | 8/21 [01:13<01:59,  9.22s/it]\u001b[A\n",
            " 43%|████▎     | 9/21 [01:21<01:46,  8.85s/it]\u001b[A\n",
            " 48%|████▊     | 10/21 [01:31<01:40,  9.16s/it]\u001b[A\n",
            " 52%|█████▏    | 11/21 [01:39<01:29,  8.96s/it]\u001b[A\n",
            " 57%|█████▋    | 12/21 [01:48<01:19,  8.83s/it]\u001b[A\n",
            " 62%|██████▏   | 13/21 [01:57<01:11,  8.93s/it]\u001b[A\n",
            " 67%|██████▋   | 14/21 [02:06<01:03,  9.01s/it]\u001b[A\n",
            " 71%|███████▏  | 15/21 [02:14<00:52,  8.81s/it]\u001b[A\n",
            " 76%|███████▌  | 16/21 [02:23<00:44,  8.87s/it]\u001b[A\n",
            " 81%|████████  | 17/21 [02:32<00:34,  8.69s/it]\u001b[A\n",
            " 86%|████████▌ | 18/21 [02:40<00:25,  8.62s/it]\u001b[A\n",
            " 90%|█████████ | 19/21 [02:49<00:17,  8.62s/it]\u001b[A\n",
            " 95%|█████████▌| 20/21 [02:58<00:08,  8.76s/it]\u001b[A\n",
            "100%|██████████| 21/21 [03:06<00:00,  8.89s/it]\n",
            " 80%|████████  | 4/5 [12:30<03:07, 187.17s/it]\n",
            "  0%|          | 0/21 [00:00<?, ?it/s]\u001b[A\n",
            "  5%|▍         | 1/21 [00:08<02:41,  8.09s/it]\u001b[A\n",
            " 10%|▉         | 2/21 [00:16<02:41,  8.52s/it]\u001b[A\n",
            " 14%|█▍        | 3/21 [00:25<02:30,  8.36s/it]\u001b[A\n",
            " 19%|█▉        | 4/21 [00:34<02:32,  8.94s/it]\u001b[A\n",
            " 24%|██▍       | 5/21 [00:44<02:24,  9.02s/it]\u001b[A\n",
            " 29%|██▊       | 6/21 [00:52<02:10,  8.73s/it]\u001b[A\n",
            " 33%|███▎      | 7/21 [01:01<02:04,  8.92s/it]\u001b[A\n",
            " 38%|███▊      | 8/21 [01:11<01:58,  9.15s/it]\u001b[A\n",
            " 43%|████▎     | 9/21 [01:19<01:47,  8.92s/it]\u001b[A\n",
            " 48%|████▊     | 10/21 [01:27<01:34,  8.62s/it]\u001b[A\n",
            " 52%|█████▏    | 11/21 [01:36<01:27,  8.78s/it]\u001b[A\n",
            " 57%|█████▋    | 12/21 [01:45<01:20,  8.92s/it]\u001b[A\n",
            " 62%|██████▏   | 13/21 [01:54<01:09,  8.70s/it]\u001b[A\n",
            " 67%|██████▋   | 14/21 [02:03<01:01,  8.83s/it]\u001b[A\n",
            " 71%|███████▏  | 15/21 [02:12<00:53,  8.89s/it]\u001b[A\n",
            " 76%|███████▌  | 16/21 [02:22<00:46,  9.30s/it]\u001b[A\n",
            " 81%|████████  | 17/21 [02:30<00:35,  8.96s/it]\u001b[A\n",
            " 86%|████████▌ | 18/21 [02:40<00:27,  9.11s/it]\u001b[A\n",
            " 90%|█████████ | 19/21 [02:49<00:18,  9.16s/it]\u001b[A\n",
            " 95%|█████████▌| 20/21 [02:59<00:09,  9.32s/it]\u001b[A\n",
            "100%|██████████| 21/21 [03:07<00:00,  8.95s/it]\n",
            "100%|██████████| 5/5 [15:38<00:00, 187.69s/it]\n"
          ]
        },
        {
          "output_type": "stream",
          "name": "stdout",
          "text": [
            "OUTSIDE LOOP AUC of Best\n",
            "Complex name 1BXL AUCROC 0.8043478260869564 AUCPR 0.3296735826844186\n",
            "Equivalent epochs in one iteration of data loader 1.8500881834215168\n",
            "test complex  1Z92\n"
          ]
        },
        {
          "output_type": "stream",
          "name": "stderr",
          "text": [
            "  0%|          | 0/5 [00:00<?, ?it/s]\n",
            "  0%|          | 0/21 [00:00<?, ?it/s]\u001b[A\n",
            "  5%|▍         | 1/21 [00:09<03:08,  9.43s/it]\u001b[A"
          ]
        },
        {
          "output_type": "stream",
          "name": "stdout",
          "text": [
            "LOADED BEST AUCROC 0.7050691244239632 AUCPR 0.2827769569366208\n",
            "AUCROC 0.7050691244239632 AUCPR 0.2827769569366208 best aucroc 0.7050691244239632\n"
          ]
        },
        {
          "output_type": "stream",
          "name": "stderr",
          "text": [
            "\n",
            " 10%|▉         | 2/21 [00:18<02:50,  8.97s/it]\u001b[A\n",
            " 14%|█▍        | 3/21 [00:27<02:43,  9.07s/it]\u001b[A"
          ]
        },
        {
          "output_type": "stream",
          "name": "stdout",
          "text": [
            "LOADED BEST AUCROC 0.7142857142857143 AUCPR 0.29200398107961134\n",
            "AUCROC 0.7142857142857143 AUCPR 0.29200398107961134 best aucroc 0.7142857142857143\n"
          ]
        },
        {
          "output_type": "stream",
          "name": "stderr",
          "text": [
            "\n",
            " 19%|█▉        | 4/21 [00:37<02:38,  9.34s/it]\u001b[A"
          ]
        },
        {
          "output_type": "stream",
          "name": "stdout",
          "text": [
            "LOADED BEST AUCROC 0.7188940092165899 AUCPR 0.300592416453761\n",
            "AUCROC 0.7188940092165899 AUCPR 0.300592416453761 best aucroc 0.7188940092165899\n"
          ]
        },
        {
          "output_type": "stream",
          "name": "stderr",
          "text": [
            "\n",
            " 24%|██▍       | 5/21 [00:46<02:31,  9.49s/it]\u001b[A\n",
            " 29%|██▊       | 6/21 [00:55<02:17,  9.19s/it]\u001b[A\n",
            " 33%|███▎      | 7/21 [01:04<02:09,  9.25s/it]\u001b[A\n",
            " 38%|███▊      | 8/21 [01:14<02:02,  9.39s/it]\u001b[A\n",
            " 43%|████▎     | 9/21 [01:23<01:52,  9.41s/it]\u001b[A\n",
            " 48%|████▊     | 10/21 [01:32<01:39,  9.03s/it]\u001b[A\n",
            " 52%|█████▏    | 11/21 [01:41<01:30,  9.08s/it]\u001b[A\n",
            " 57%|█████▋    | 12/21 [01:50<01:21,  9.02s/it]\u001b[A\n",
            " 62%|██████▏   | 13/21 [01:59<01:13,  9.15s/it]\u001b[A\n",
            " 67%|██████▋   | 14/21 [02:07<01:01,  8.75s/it]\u001b[A\n",
            " 71%|███████▏  | 15/21 [02:16<00:52,  8.69s/it]\u001b[A\n",
            " 76%|███████▌  | 16/21 [02:24<00:42,  8.53s/it]\u001b[A\n",
            " 81%|████████  | 17/21 [02:32<00:34,  8.52s/it]\u001b[A\n",
            " 86%|████████▌ | 18/21 [02:42<00:26,  8.82s/it]\u001b[A\n",
            " 90%|█████████ | 19/21 [02:50<00:17,  8.59s/it]\u001b[A\n",
            " 95%|█████████▌| 20/21 [02:59<00:08,  8.74s/it]\u001b[A\n",
            "100%|██████████| 21/21 [03:08<00:00,  8.97s/it]\n",
            " 20%|██        | 1/5 [03:08<12:33, 188.30s/it]\n",
            "  0%|          | 0/21 [00:00<?, ?it/s]\u001b[A\n",
            "  5%|▍         | 1/21 [00:09<03:00,  9.03s/it]\u001b[A\n",
            " 10%|▉         | 2/21 [00:19<03:11, 10.09s/it]\u001b[A\n",
            " 14%|█▍        | 3/21 [00:29<02:59,  9.94s/it]\u001b[A\n",
            " 19%|█▉        | 4/21 [00:37<02:35,  9.16s/it]\u001b[A\n",
            " 24%|██▍       | 5/21 [00:45<02:21,  8.85s/it]\u001b[A\n",
            " 29%|██▊       | 6/21 [00:54<02:09,  8.65s/it]\u001b[A\n",
            " 33%|███▎      | 7/21 [01:03<02:04,  8.89s/it]\u001b[A\n",
            " 38%|███▊      | 8/21 [01:11<01:52,  8.64s/it]\u001b[A\n",
            " 43%|████▎     | 9/21 [01:19<01:40,  8.33s/it]\u001b[A\n",
            " 48%|████▊     | 10/21 [01:27<01:30,  8.25s/it]\u001b[A\n",
            " 52%|█████▏    | 11/21 [01:36<01:25,  8.50s/it]\u001b[A\n",
            " 57%|█████▋    | 12/21 [01:45<01:18,  8.72s/it]\u001b[A\n",
            " 62%|██████▏   | 13/21 [01:55<01:11,  8.94s/it]\u001b[A\n",
            " 67%|██████▋   | 14/21 [02:04<01:04,  9.18s/it]\u001b[A\n",
            " 71%|███████▏  | 15/21 [02:12<00:53,  8.85s/it]\u001b[A\n",
            " 76%|███████▌  | 16/21 [02:21<00:43,  8.69s/it]\u001b[A\n",
            " 81%|████████  | 17/21 [02:29<00:34,  8.64s/it]\u001b[A\n",
            " 86%|████████▌ | 18/21 [02:37<00:25,  8.45s/it]\u001b[A\n",
            " 90%|█████████ | 19/21 [02:46<00:16,  8.44s/it]\u001b[A\n",
            " 95%|█████████▌| 20/21 [02:54<00:08,  8.45s/it]\u001b[A\n",
            "100%|██████████| 21/21 [03:03<00:00,  8.74s/it]\n",
            " 40%|████      | 2/5 [06:11<09:16, 185.45s/it]\n",
            "  0%|          | 0/21 [00:00<?, ?it/s]\u001b[A\n",
            "  5%|▍         | 1/21 [00:08<02:51,  8.58s/it]\u001b[A\n",
            " 10%|▉         | 2/21 [00:17<02:46,  8.78s/it]\u001b[A\n",
            " 14%|█▍        | 3/21 [00:25<02:34,  8.59s/it]\u001b[A\n",
            " 19%|█▉        | 4/21 [00:34<02:28,  8.74s/it]\u001b[A\n",
            " 24%|██▍       | 5/21 [00:43<02:18,  8.65s/it]\u001b[A\n",
            " 29%|██▊       | 6/21 [00:52<02:11,  8.75s/it]\u001b[A\n",
            " 33%|███▎      | 7/21 [01:01<02:03,  8.84s/it]\u001b[A\n",
            " 38%|███▊      | 8/21 [01:09<01:53,  8.69s/it]\u001b[A\n",
            " 43%|████▎     | 9/21 [01:19<01:48,  9.05s/it]\u001b[A\n",
            " 48%|████▊     | 10/21 [01:27<01:37,  8.85s/it]\u001b[A\n",
            " 52%|█████▏    | 11/21 [01:36<01:27,  8.73s/it]\u001b[A\n",
            " 57%|█████▋    | 12/21 [01:44<01:17,  8.61s/it]\u001b[A\n",
            " 62%|██████▏   | 13/21 [01:53<01:10,  8.75s/it]\u001b[A\n",
            " 67%|██████▋   | 14/21 [02:02<01:00,  8.67s/it]\u001b[A\n",
            " 71%|███████▏  | 15/21 [02:11<00:52,  8.74s/it]\u001b[A\n",
            " 76%|███████▌  | 16/21 [02:20<00:44,  8.86s/it]\u001b[A\n",
            " 81%|████████  | 17/21 [02:29<00:35,  8.87s/it]\u001b[A\n",
            " 86%|████████▌ | 18/21 [02:38<00:26,  8.95s/it]\u001b[A\n",
            " 90%|█████████ | 19/21 [02:46<00:17,  8.77s/it]\u001b[A\n",
            " 95%|█████████▌| 20/21 [02:54<00:08,  8.60s/it]\u001b[A\n",
            "100%|██████████| 21/21 [03:03<00:00,  8.76s/it]\n",
            " 60%|██████    | 3/5 [09:15<06:09, 184.74s/it]\n",
            "  0%|          | 0/21 [00:00<?, ?it/s]\u001b[A\n",
            "  5%|▍         | 1/21 [00:07<02:29,  7.50s/it]\u001b[A\n",
            " 10%|▉         | 2/21 [00:16<02:44,  8.66s/it]\u001b[A\n",
            " 14%|█▍        | 3/21 [00:25<02:35,  8.62s/it]\u001b[A\n",
            " 19%|█▉        | 4/21 [00:35<02:34,  9.09s/it]\u001b[A\n",
            " 24%|██▍       | 5/21 [00:44<02:26,  9.15s/it]\u001b[A\n",
            " 29%|██▊       | 6/21 [00:53<02:17,  9.18s/it]\u001b[A\n",
            " 33%|███▎      | 7/21 [01:02<02:05,  8.99s/it]\u001b[A\n",
            " 38%|███▊      | 8/21 [01:11<01:57,  9.01s/it]\u001b[A\n",
            " 43%|████▎     | 9/21 [01:19<01:45,  8.82s/it]\u001b[A\n",
            " 48%|████▊     | 10/21 [01:28<01:36,  8.80s/it]\u001b[A\n",
            " 52%|█████▏    | 11/21 [01:37<01:28,  8.85s/it]\u001b[A\n",
            " 57%|█████▋    | 12/21 [01:45<01:18,  8.68s/it]\u001b[A\n",
            " 62%|██████▏   | 13/21 [01:54<01:08,  8.56s/it]\u001b[A\n",
            " 67%|██████▋   | 14/21 [02:02<00:59,  8.46s/it]\u001b[A\n",
            " 71%|███████▏  | 15/21 [02:11<00:51,  8.56s/it]\u001b[A\n",
            " 76%|███████▌  | 16/21 [02:20<00:44,  8.91s/it]\u001b[A\n",
            " 81%|████████  | 17/21 [02:29<00:35,  8.92s/it]\u001b[A\n",
            " 86%|████████▌ | 18/21 [02:38<00:26,  8.98s/it]\u001b[A\n",
            " 90%|█████████ | 19/21 [02:47<00:17,  8.97s/it]\u001b[A\n",
            " 95%|█████████▌| 20/21 [02:56<00:08,  8.96s/it]\u001b[A\n",
            "100%|██████████| 21/21 [03:05<00:00,  8.82s/it]\n",
            " 80%|████████  | 4/5 [12:20<03:04, 184.90s/it]\n",
            "  0%|          | 0/21 [00:00<?, ?it/s]\u001b[A\n",
            "  5%|▍         | 1/21 [00:08<02:55,  8.80s/it]\u001b[A\n",
            " 10%|▉         | 2/21 [00:17<02:44,  8.66s/it]\u001b[A\n",
            " 14%|█▍        | 3/21 [00:26<02:43,  9.06s/it]\u001b[A\n",
            " 19%|█▉        | 4/21 [00:35<02:28,  8.75s/it]\u001b[A\n",
            " 24%|██▍       | 5/21 [00:43<02:20,  8.76s/it]\u001b[A\n",
            " 29%|██▊       | 6/21 [00:52<02:12,  8.82s/it]\u001b[A\n",
            " 33%|███▎      | 7/21 [01:00<01:57,  8.42s/it]\u001b[A\n",
            " 38%|███▊      | 8/21 [01:09<01:51,  8.60s/it]\u001b[A\n",
            " 43%|████▎     | 9/21 [01:19<01:48,  9.04s/it]\u001b[A\n",
            " 48%|████▊     | 10/21 [01:28<01:38,  8.92s/it]\u001b[A\n",
            " 52%|█████▏    | 11/21 [01:36<01:26,  8.61s/it]\u001b[A\n",
            " 57%|█████▋    | 12/21 [01:45<01:19,  8.78s/it]\u001b[A\n",
            " 62%|██████▏   | 13/21 [01:54<01:11,  8.99s/it]\u001b[A\n",
            " 67%|██████▋   | 14/21 [02:02<01:00,  8.65s/it]\u001b[A\n",
            " 71%|███████▏  | 15/21 [02:11<00:53,  8.84s/it]\u001b[A\n",
            " 76%|███████▌  | 16/21 [02:19<00:42,  8.54s/it]\u001b[A\n",
            " 81%|████████  | 17/21 [02:28<00:34,  8.59s/it]\u001b[A\n",
            " 86%|████████▌ | 18/21 [02:38<00:26,  8.96s/it]\u001b[A\n",
            " 90%|█████████ | 19/21 [02:46<00:17,  8.76s/it]\u001b[A\n",
            " 95%|█████████▌| 20/21 [02:55<00:08,  8.83s/it]\u001b[A\n",
            "100%|██████████| 21/21 [03:04<00:00,  8.78s/it]\n",
            "100%|██████████| 5/5 [15:25<00:00, 185.03s/it]\n"
          ]
        },
        {
          "output_type": "stream",
          "name": "stdout",
          "text": [
            "OUTSIDE LOOP AUC of Best\n",
            "Complex name 1Z92 AUCROC 0.7188940092165899 AUCPR 0.300592416453761\n",
            "Equivalent epochs in one iteration of data loader 1.8497710461430081\n",
            "test complex  1F47\n"
          ]
        },
        {
          "output_type": "stream",
          "name": "stderr",
          "text": [
            "  0%|          | 0/5 [00:00<?, ?it/s]\n",
            "  0%|          | 0/21 [00:00<?, ?it/s]\u001b[A\n",
            "  5%|▍         | 1/21 [00:09<03:07,  9.35s/it]\u001b[A"
          ]
        },
        {
          "output_type": "stream",
          "name": "stdout",
          "text": [
            "LOADED BEST AUCROC 0.7638888888888888 AUCPR 0.40208333333333335\n",
            "AUCROC 0.7638888888888888 AUCPR 0.40208333333333335 best aucroc 0.7638888888888888\n"
          ]
        },
        {
          "output_type": "stream",
          "name": "stderr",
          "text": [
            "\n",
            " 10%|▉         | 2/21 [00:17<02:49,  8.92s/it]\u001b[A\n",
            " 14%|█▍        | 3/21 [00:26<02:37,  8.78s/it]\u001b[A"
          ]
        },
        {
          "output_type": "stream",
          "name": "stdout",
          "text": [
            "LOADED BEST AUCROC 0.763888888888889 AUCPR 0.36041666666666666\n",
            "AUCROC 0.763888888888889 AUCPR 0.36041666666666666 best aucroc 0.763888888888889\n"
          ]
        },
        {
          "output_type": "stream",
          "name": "stderr",
          "text": [
            "\n",
            " 19%|█▉        | 4/21 [00:36<02:33,  9.04s/it]\u001b[A"
          ]
        },
        {
          "output_type": "stream",
          "name": "stdout",
          "text": [
            "LOADED BEST AUCROC 0.7916666666666666 AUCPR 0.38819444444444445\n",
            "AUCROC 0.7916666666666666 AUCPR 0.38819444444444445 best aucroc 0.7916666666666666\n"
          ]
        },
        {
          "output_type": "stream",
          "name": "stderr",
          "text": [
            "\n",
            " 24%|██▍       | 5/21 [00:45<02:26,  9.14s/it]\u001b[A"
          ]
        },
        {
          "output_type": "stream",
          "name": "stdout",
          "text": [
            "LOADED BEST AUCROC 0.8055555555555556 AUCPR 0.4131944444444444\n",
            "AUCROC 0.8055555555555556 AUCPR 0.4131944444444444 best aucroc 0.8055555555555556\n"
          ]
        },
        {
          "output_type": "stream",
          "name": "stderr",
          "text": [
            "\n",
            " 29%|██▊       | 6/21 [00:54<02:17,  9.17s/it]\u001b[A"
          ]
        },
        {
          "output_type": "stream",
          "name": "stdout",
          "text": [
            "LOADED BEST AUCROC 0.8194444444444444 AUCPR 0.42658730158730157\n",
            "AUCROC 0.8194444444444444 AUCPR 0.42658730158730157 best aucroc 0.8194444444444444\n"
          ]
        },
        {
          "output_type": "stream",
          "name": "stderr",
          "text": [
            "\n",
            " 33%|███▎      | 7/21 [01:03<02:08,  9.15s/it]\u001b[A"
          ]
        },
        {
          "output_type": "stream",
          "name": "stdout",
          "text": [
            "LOADED BEST AUCROC 0.8333333333333334 AUCPR 0.4444444444444444\n",
            "AUCROC 0.8333333333333334 AUCPR 0.4444444444444444 best aucroc 0.8333333333333334\n"
          ]
        },
        {
          "output_type": "stream",
          "name": "stderr",
          "text": [
            "\n",
            " 38%|███▊      | 8/21 [01:12<01:57,  9.03s/it]\u001b[A"
          ]
        },
        {
          "output_type": "stream",
          "name": "stdout",
          "text": [
            "LOADED BEST AUCROC 0.8472222222222222 AUCPR 0.4694444444444444\n",
            "AUCROC 0.8472222222222222 AUCPR 0.4694444444444444 best aucroc 0.8472222222222222\n"
          ]
        },
        {
          "output_type": "stream",
          "name": "stderr",
          "text": [
            "\n",
            " 43%|████▎     | 9/21 [01:21<01:47,  8.96s/it]\u001b[A"
          ]
        },
        {
          "output_type": "stream",
          "name": "stdout",
          "text": [
            "LOADED BEST AUCROC 0.8611111111111112 AUCPR 0.48333333333333334\n",
            "AUCROC 0.8611111111111112 AUCPR 0.48333333333333334 best aucroc 0.8611111111111112\n"
          ]
        },
        {
          "output_type": "stream",
          "name": "stderr",
          "text": [
            "\n",
            " 48%|████▊     | 10/21 [01:29<01:35,  8.66s/it]\u001b[A\n",
            " 52%|█████▏    | 11/21 [01:38<01:27,  8.72s/it]\u001b[A\n",
            " 57%|█████▋    | 12/21 [01:46<01:17,  8.60s/it]\u001b[A\n",
            " 62%|██████▏   | 13/21 [01:54<01:06,  8.30s/it]\u001b[A\n",
            " 67%|██████▋   | 14/21 [02:03<01:00,  8.68s/it]\u001b[A\n",
            " 71%|███████▏  | 15/21 [02:12<00:52,  8.73s/it]\u001b[A\n",
            " 76%|███████▌  | 16/21 [02:22<00:45,  9.09s/it]\u001b[A\n",
            " 81%|████████  | 17/21 [02:30<00:35,  8.88s/it]\u001b[A\n",
            " 86%|████████▌ | 18/21 [02:39<00:26,  8.74s/it]\u001b[A\n",
            " 90%|█████████ | 19/21 [02:48<00:18,  9.01s/it]\u001b[A\n",
            " 95%|█████████▌| 20/21 [02:57<00:08,  8.78s/it]\u001b[A\n",
            "100%|██████████| 21/21 [03:06<00:00,  8.88s/it]\n",
            " 20%|██        | 1/5 [03:06<12:25, 186.46s/it]\n",
            "  0%|          | 0/21 [00:00<?, ?it/s]\u001b[A\n",
            "  5%|▍         | 1/21 [00:09<03:02,  9.11s/it]\u001b[A\n",
            " 10%|▉         | 2/21 [00:17<02:49,  8.91s/it]\u001b[A\n",
            " 14%|█▍        | 3/21 [00:25<02:33,  8.54s/it]\u001b[A\n",
            " 19%|█▉        | 4/21 [00:34<02:22,  8.41s/it]\u001b[A\n",
            " 24%|██▍       | 5/21 [00:42<02:15,  8.48s/it]\u001b[A\n",
            " 29%|██▊       | 6/21 [00:52<02:14,  8.95s/it]\u001b[A\n",
            " 33%|███▎      | 7/21 [01:00<02:00,  8.62s/it]\u001b[A\n",
            " 38%|███▊      | 8/21 [01:09<01:51,  8.61s/it]\u001b[A\n",
            " 43%|████▎     | 9/21 [01:17<01:42,  8.54s/it]\u001b[A\n",
            " 48%|████▊     | 10/21 [01:26<01:34,  8.55s/it]\u001b[A\n",
            " 52%|█████▏    | 11/21 [01:34<01:24,  8.49s/it]\u001b[A\n",
            " 57%|█████▋    | 12/21 [01:43<01:17,  8.60s/it]\u001b[A\n",
            " 62%|██████▏   | 13/21 [01:51<01:06,  8.37s/it]\u001b[A\n",
            " 67%|██████▋   | 14/21 [02:00<01:00,  8.61s/it]\u001b[A\n",
            " 71%|███████▏  | 15/21 [02:08<00:51,  8.51s/it]\u001b[A\n",
            " 76%|███████▌  | 16/21 [02:17<00:43,  8.68s/it]\u001b[A\n",
            " 81%|████████  | 17/21 [02:26<00:35,  8.75s/it]\u001b[A\n",
            " 86%|████████▌ | 18/21 [02:35<00:26,  8.84s/it]\u001b[A\n",
            " 90%|█████████ | 19/21 [02:44<00:17,  8.88s/it]\u001b[A\n",
            " 95%|█████████▌| 20/21 [02:53<00:08,  8.88s/it]\u001b[A\n",
            "100%|██████████| 21/21 [03:01<00:00,  8.64s/it]\n",
            " 40%|████      | 2/5 [06:07<09:10, 183.56s/it]\n",
            "  0%|          | 0/21 [00:00<?, ?it/s]\u001b[A\n",
            "  5%|▍         | 1/21 [00:08<02:41,  8.07s/it]\u001b[A\n",
            " 10%|▉         | 2/21 [00:16<02:33,  8.06s/it]\u001b[A\n",
            " 14%|█▍        | 3/21 [00:23<02:21,  7.88s/it]\u001b[A\n",
            " 19%|█▉        | 4/21 [00:32<02:19,  8.23s/it]\u001b[A\n",
            " 24%|██▍       | 5/21 [00:42<02:22,  8.92s/it]\u001b[A\n",
            " 29%|██▊       | 6/21 [00:50<02:08,  8.56s/it]\u001b[A\n",
            " 33%|███▎      | 7/21 [00:58<01:57,  8.37s/it]\u001b[A\n",
            " 38%|███▊      | 8/21 [01:08<01:54,  8.83s/it]\u001b[A\n",
            " 43%|████▎     | 9/21 [01:17<01:48,  9.01s/it]\u001b[A\n",
            " 48%|████▊     | 10/21 [01:28<01:43,  9.43s/it]\u001b[A\n",
            " 52%|█████▏    | 11/21 [01:37<01:33,  9.39s/it]\u001b[A\n",
            " 57%|█████▋    | 12/21 [01:46<01:22,  9.20s/it]\u001b[A\n",
            " 62%|██████▏   | 13/21 [01:56<01:15,  9.40s/it]\u001b[A\n",
            " 67%|██████▋   | 14/21 [02:05<01:06,  9.44s/it]\u001b[A\n",
            " 71%|███████▏  | 15/21 [02:13<00:53,  8.98s/it]\u001b[A\n",
            " 76%|███████▌  | 16/21 [02:22<00:45,  9.07s/it]\u001b[A\n",
            " 81%|████████  | 17/21 [02:30<00:34,  8.55s/it]\u001b[A\n",
            " 86%|████████▌ | 18/21 [02:38<00:25,  8.41s/it]\u001b[A\n",
            " 90%|█████████ | 19/21 [02:47<00:17,  8.58s/it]\u001b[A\n",
            " 95%|█████████▌| 20/21 [02:55<00:08,  8.60s/it]\u001b[A\n",
            "100%|██████████| 21/21 [03:03<00:00,  8.76s/it]\n",
            " 60%|██████    | 3/5 [09:11<06:07, 183.72s/it]\n",
            "  0%|          | 0/21 [00:00<?, ?it/s]\u001b[A\n",
            "  5%|▍         | 1/21 [00:08<02:57,  8.87s/it]\u001b[A\n",
            " 10%|▉         | 2/21 [00:16<02:40,  8.43s/it]\u001b[A\n",
            " 14%|█▍        | 3/21 [00:25<02:34,  8.60s/it]\u001b[A\n",
            " 19%|█▉        | 4/21 [00:34<02:25,  8.56s/it]\u001b[A\n",
            " 24%|██▍       | 5/21 [00:43<02:22,  8.90s/it]\u001b[A\n",
            " 29%|██▊       | 6/21 [00:52<02:14,  8.95s/it]\u001b[A\n",
            " 33%|███▎      | 7/21 [01:01<02:02,  8.76s/it]\u001b[A\n",
            " 38%|███▊      | 8/21 [01:10<01:55,  8.87s/it]\u001b[A\n",
            " 43%|████▎     | 9/21 [01:17<01:41,  8.50s/it]\u001b[A\n",
            " 48%|████▊     | 10/21 [01:26<01:32,  8.41s/it]\u001b[A\n",
            " 52%|█████▏    | 11/21 [01:34<01:24,  8.41s/it]\u001b[A\n",
            " 57%|█████▋    | 12/21 [01:43<01:17,  8.61s/it]\u001b[A\n",
            " 62%|██████▏   | 13/21 [01:52<01:09,  8.71s/it]\u001b[A\n",
            " 67%|██████▋   | 14/21 [02:01<01:00,  8.70s/it]\u001b[A\n",
            " 71%|███████▏  | 15/21 [02:10<00:52,  8.71s/it]\u001b[A\n",
            " 76%|███████▌  | 16/21 [02:19<00:44,  8.87s/it]\u001b[A\n",
            " 81%|████████  | 17/21 [02:27<00:35,  8.78s/it]\u001b[A\n",
            " 86%|████████▌ | 18/21 [02:36<00:25,  8.60s/it]\u001b[A\n",
            " 90%|█████████ | 19/21 [02:44<00:17,  8.67s/it]\u001b[A\n",
            " 95%|█████████▌| 20/21 [02:54<00:08,  8.92s/it]\u001b[A\n",
            "100%|██████████| 21/21 [03:03<00:00,  8.75s/it]\n",
            " 80%|████████  | 4/5 [12:15<03:03, 183.77s/it]\n",
            "  0%|          | 0/21 [00:00<?, ?it/s]\u001b[A\n",
            "  5%|▍         | 1/21 [00:09<03:03,  9.15s/it]\u001b[A\n",
            " 10%|▉         | 2/21 [00:17<02:44,  8.68s/it]\u001b[A\n",
            " 14%|█▍        | 3/21 [00:26<02:39,  8.89s/it]\u001b[A\n",
            " 19%|█▉        | 4/21 [00:34<02:25,  8.56s/it]\u001b[A\n",
            " 24%|██▍       | 5/21 [00:42<02:12,  8.28s/it]\u001b[A\n",
            " 29%|██▊       | 6/21 [00:50<02:05,  8.36s/it]\u001b[A\n",
            " 33%|███▎      | 7/21 [00:59<01:58,  8.45s/it]\u001b[A\n",
            " 38%|███▊      | 8/21 [01:08<01:51,  8.57s/it]\u001b[A\n",
            " 43%|████▎     | 9/21 [01:17<01:44,  8.72s/it]\u001b[A\n",
            " 48%|████▊     | 10/21 [01:26<01:35,  8.65s/it]\u001b[A\n",
            " 52%|█████▏    | 11/21 [01:34<01:26,  8.63s/it]\u001b[A\n",
            " 57%|█████▋    | 12/21 [01:42<01:17,  8.56s/it]\u001b[A\n",
            " 62%|██████▏   | 13/21 [01:52<01:10,  8.84s/it]\u001b[A\n",
            " 67%|██████▋   | 14/21 [02:00<00:59,  8.53s/it]\u001b[A\n",
            " 71%|███████▏  | 15/21 [02:09<00:52,  8.80s/it]\u001b[A\n",
            " 76%|███████▌  | 16/21 [02:17<00:43,  8.63s/it]\u001b[A\n",
            " 81%|████████  | 17/21 [02:25<00:33,  8.27s/it]\u001b[A\n",
            " 86%|████████▌ | 18/21 [02:33<00:24,  8.33s/it]\u001b[A\n",
            " 90%|█████████ | 19/21 [02:42<00:17,  8.55s/it]\u001b[A\n",
            " 95%|█████████▌| 20/21 [02:52<00:08,  8.77s/it]\u001b[A\n",
            "100%|██████████| 21/21 [03:01<00:00,  8.64s/it]\n",
            "100%|██████████| 5/5 [15:17<00:00, 183.44s/it]\n"
          ]
        },
        {
          "output_type": "stream",
          "name": "stdout",
          "text": [
            "OUTSIDE LOOP AUC of Best\n",
            "Complex name 1F47 AUCROC 0.8611111111111112 AUCPR 0.48333333333333334\n"
          ]
        },
        {
          "output_type": "display_data",
          "data": {
            "text/plain": [
              "<Figure size 640x480 with 1 Axes>"
            ],
            "image/png": "[encoded data removed]"
          },
          "metadata": {}
        },
        {
          "output_type": "stream",
          "name": "stderr",
          "text": [
            "/tmp/ipython-input-1663762327.py:599: MatplotlibDeprecationWarning: The LOAD_NO_HINTING attribute was deprecated in Matplotlib 3.10 and will be removed in 3.12. Use LoadFlags.NO_HINTING instead.\n",
            "  fig .savefig(path+\"GNN-pipeline AUC-PR for PPI Inhibitors.pdf\", bbox_inches='tight')\n",
            "/tmp/ipython-input-1663762327.py:599: MatplotlibDeprecationWarning: The mode parameter as int was deprecated in Matplotlib 3.10 and will be removed in 3.12. Use Kerning enum values instead.\n",
            "  fig .savefig(path+\"GNN-pipeline AUC-PR for PPI Inhibitors.pdf\", bbox_inches='tight')\n"
          ]
        },
        {
          "output_type": "stream",
          "name": "stdout",
          "text": [
            "AucROC and aucpr Over all complexes \n",
            " 0.86 \n",
            " 0.48 \n",
            "total P:N ration 1: 0\n"
          ]
        },
        {
          "output_type": "display_data",
          "data": {
            "text/plain": [
              "<Figure size 640x480 with 1 Axes>"
            ],
            "image/png": "[encoded data removed]"
          },
          "metadata": {}
        },
        {
          "output_type": "stream",
          "name": "stderr",
          "text": [
            "/tmp/ipython-input-1663762327.py:607: MatplotlibDeprecationWarning: The LOAD_NO_HINTING attribute was deprecated in Matplotlib 3.10 and will be removed in 3.12. Use LoadFlags.NO_HINTING instead.\n",
            "  fig .savefig(path+\"GNN-pipeline AUCROC for vPPI Inhibitors.pdf\", bbox_inches='tight')\n",
            "/tmp/ipython-input-1663762327.py:607: MatplotlibDeprecationWarning: The mode parameter as int was deprecated in Matplotlib 3.10 and will be removed in 3.12. Use Kerning enum values instead.\n",
            "  fig .savefig(path+\"GNN-pipeline AUCROC for vPPI Inhibitors.pdf\", bbox_inches='tight')\n"
          ]
        },
        {
          "output_type": "error",
          "ename": "NameError",
          "evalue": "name 'p' is not defined",
          "traceback": [
            "\u001b[0;31m---------------------------------------------------------------------------\u001b[0m",
            "\u001b[0;31mNameError\u001b[0m                                 Traceback (most recent call last)",
            "\u001b[0;32m/tmp/ipython-input-1663762327.py\u001b[0m in \u001b[0;36m<cell line: 0>\u001b[0;34m()\u001b[0m\n\u001b[1;32m    607\u001b[0m \u001b[0mfig\u001b[0m \u001b[0;34m.\u001b[0m\u001b[0msavefig\u001b[0m\u001b[0;34m(\u001b[0m\u001b[0mpath\u001b[0m\u001b[0;34m+\u001b[0m\u001b[0;34m\"GNN-pipeline AUCROC for vPPI Inhibitors.pdf\"\u001b[0m\u001b[0;34m,\u001b[0m \u001b[0mbbox_inches\u001b[0m\u001b[0;34m=\u001b[0m\u001b[0;34m'tight'\u001b[0m\u001b[0;34m)\u001b[0m\u001b[0;34m\u001b[0m\u001b[0;34m\u001b[0m\u001b[0m\n\u001b[1;32m    608\u001b[0m \u001b[0;31m###\u001b[0m\u001b[0;34m\u001b[0m\u001b[0;34m\u001b[0m\u001b[0m\n\u001b[0;32m--> 609\u001b[0;31m \u001b[0mprint\u001b[0m\u001b[0;34m(\u001b[0m\u001b[0;34m\"Final average over all folds,Leave one complex out\"\u001b[0m\u001b[0;34m,\u001b[0m\u001b[0mp\u001b[0m\u001b[0;34m.\u001b[0m\u001b[0maverage\u001b[0m\u001b[0;34m(\u001b[0m\u001b[0mAUC_ROC_final\u001b[0m\u001b[0;34m)\u001b[0m\u001b[0;34m.\u001b[0m\u001b[0mround\u001b[0m\u001b[0;34m(\u001b[0m\u001b[0;36m4\u001b[0m\u001b[0;34m)\u001b[0m\u001b[0;34m,\u001b[0m\u001b[0;34m'±'\u001b[0m\u001b[0;34m,\u001b[0m\u001b[0mnp\u001b[0m\u001b[0;34m.\u001b[0m\u001b[0mstd\u001b[0m\u001b[0;34m(\u001b[0m \u001b[0mAUC_ROC_final\u001b[0m\u001b[0;34m)\u001b[0m\u001b[0;34m.\u001b[0m\u001b[0mround\u001b[0m\u001b[0;34m(\u001b[0m\u001b[0;36m4\u001b[0m\u001b[0;34m)\u001b[0m\u001b[0;34m,\u001b[0m\u001b[0mnp\u001b[0m\u001b[0;34m.\u001b[0m\u001b[0maverage\u001b[0m\u001b[0;34m(\u001b[0m\u001b[0mAvg_P_final\u001b[0m\u001b[0;34m)\u001b[0m\u001b[0;34m.\u001b[0m\u001b[0mround\u001b[0m\u001b[0;34m(\u001b[0m\u001b[0;36m4\u001b[0m\u001b[0;34m)\u001b[0m\u001b[0;34m,\u001b[0m\u001b[0;34m'±'\u001b[0m\u001b[0;34m,\u001b[0m\u001b[0mnp\u001b[0m\u001b[0;34m.\u001b[0m\u001b[0mstd\u001b[0m\u001b[0;34m(\u001b[0m \u001b[0mAvg_P_final\u001b[0m\u001b[0;34m)\u001b[0m\u001b[0;34m.\u001b[0m\u001b[0mround\u001b[0m\u001b[0;34m(\u001b[0m\u001b[0;36m4\u001b[0m\u001b[0;34m)\u001b[0m\u001b[0;34m)\u001b[0m\u001b[0;34m\u001b[0m\u001b[0;34m\u001b[0m\u001b[0m\n\u001b[0m",
            "\u001b[0;31mNameError\u001b[0m: name 'p' is not defined"
          ]
        }
      ],
      "source": [
        "#!/usr/bin/env python3\n",
        "# -*- coding: utf-8 -*-\n",
        "\"\"\"\n",
        "Created on Tue Jan  9 13:06:21 2024\n",
        "\n",
        "@author: u1876024\n",
        "\"\"\"\n",
        "\n",
        "import warnings\n",
        "from Bio.PDB import *\n",
        "import numpy as np\n",
        "from sklearn.preprocessing import OneHotEncoder\n",
        "import glob\n",
        "import torch.optim as optim\n",
        "import torch.nn as nn\n",
        "import torch\n",
        "import matplotlib.pyplot as plt\n",
        "import torch.nn.functional as F\n",
        "import pdb\n",
        "import warnings\n",
        "import numpy as np\n",
        "from sklearn.preprocessing import OneHotEncoder\n",
        "import glob\n",
        "from Bio.PDB import *\n",
        "import warnings\n",
        "from Bio.PDB import *\n",
        "import numpy as np\n",
        "from Bio.PDB.NeighborSearch import NeighborSearch\n",
        "from tqdm import tqdm as tqdm\n",
        "import pickle\n",
        "from sklearn.model_selection import GroupKFold\n",
        "from sklearn.preprocessing import StandardScaler\n",
        "from sklearn.preprocessing import normalize\n",
        "import pandas as pd\n",
        "import random\n",
        "from sklearn.metrics import auc,precision_recall_curve\n",
        "from torch.utils.data import Dataset\n",
        "from sklearn.metrics import roc_auc_score,roc_curve,precision_score,recall_score,average_precision_score\n",
        "import pickle\n",
        "from rdkit import Chem\n",
        "import numpy as np\n",
        "import torch\n",
        "import torch.optim as optim\n",
        "import torch.nn as nn\n",
        "USE_CUDA = torch.cuda.is_available()\n",
        "from torch.autograd import Variable\n",
        "def cuda(v):\n",
        "    if USE_CUDA:\n",
        "        return v.cuda()\n",
        "    return v\n",
        "def toTensor(v,dtype = torch.float,requires_grad = False):\n",
        "    return cuda(Variable(torch.tensor(v)).type(dtype).requires_grad_(requires_grad))\n",
        "def toNumpy(v):\n",
        "    if USE_CUDA:\n",
        "        return v.detach().cpu().numpy()\n",
        "    return v.detach().numpy()\n",
        "\n",
        "'''\n",
        "Using Sklearn One hot encoder to encode the atoms\n",
        "Output is of size N*M where N is the total number of atoms and M is the total number of encoded features\n",
        "'''\n",
        "def atom1(structure):\n",
        "    atomslist=np.array(sorted(np.array(['C', 'CA', 'CB', 'CG', 'CH2', 'N','NH2',  'OG','OH', 'O1', 'O2', 'SE','1']))).reshape(-1,1)\n",
        "    enc = OneHotEncoder(handle_unknown='ignore')\n",
        "    enc.fit(atomslist)\n",
        "    atom_list=[]\n",
        "    for atom in structure.get_atoms():\n",
        "        if atom.get_name() in atomslist:\n",
        "            atom_list.append(atom.get_name())\n",
        "        else:\n",
        "            atom_list.append(\"1\")\n",
        "    atoms_onehot=enc.transform(np.array(atom_list).reshape(-1,1)).toarray()\n",
        "    return atoms_onehot\n",
        "##############\n",
        "'''\n",
        "One hot encoded residue infomration using SKlearn Library\n",
        "\n",
        "Output is N*M where N is the total number of atoms and M is the encoded features of the residues.\n",
        "Any unknown  residue is mapped to 1\n",
        "'''\n",
        "\n",
        "\n",
        "def res1(structure):\n",
        "    residuelist=np.array(sorted(np.array(['ALA', 'ARG', 'ASN', 'ASP', 'GLN', 'GLU', 'GLY', 'ILE', 'LEU', 'LYS', 'MET', 'PHE', 'PRO', 'SER', 'THR', 'TRP', 'TYR', 'VAL', 'CYS', 'HIS','1']))).reshape(-1,1)\n",
        "    encr = OneHotEncoder(handle_unknown='ignore')\n",
        "    encr.fit(residuelist)\n",
        "    residue_list=[]\n",
        "    for atom in structure.get_atoms():\n",
        "        if atom.get_parent().get_resname() in residuelist:\n",
        "            residue_list.append((atom.get_parent()).get_resname())\n",
        "        else:\n",
        "            residue_list.append(\"1\")\n",
        "\n",
        "    res_onehot=encr.transform(np.array(residue_list).reshape(-1,1)).toarray()\n",
        "\n",
        "    return res_onehot\n",
        "###########\n",
        "\n",
        "'''\n",
        "It calculates the neighbours of each atom i.e. 10 distinct neighbours\n",
        "Output is  in the form of a ditionary representing an  adjacency list where each source atom and neighbouring atom is represented bby its sequence index .\n",
        "'''\n",
        "\n",
        "\n",
        "def neigh1(structure):\n",
        "    #atom_list is a numpy array  that   contains all the atoms of the pdb file in atom object\n",
        "    atom_list=np.array([atom for atom in structure.get_atoms()])\n",
        "\n",
        "    #for atom in structure.get_atoms():\n",
        "    #    atom_list.append(atom)\n",
        "    #neighbour_list contains all the  neighbour atomic pairs  i.e. like if N has neighbours O and C then it is stored as [[N,C],[N,O]] i.e. has dimension N*2 where N is the total number of possible neighbours all the atoms have in an unsorted manner and it stores in the form of  atom object\n",
        "\n",
        "\n",
        "    p4=NeighborSearch(atom_list)\n",
        "    neighbour_list=p4.search_all(6,level=\"A\")\n",
        "    neighbour_list=np.array(neighbour_list)\n",
        "\n",
        "    #dist is the distance between the neighbour and the source atom  i.e. dimension is N*1\n",
        "    dist=np.array(neighbour_list[:,0]-neighbour_list[:,1])\n",
        "    #sorting in ascending order\n",
        "    place=np.argsort(dist)\n",
        "    sorted_neighbour_list=neighbour_list[place]\n",
        "\n",
        "    #old_atom_number is used for  storing atom id of the original protein before sorting\n",
        "    #old_residue_number is used for storing residue number of the original protein before sorting\n",
        "    source_vertex_list_atom_object=np.array(sorted_neighbour_list[:,0])\n",
        "    len_source_vertex=len(source_vertex_list_atom_object)\n",
        "    neighbour_vertex_with_respect_each_source_atom_object=np.array(sorted_neighbour_list[:,1])\n",
        "    old_atom_number=[]\n",
        "    old_residue_number=[]\n",
        "    for i in atom_list:\n",
        "        old_atom_number.append(i.get_serial_number())\n",
        "        old_residue_number.append(i.get_parent().get_id()[1])\n",
        "    old_atom_number=np.array(old_atom_number)\n",
        "    old_residue_number=np.array(old_residue_number)\n",
        "    req_no=len(neighbour_list)\n",
        "    total_atoms=len(atom_list)\n",
        "    #neigh_same_res is the 2D numpy array to store the indices of the  neighbours of  same residue and is of the shape N*10 where N is the total number of atoms\n",
        "    #neigh_diff_res is 2D numpy array to store  the indices of the  neighbours of different residue\n",
        "    #same_flag is used to restrict the neighbours belonging to same residue  to 10\n",
        "    #diff_flag is used to restrict the neighbours belonging to different residue to 10\n",
        "    neigh_same_res=np.array([[-1]*10 for i in range(total_atoms)])\n",
        "    neigh_diff_res=np.array([[-1]*10 for i in range(total_atoms)])\n",
        "    same_flag=[0]*total_atoms\n",
        "    diff_flag=[0]*total_atoms\n",
        "    for i in range(len_source_vertex):\n",
        "        source_atom_id=source_vertex_list_atom_object[i].get_serial_number()\n",
        "        neigh_atom_id=neighbour_vertex_with_respect_each_source_atom_object[i].get_serial_number()\n",
        "        source_atom_res=source_vertex_list_atom_object[i].get_parent().get_id()[1]\n",
        "        neigh_atom_res=neighbour_vertex_with_respect_each_source_atom_object[i].get_parent().get_id()[1]\n",
        "        #finding out index of the source and neighbouring atoms from the original atom array with respect to their residue id and atom id\n",
        "        temp_index1=np.where(source_atom_id==old_atom_number)[0]\n",
        "\n",
        "        temp_index2=np.where(neigh_atom_id==old_atom_number)[0]\n",
        "        for i1 in temp_index1:\n",
        "            if old_residue_number[i1]==source_atom_res:\n",
        "                source_index=i1\n",
        "                break\n",
        "        for i1 in temp_index2:\n",
        "            if old_residue_number[i1]==neigh_atom_res:\n",
        "                neigh_index=i1\n",
        "                break\n",
        "        #if both the residues are same\n",
        "\n",
        "        if source_atom_res==neigh_atom_res :\n",
        "\n",
        "            #limiting the number of neighbours of same residue to 10\n",
        "\n",
        "            if int(same_flag[source_index])< 10:\n",
        "                neigh_same_res[source_index][same_flag[source_index]]=neigh_index\n",
        "                same_flag[source_index]+=1\n",
        "\n",
        "            if int(same_flag[neigh_index])< 10:\n",
        "                neigh_same_res[neigh_index][same_flag[neigh_index]]=source_index\n",
        "                same_flag[neigh_index]+=1\n",
        "\n",
        "        # if both the residues are different\n",
        "        elif source_atom_res!=neigh_atom_res :\n",
        "\n",
        "            #limiting the number of neighbours of different residues to 10\n",
        "\n",
        "            if int(diff_flag[source_index])< 10:\n",
        "                neigh_diff_res[source_index][diff_flag[source_index]]=neigh_index\n",
        "                diff_flag[source_index]+=1\n",
        "\n",
        "\n",
        "            if int(diff_flag[neigh_index])< 10:\n",
        "\n",
        "                neigh_diff_res[neigh_index][diff_flag[neigh_index]]=source_index\n",
        "                diff_flag[neigh_index]+=1\n",
        "\n",
        "\n",
        "\n",
        "\n",
        "    return neigh_same_res,neigh_diff_res\n",
        "\n",
        "\n",
        "if torch.cuda.is_available():\n",
        "    print(f\"CUDA is available. Number of GPUs: {torch.cuda.device_count()}\")\n",
        "    for i in range(torch.cuda.device_count()):\n",
        "        print(f\"GPU {i}: {torch.cuda.get_device_name(i)}\")\n",
        "else:\n",
        "    print(\"CUDA is not available.\")\n",
        "class GNN_Layer(nn.Module):\n",
        "\n",
        "    def __init__(self, filters, v_feats, trainable=True, **kwargs):\n",
        "        #pdb.set_trace()\n",
        "        super(GNN_Layer, self).__init__()\n",
        "        self.v_feats = v_feats\n",
        "        self.filters = filters\n",
        "\n",
        "        self.trainable = trainable\n",
        "        use_cuda = torch.cuda.is_available()\n",
        "        device = torch.device(\"cuda:0\" if use_cuda else \"cpu\")\n",
        "        self.cuda_device=device\n",
        "        self.Wsv = nn.Parameter( torch.randn(self.v_feats, self.filters, device=self.cuda_device,requires_grad=True))\n",
        "        self.Wdr = nn.Parameter( torch.randn(self.v_feats, self.filters, device=self.cuda_device,requires_grad=True))\n",
        "        self.Wsr = nn.Parameter( torch.randn(self.v_feats, self.filters, device=self.cuda_device,requires_grad=True))\n",
        "        self.neighbours=10\n",
        "        #print(\"Wsv shape\",self.Wsv.shape)\n",
        "\n",
        "    def forward(self, x):\n",
        "        #pdb.set_trace()\n",
        "        Z,same_neigh,diff_neigh = x\n",
        "        node_signals = Z@self.Wsv\n",
        "        neigh_signals_same=Z@self.Wsr\n",
        "        neigh_signals_diff=Z@self.Wdr\n",
        "        unsqueezed_same_neigh_indicator=(same_neigh>-1).unsqueeze(2)\n",
        "        unsqueezed_diff_neigh_indicator=(diff_neigh>-1).unsqueeze(2)\n",
        "        same_neigh_features=neigh_signals_same[same_neigh]*unsqueezed_same_neigh_indicator\n",
        "        diff_neigh_features=neigh_signals_diff[diff_neigh]*unsqueezed_diff_neigh_indicator\n",
        "        same_norm = torch.sum(same_neigh > -1, 1).unsqueeze(1).type(torch.float)\n",
        "        diff_norm = torch.sum(diff_neigh > -1, 1).unsqueeze(1).type(torch.float)\n",
        "\n",
        "        # To prevent divide by zero error\n",
        "        same_norm[same_norm==0]=1\n",
        "        diff_norm[diff_norm==0]=1\n",
        "        neigh_same_atoms_signal = (torch.sum(same_neigh_features, axis=1))/same_norm\n",
        "        neigh_diff_atoms_signal = (torch.sum(diff_neigh_features, axis=1))/diff_norm\n",
        "        final_res = torch.relu(node_signals +neigh_same_atoms_signal+neigh_diff_atoms_signal)\n",
        "\n",
        "        return final_res,same_neigh,diff_neigh\n",
        "\n",
        "class GNN_First_Layer(nn.Module):\n",
        "\n",
        "    def __init__(self, filters, trainable=True, **kwargs):\n",
        "\n",
        "        super(GNN_First_Layer, self).__init__()\n",
        "        self.filters = filters\n",
        "        #pdb.set_trace()\n",
        "        self.trainable = trainable\n",
        "        use_cuda = torch.cuda.is_available()\n",
        "        device = torch.device(\"cuda:0\" if use_cuda else \"cpu\")\n",
        "        self.cuda_device = device\n",
        "        self.Wv = nn.Parameter( torch.randn(13, self.filters, device=self.cuda_device,requires_grad=True))\n",
        "        self.Wr = nn.Parameter( torch.randn(21,self.filters, device=self.cuda_device,requires_grad=True))\n",
        "        self.Wsr= nn.Parameter( torch.randn(13, self.filters, device=self.cuda_device,requires_grad=True))\n",
        "        self.Wdr= nn.Parameter( torch.randn(13, self.filters, device=self.cuda_device,requires_grad=True))\n",
        "        self.neighbours=10\n",
        "\n",
        "\n",
        "    def forward(self, x):\n",
        "        atoms, residues,same_neigh,diff_neigh = x\n",
        "        node_signals = atoms@self.Wv\n",
        "        residue_signals = residues@self.Wr\n",
        "        neigh_signals_same=atoms@self.Wsr\n",
        "        neigh_signals_diff=atoms@self.Wdr\n",
        "        unsqueezed_same_neigh_indicator=(same_neigh>-1).unsqueeze(2)\n",
        "        unsqueezed_diff_neigh_indicator=(diff_neigh>-1).unsqueeze(2)\n",
        "        \"\"\"\n",
        "        unsqueezed_same_neigh_indicator=(same_neigh>-1).unsqueeze(1)\n",
        "        unsqueezed_diff_neigh_indicator=(diff_neigh>-1).unsqueeze(1)\n",
        "        \"\"\"\n",
        "        same_neigh_features=neigh_signals_same[same_neigh]*unsqueezed_same_neigh_indicator\n",
        "        diff_neigh_features=neigh_signals_diff[diff_neigh]*unsqueezed_diff_neigh_indicator\n",
        "        #print(\"same norm\",same_neigh > -1, 1)\n",
        "        same_norm = torch.sum(same_neigh > -1, 1).unsqueeze(1).type(torch.float)\n",
        "        diff_norm = torch.sum(diff_neigh > -1, 1).unsqueeze(1).type(torch.float)\n",
        "        same_norm = torch.sum(same_neigh > -1).type(torch.float)\n",
        "        diff_norm = torch.sum(diff_neigh > -1).type(torch.float)\n",
        "        # To prevent divide by zero error\n",
        "        same_norm[same_norm==0]=1\n",
        "        diff_norm[diff_norm==0]=1\n",
        "        neigh_same_atoms_signal=(torch.sum(same_neigh_features, axis=1))/same_norm\n",
        "        neigh_diff_atoms_signal=(torch.sum(diff_neigh_features, axis=1))/diff_norm\n",
        "\n",
        "        final_res = torch.relu(node_signals+residue_signals +neigh_same_atoms_signal+neigh_diff_atoms_signal)\n",
        "\n",
        "        return final_res, same_neigh,diff_neigh\n",
        "\n",
        "\n",
        "class Dense(nn.Module):\n",
        "    def __init__(self, in_dims, out_dims, trainable=True, **kwargs):\n",
        "        #pdb.set_trace()\n",
        "        super(Dense, self).__init__()\n",
        "        self.in_dims = in_dims\n",
        "        self.out_dims = out_dims\n",
        "        use_cuda = torch.cuda.is_available()\n",
        "        device = torch.device(\"cuda:0\" if use_cuda else \"cpu\")\n",
        "        self.cuda_device = device\n",
        "\n",
        "        self.W = nn.Parameter( torch.randn(self.in_dims, self.out_dims, device=self.cuda_device,requires_grad=True))\n",
        "\n",
        "    def forward(self, x):\n",
        "        #pdb.set_trace()\n",
        "        Z = torch.sigmoid(torch.matmul(x, self.W))\n",
        "\n",
        "        return Z\n",
        "\n",
        "class GNN(torch.nn.Module):\n",
        "    def __init__(self):\n",
        "        super(GNN, self).__init__()\n",
        "        self.conv1 = GNN_First_Layer(filters=512)\n",
        "        self.conv2 = GNN_Layer(v_feats=512, filters=1024)\n",
        "        self.conv3 = GNN_Layer(v_feats=1024, filters=512)\n",
        "        self.dense = Dense(in_dims=512, out_dims=1)\n",
        "    def forward(self, x):\n",
        "        x1=self.conv1(x)\n",
        "        x2=self.conv2(x1)\n",
        "        x3=self.conv3(x2)\n",
        "        x=x3[0]\n",
        "        x=torch.sum(x,axis=0).view(1,-1)\n",
        "        x = F.normalize(x)\n",
        "        return x\n",
        "\n",
        "    def processProtein(UniqueProtein, PdBloc):#, PdBloc):\n",
        "        data_list = []\n",
        "\n",
        "        use_cuda = torch.cuda.is_available()\n",
        "        device = torch.device(\"cuda:0\" if use_cuda else \"cpu\")\n",
        "        PData_dict={}\n",
        "        for i in range(len(UniqueProtein)):\n",
        "            #print('Converting PDB to Graph: {}/{}'.format(i+1, len(UniqueProtein)))\n",
        "            UniqueProtein[i]=UniqueProtein[i].split('.pdb')[0]\n",
        "            P1=PdBloc+UniqueProtein[i]+'.pdb'\n",
        "            #if P1 in UniqueProtein:\n",
        "            parser = PDBParser()\n",
        "            with warnings.catch_warnings(record=True) as w:\n",
        "              structure = parser.get_structure(\"\", P1)\n",
        "            one_hot_atom=(atom1(structure))\n",
        "\n",
        "            one_hot_res=(res1(structure))\n",
        "            neigh_same_res,neigh_diff_res=(neigh1(structure))\n",
        "            # make the graph ready for PyTorch Geometrics GCN algorithms:\n",
        "            one_hot_atom=torch.tensor(one_hot_atom,dtype=torch.float32).to(device)\n",
        "            one_hot_res=torch.tensor(one_hot_res,dtype=torch.float32).to(device)\n",
        "            neigh_same_res=torch.tensor(neigh_same_res).to(device).long()\n",
        "            neigh_diff_res=torch.tensor(neigh_diff_res).to(device).long()\n",
        "            GNNData = [one_hot_atom,one_hot_res,neigh_same_res,neigh_diff_res]\n",
        "            PData_dict[UniqueProtein[i]]= GNNData\n",
        "        return PData_dict\n",
        "def readFile(filename):\n",
        "  with open(filename) as f:\n",
        "    D = f.readlines()\n",
        "  Name=[];PdbId=[];Ligandnames=[];SMILES=[];labels=[];\n",
        "  All_data_list=[]\n",
        "  from tqdm import tqdm as tqdm\n",
        "  #2XA0_A_2_B 2O21 2XA0 43B c1ccc(cc1)CCc2nc3cc(ccc3s2)c4ccc(cc4)C(=O)NS(=O)(=O)c5ccc(c(c5)[N](=O)[O-])NCCSc6ccccc6  1\n",
        "  for d in tqdm(D):\n",
        "      #if len(d)==6:\n",
        "      name,inhibtedc,Pdbid,Ligandid,smiles,y = d.split()\n",
        "      Name.append(name);PdbId.append(Pdbid);Ligandnames.append(Ligandid);SMILES.append(smiles);labels.append(float (y));\n",
        "  return  PdbId,Ligandnames,SMILES,labels\n",
        "class IPPI_MLP_Net(nn.Module):\n",
        "    def __init__(self):\n",
        "        super(IPPI_MLP_Net, self).__init__()\n",
        "        self.fc1 = nn.Linear(2840, 1024)#4096)\n",
        "        self.fc2 = nn.Linear(1024, 512)\n",
        "        self.fc3 = nn.Linear(512, 100)\n",
        "        self.fc6 = nn.Linear(100, 1)\n",
        "    def forward(self, PFeatures,LigandFeatures,ProteinInterfaceF):\n",
        "          Cfeatures=LigandFeatures\n",
        "          P_all_Features=torch.hstack((PFeatures,ProteinInterfaceF))\n",
        "          PC_Features=torch.hstack((P_all_Features,Cfeatures))\n",
        "          x = torch.tanh(self.fc1(PC_Features))\n",
        "          x = torch.tanh(self.fc2(x))\n",
        "          x = torch.relu(self.fc3(x))\n",
        "          x = self.fc6(x)\n",
        "          return x\n",
        "\n",
        "#path,githubpath='/content/drive/MyDrive/GNN-PPI-Inhibitor/','/content/PPI-Inhibitors/'\n",
        "path,githubpath='/content/drive/MyDrive/GNN-PPI-Inhibitor/','/content/PPI-Inhibitors/'\n",
        "\"\"\"\n",
        "path = location of pkl files from these links:\n",
        "https://drive.google.com/file/d/1goeDiPZSKT1Xx3j00eNG9xlqYkLLv1gW/view\n",
        "https://drive.google.com/file/d/1GOYEKLQCoGea9QQ72kujy0rdJKbUSYAE/view\n",
        "\n",
        "githubpath =  location of the directory containing the github repo PPI-Inhibitors\n",
        "obtained using\n",
        "git clone https://github.com/adibayaseen/PPI-Inhibitors\n",
        "\"\"\"\n",
        "Ubench5InterfaceandSeq_dict=pickle.load(open(githubpath+'Features/NewUbench5InterfaceandSeq_dict.npy',\"rb\"))\n",
        "Pos_seqandInterfaceF_dict=pickle.load(open(githubpath+'Features/Pos_seqandInterfaceF_dict.npy',\"rb\"))\n",
        "Complex_AllFeatures_dict=dict( list (Pos_seqandInterfaceF_dict.items())+list (Ubench5InterfaceandSeq_dict.items()))\n",
        "##############\n",
        "ComplexInterfaceFeatures={}\n",
        "for key in Complex_AllFeatures_dict:\n",
        "  if len(key.split('_'))>1:\n",
        "    compname=key.split('_')[0]\n",
        "    ComplexInterfaceFeatures[compname]=Complex_AllFeatures_dict[key]#.cuda()\n",
        "  else:\n",
        "    ComplexInterfaceFeatures[key]=Complex_AllFeatures_dict[key]#.cuda()\n",
        "CompoundFingerprintFeaturesDict=pickle.load(open(githubpath+'Features/Compound_Fingerprint_Features_Dict.npy',\"rb\"))\n",
        "#Load Protein data for GNN\n",
        "path='/content/drive/MyDrive/GNN-PPI-Inhibitor/'\n",
        "ProteinDataGNN_dict=pickle.load(open(path+'ProteinData_dict.pickle',\"rb\"))\n",
        "DBD5_ProteinDataGNN_dict=pickle.load(open(path+'DBD5_ProteinData_dict.pickle',\"rb\"))\n",
        "All_ProteinData_dict=dict( list (ProteinDataGNN_dict.items())+list (DBD5_ProteinDataGNN_dict.items()))\n",
        "for d in All_ProteinData_dict:\n",
        "  data=All_ProteinData_dict[d]\n",
        "  All_ProteinData_dict[d]=[data[0].cuda(),data[1].cuda(),data[2].cuda(),data[3].cuda()]\n",
        "#########\n",
        "with open(githubpath+'Data/WriteAllexamplesRandomBindersIdsAll_24JAN_Binary.txt') as f:\n",
        "#with open(githubpath+'Data/WriteAllexamplesRandomBindersIdsAll_24JAN.txt') as f:\n",
        "    D = f.readlines()\n",
        "Labels=[];Ligandnames=[];Complexs=[];TestPoscomplexes=[];#SMILESlist=[];\n",
        "for d in tqdm(D):\n",
        "  if len(d.split())==4:\n",
        "      TestPoscomp,Complexname,Ligandname,label = d.split()\n",
        "  else:\n",
        "      TestPoscomp,Complexname,Ligandname,label = d.split()[0],d.split()[1],(' ').join(d.split()[2:-1]),d.split()[-1]\n",
        "  TestPoscomplexes.append(TestPoscomp),Ligandnames.append(Ligandname);Complexs.append(Complexname);Labels.append(float (label))\n",
        "#########Make dictionary, Rootcomplexname=(complexname,compoundname),label\n",
        "Allexamples=dict (zip(zip(TestPoscomplexes,zip(Complexs,Ligandnames)),Labels))\n",
        "#Group kfold\n",
        "Alldata=list (Allexamples.keys())\n",
        "KK=[k[0].split('_')[0] for k in Alldata]\n",
        "groups = pd.DataFrame(KK)\n",
        "gkf = GroupKFold(n_splits=len(set (KK)))\n",
        "###########\n",
        "AUC_ROC_final=[];Avg_P_final=[];Z=[];Yo=[];Y_t=[];Y_score=[];\n",
        "from os import listdir\n",
        "AlltestExamples=[];Externallabels=[];ExternalscoresLOCO=[];covid19_Externallabels=[];covid19_ExternalscoresLOCO=[];Y_score=[];Y_t=[];classratio_dict={};\n",
        "AUC_ROC_final=[];Avg_P_final=[];\n",
        "Complexs,Ligandnames, Labels=np.array(Complexs),np.array(Ligandnames),np.array(Labels)\n",
        "Alldata=np.array(Alldata, dtype=object)\n",
        "classratio_dict=pickle.load(open(githubpath+'Features/Classratio_GNNdict.npy','rb'))\n",
        "\n",
        "#%% Cross-validation\n",
        "Done=set(KK).difference(['3D9T','1BKD','4ESG','2FLU','1YCQ','2XA0','3TDU','3D9T','2B4J','3DAB','3UVW','2RNY','4AJY', '1F47','1YCR','4QC3','1NW9','2E3K','4YY6','4GQ6','3WN7','1BXL','1Z92'])\n",
        "for trainindex, testindex in gkf.split(KK, KK, groups=groups):\n",
        "    train,test=Alldata[trainindex],Alldata[testindex]\n",
        "\n",
        "    if test[0][0].split('_')[0] in Done:\n",
        "      continue\n",
        "\n",
        "    Ctr=[];Ptr=[];y_train=[];Ctrname=[];Ptrname=[];Xtr=[];G=[];Cttname=[];Ctt=[];y_test=[];Ptt=[];Pttname=[];\n",
        "    #Split train and test\n",
        "    for t in train:\n",
        "        Ctrname.append(t[1][1]);Ctr.append(CompoundFingerprintFeaturesDict[t[1][1]]);\n",
        "        #change this only for GNN Complex_AllFeatures_dict with All_ProteinData_dic and t\n",
        "        #####\n",
        "        GNNcomp=t[1][0].split('_')[0]#t[1][0].split('_')[0]\n",
        "        Ptrname.append(GNNcomp);Ptr.append(ComplexInterfaceFeatures[GNNcomp]);\n",
        "        y_train.append(Allexamples[t[0],t[1]])\n",
        "    #Split train and test\n",
        "    for t in test:\n",
        "        GNNcomp=t[1][0].split('_')[0]\n",
        "        Cttname.append(t[1][1]);Ctt.append(CompoundFingerprintFeaturesDict[t[1][1]]);\n",
        "        Pttname.append(GNNcomp);Ptt.append(ComplexInterfaceFeatures[GNNcomp]);\n",
        "        y_test.append(Allexamples[t[0],t[1]])\n",
        "    #standarization\n",
        "    Pscaler = StandardScaler().fit(Ptr)\n",
        "    Cscaler = StandardScaler().fit(Ctr)\n",
        "    Ctr = Cscaler.transform(Ctr)\n",
        "    Ptr=Pscaler.transform(Ptr)\n",
        "    Ptt=Pscaler.transform(Ptt)\n",
        "    Ptrdict=dict (zip(Ptrname,torch.FloatTensor(Ptr).cuda()))\n",
        "    Ctrdict=dict (zip (Ctrname,torch.FloatTensor( Ctr).cuda()))\n",
        "    Ctt = Cscaler.transform(Ctt)\n",
        "    Cttdict=dict (zip (Cttname,torch.FloatTensor( Ctt).cuda()))\n",
        "    Pttdict=dict (zip(Pttname,torch.FloatTensor(Ptt).cuda()))\n",
        "\n",
        "    y_train = np.array(y_train)\n",
        "\n",
        "    IPPI_Net = IPPI_MLP_Net().cuda()\n",
        "\n",
        "    GNN_model=GNN().cuda()\n",
        "    Mcomplexname=test[0][0].split('_')[0]\n",
        "    criterion  = nn.BCEWithLogitsLoss()\n",
        "    optimizer = optim.Adam(list (IPPI_Net.parameters()) + list( GNN_model.parameters()),lr=0.001,weight_decay=0.0)#001)#0.69 for 1mer single layer#, weight_decay=0.01, betas=(0.9, 0.999))\n",
        "\n",
        "    bsize = 1024\n",
        "\n",
        "\n",
        "\n",
        "    dataset = CustomDataset(train[:,1], y_train.astype('int'))\n",
        "    batch_sampler = BinaryBalancedSampler(y_train.astype('int'), bsize)\n",
        "    loader = DataLoader(dataset, batch_sampler=batch_sampler) # data loader that selects equal number of positive and negative examples\n",
        "\n",
        "    test_dataset = CustomDataset(test[:,1], np.array(y_test).astype('int'))\n",
        "    test_loader = DataLoader(test_dataset, batch_size=bsize, shuffle=False)\n",
        "\n",
        "\n",
        "    #y_train=torch.FloatTensor( y_train).cuda()\n",
        "    ####\n",
        "    print (\"test complex \", Mcomplexname)\n",
        "\n",
        "    Loss = [] #save loss values for plotting\n",
        "    E = [] #save examples\n",
        "    L = [] #save labels\n",
        "    terminated = False\n",
        "    best_result = 0.0\n",
        "    best_model = None\n",
        "    counter = 0\n",
        "    early_stop_count = 0\n",
        "    Zlist,Ylist=[],[]\n",
        "    for iters in tqdm(range(5)):\n",
        "        for (batch_pids,batch_cids),batch_labels in tqdm(loader):\n",
        "            GNN_model.train()\n",
        "            IPPI_Net.train()\n",
        "            E.extend(zip(batch_pids,batch_cids))\n",
        "            L.append(batch_labels)\n",
        "            pids = [p.split('_')[0] for p in batch_pids]\n",
        "            G_dict = {p:GNN_model(All_ProteinData_dict[p]) for p in set(pids)} #pass each unique complex through the GNN once\n",
        "            GNN_features = torch.vstack([G_dict[p] for p in pids]) #append to make examples\n",
        "            del G_dict #clear up memory\n",
        "            interface_features = torch.vstack([Ptrdict[p] for p in pids])\n",
        "            compound_features = torch.vstack([Ctrdict[c] for c in batch_cids])\n",
        "            #[GNN_model(All_ProteinData_dict[p]) for p in set_pids]\n",
        "            output = IPPI_Net(GNN_features,compound_features,interface_features)\n",
        "            V = np.min(list(classratio_dict.values()))\n",
        "            weights = toTensor(np.array([classratio_dict[p]/V if batch_labels[i]==1 else 1.0 for i,p in enumerate(pids)  ]))\n",
        "            criterion  = nn.BCEWithLogitsLoss(weight = None)\n",
        "            loss = criterion(output.flatten(), batch_labels.float().cuda())\n",
        "            Loss.append(loss.item())\n",
        "            #if np.median(Loss[-10:])<1e-1: terminated = True\n",
        "            optimizer.zero_grad()\n",
        "            loss.backward()\n",
        "            optimizer.step()\n",
        "            early_stop_count += 1\n",
        "            #%% Validation/Testing (saves the best model in every 10 iterations over the validation set)\n",
        "            GNN_model.eval()\n",
        "            IPPI_Net.eval()\n",
        "            Z, Y = [], []\n",
        "            with torch.no_grad():\n",
        "                for (batch_pids,batch_cids),batch_labels in test_loader:\n",
        "                    pids = [p.split('_')[0] for p in batch_pids]\n",
        "                    G_dict = {p:GNN_model(All_ProteinData_dict[p]) for p in set(pids)} #pass each unique complex through the GNN once\n",
        "                    GNN_features = torch.vstack([G_dict[p] for p in pids]) #append to make examples\n",
        "                    del G_dict #clear up memory\n",
        "                    interface_features = torch.vstack([Pttdict[p] for p in pids])\n",
        "                    compound_features = torch.vstack([Cttdict[c] for c in batch_cids])\n",
        "                    output = IPPI_Net(GNN_features,compound_features,interface_features)\n",
        "                    Z.extend(output.cpu().flatten().numpy())\n",
        "                    Y.extend(batch_labels.cpu().flatten().numpy())\n",
        "                aucroc = roc_auc_score(np.array(Y), np.array(Z))\n",
        "                aucpr = average_precision_score(Y,Z)\n",
        "                if aucroc>best_result:\n",
        "                    early_stop_count = 0\n",
        "                    best_result = aucroc\n",
        "                    best_model = (GNN_model.state_dict(),IPPI_Net.state_dict())\n",
        "                    IPPI_Net.load_state_dict(best_model[1])#path+'/newIPPI_Net_'+test[0][0].split('_')[0]+'_AUC_'+str (round (best_result,3)))#torch.load(path+'IPPI_Net_'+ Mcomplexname)[1])\n",
        "                    GNN_model.load_state_dict(best_model[0])\n",
        "                    GNN_model.eval()\n",
        "                    IPPI_Net.eval()\n",
        "                    Zb, Yb = [], []\n",
        "                    for (batch_pids,batch_cids),batch_labels in test_loader:\n",
        "                      pids = [p.split('_')[0] for p in batch_pids]\n",
        "                      G_dict = {p:GNN_model(All_ProteinData_dict[p]) for p in set(pids)} #pass each unique complex through the GNN once\n",
        "                      GNN_features = torch.vstack([G_dict[p] for p in pids]) #append to make examples\n",
        "                      del G_dict #clear up memory\n",
        "                      interface_features = torch.vstack([Pttdict[p] for p in pids])\n",
        "                      compound_features = torch.vstack([Cttdict[c] for c in batch_cids])\n",
        "                      bestmodeloutput=IPPI_Net(GNN_features,compound_features,interface_features)\n",
        "                      #torch.save(Loss, path+'/Loss_'+test[0][0].split('_')[0])\n",
        "                      Zb.extend(bestmodeloutput.cpu().flatten().numpy())\n",
        "                      Yb.extend(batch_labels.cpu().flatten().numpy())\n",
        "                    aucrocb = roc_auc_score(np.array(Yb), np.array(Zb))\n",
        "                    aucprb = average_precision_score(Yb,Zb)\n",
        "                    print('LOADED BEST AUCROC',aucrocb,'AUCPR',aucprb)#,'best aucroc')\n",
        "                    aucpr = average_precision_score(Y,Z)\n",
        "                    print('AUCROC',aucroc,'AUCPR',aucpr,'best aucroc',best_result)\n",
        "    ###Load best model\n",
        "    print (\"OUTSIDE LOOP AUC of Best\")\n",
        "    torch.save(best_model[1], path+'/GNN-based-pipeline_IPPI_Net_'+ test[0][0].split('_')[0])\n",
        "    torch.save(best_model[0], path+'/GNN-based-pipeline_GNN_model_'+ test[0][0].split('_')[0])\n",
        "    Zlist.extend(Zb);Ylist.extend(Yb)\n",
        "    np.save(path+test[0][0].split('_')[0]+'Scores',Zb)\n",
        "    np.save(path+test[0][0].split('_')[0]+'Targets',Yb)\n",
        "    aucrocb = roc_auc_score(np.array(Yb), np.array(Zb))\n",
        "    aucprb = average_precision_score(Yb,Zb)\n",
        "    print('Complex name',test[0][0].split('_')[0],'AUCROC',aucrocb,'AUCPR',aucprb)#,'best aucroc')\n",
        "fpr, tpr, thresholds = roc_curve(Ylist, Zlist)\n",
        "Auc = roc_auc_score(Ylist, Zlist)\n",
        "Auc=(Auc).round(2)\n",
        "# calculate precision-recall curve\n",
        "Zlist=np.array(Zlist);Yo=np.array(Ylist);\n",
        "#Y_t=np.array(Y_t);Y_score=np.array(Y_score)\n",
        "precision, recall, thresholds = precision_recall_curve(Ylist, Zlist)\n",
        "aucpr=average_precision_score (Ylist, Zlist)\n",
        "########\n",
        "np.save(path+'GNN-pipeline_Targets.npy',Ylist)\n",
        "np.save(path+'GNN-pipeline_Scores.npy',Zlist)\n",
        "######+\n",
        "fig = plt.figure()\n",
        "plt.plot(recall,precision,color='m',marker=',',label='AUC-PR:{: .2f}'.format(aucpr))\n",
        "plt.title('AUC-PR');plt.xlabel('recall');plt.ylabel('precision');plt.grid();plt.legend();plt.show();\n",
        "fig .savefig(path+\"GNN-pipeline AUC-PR for PPI Inhibitors.pdf\", bbox_inches='tight')\n",
        "###\n",
        "aucpr=(aucpr).round(2)\n",
        "print(\"AucROC and aucpr Over all complexes \\n\",Auc,\"\\n\",aucpr,\"\\ntotal P:N ration 1:\",int (np.sum([Yo==-1.0])/np.sum([Yo==1.0])))#,\"\\n\")\n",
        "#######\n",
        "fig = plt.figure()\n",
        "plt.plot(fpr,tpr,color='k',marker='d',label='AUC:{: .2f}'.format(Auc))\n",
        "plt.title('AUCROC');plt.xlabel('FPR');plt.ylabel('TPR');plt.grid();plt.legend();plt.show();\n",
        "fig .savefig(path+\"GNN-pipeline AUCROC for vPPI Inhibitors.pdf\", bbox_inches='tight')\n",
        "###\n",
        "print(\"Final average over all folds,Leave one complex out\",np.average(AUC_ROC_final).round(4),'±',np.std( AUC_ROC_final).round(4),np.average(Avg_P_final).round(4),'±',np.std( Avg_P_final).round(4))"
      ]
    },
    {
      "cell_type": "code",
      "source": [
        "print(\"Final average over all folds,Leave one complex out\",np.average(AUC_ROC_final).round(4),'±',np.std( AUC_ROC_final).round(4),np.average(Avg_P_final).round(4),'±',np.std( Avg_P_final).round(4))"
      ],
      "metadata": {
        "id": "VGCpIm336IUs",
        "outputId": "a15f17cb-138e-40a9-ab81-475f963d388c",
        "colab": {
          "base_uri": "https://localhost:8080/"
        }
      },
      "execution_count": 38,
      "outputs": [
        {
          "output_type": "stream",
          "name": "stdout",
          "text": [
            "Final average over all folds,Leave one complex out nan ± nan nan ± nan\n"
          ]
        },
        {
          "output_type": "stream",
          "name": "stderr",
          "text": [
            "/usr/local/lib/python3.12/dist-packages/numpy/lib/function_base.py:520: RuntimeWarning: Mean of empty slice.\n",
            "  avg = a.mean(axis, **keepdims_kw)\n",
            "/usr/local/lib/python3.12/dist-packages/numpy/core/_methods.py:129: RuntimeWarning: invalid value encountered in scalar divide\n",
            "  ret = ret.dtype.type(ret / rcount)\n",
            "/usr/local/lib/python3.12/dist-packages/numpy/core/_methods.py:206: RuntimeWarning: Degrees of freedom <= 0 for slice\n",
            "  ret = _var(a, axis=axis, dtype=dtype, out=out, ddof=ddof,\n",
            "/usr/local/lib/python3.12/dist-packages/numpy/core/_methods.py:163: RuntimeWarning: invalid value encountered in divide\n",
            "  arrmean = um.true_divide(arrmean, div, out=arrmean,\n",
            "/usr/local/lib/python3.12/dist-packages/numpy/core/_methods.py:198: RuntimeWarning: invalid value encountered in scalar divide\n",
            "  ret = ret.dtype.type(ret / rcount)\n"
          ]
        }
      ]
    },
    {
      "cell_type": "code",
      "execution_count": null,
      "metadata": {
        "id": "IlgI8EnYxPoS"
      },
      "outputs": [],
      "source": [
        "import numpy as np\n",
        "from sklearn.metrics import roc_auc_score,roc_curve,precision_score,recall_score,average_precision_score,precision_recall_curve,auc\n",
        "import matplotlib.pyplot as plt\n",
        "path,githubpath='/content/drive/MyDrive/GNN-PPI-Inhibitor/','/content/PPI-Inhibitors/'\n",
        "Z_GearNet=np.load(path+'onlyGearnet_Scores.npy')\n",
        "Yo_GearNet=np.load(path+'onlyGearnet_Targets.npy')\n",
        "####\n",
        "fpr_GearNet, tpr_GearNet, thresholds_GearNet = roc_curve(Yo_GearNet, Z_GearNet)\n",
        "Auc_GearNet = roc_auc_score(Yo_GearNet, Z_GearNet)\n",
        "Auc_GearNet=(Auc_GearNet).round(2)\n",
        "# calculate precision-recall curve\n",
        "precision_GearNet, recall_GearNet, thresholds = precision_recall_curve(Yo_GearNet, Z_GearNet)\n",
        "aucpr_GearNet=auc(recall_GearNet,precision_GearNet)\n",
        "aucpr_GearNet=(aucpr_GearNet).round(2)\n",
        "#######\n",
        "Yo_SVM=np.load(path+'All_SVM_Targets.npy')\n",
        "Z_SVM=np.load(path+'All_SVM_Scores.npy')\n",
        "####\n",
        "fpr_SVM, tpr_SVM, thresholds_SVM = roc_curve(Yo_SVM, Z_SVM)\n",
        "Auc_SVM = roc_auc_score(Yo_SVM, Z_SVM)\n",
        "Auc_SVM=(Auc_SVM).round(2)\n",
        "# calculate precision-recall curve\n",
        "precision_SVM, recall_SVM, thresholds = precision_recall_curve(Yo_SVM, Z_SVM)\n",
        "aucpr_SVM=auc(recall_SVM,precision_SVM)\n",
        "aucpr_SVM=(aucpr_SVM).round(2)\n",
        "#####Change this\n",
        "Yo_GNN=np.load(path+'GNN-pipeline_Targets.npy')\n",
        "Z_GNN=np.load(path+'GNN-pipeline_Scores.npy')\n",
        "##########\n",
        "fpr_GNN, tpr_GNN, thresholds_GNN = roc_curve(Yo_GNN, Z_GNN)\n",
        "Auc_GNN= roc_auc_score(Yo_GNN, Z_GNN)\n",
        "Auc_GNN=(Auc_GNN).round(2)\n",
        "# calculate precision-recall curve\n",
        "precision_GNN, recall_GNN, thresholds = precision_recall_curve(Yo_GNN, Z_GNN)\n",
        "aucpr_GNN=auc(recall_GNN,precision_GNN)\n",
        "aucpr_GNN=(aucpr_GNN).round(2)\n",
        "###### GNN LOCO average 0.8576 ± 0.0923 0.4366 ± 0.2003\n",
        "##### SVM LOCO average 0.7445 ± 0.1958 0.3312 ± 0.2017\n",
        "fig = plt.figure()\n",
        "Auc_GNN_std,PR_GNN_std,Auc_SVM_std,PR_SVM_std=0.0923,0.01,0.16,0.18\n",
        "Auc_GearNet_std,PR_GearNet_std=0.1,0.19\n",
        "#text=\"There is an upcoming task in %d days at %d cluster!\" %a %cluster\n",
        "plt.plot(fpr_GNN,tpr_GNN,color='m',marker=',',markersize=2,label = ('GNN AUC-ROC : $ {} ± {}$').format(round(Auc_GNN,2), round(Auc_GNN_std,2)))\n",
        "plt.plot(fpr_SVM,tpr_SVM,color='b',marker=',',markersize=2,label=('SVM AUC-ROC : $ {} ± {}$').format(round(Auc_SVM,2), round(Auc_SVM_std,2)))\n",
        "plt.plot(fpr_GearNet,tpr_GearNet,color='k',marker='.', markersize=3,label=('GearNet AUC-ROC : $ {} ± {}$').format(round(Auc_GearNet,2),round(Auc_GearNet_std,2)))\n",
        "plt.title('AUCROC');plt.xlabel('FPR');plt.ylabel('TPR');plt.grid();plt.legend();plt.show();\n",
        "fig .savefig(path+\"Comaprison of AUCROC SVM and GNN-base model PPI Inhibitors Random and Binders combine Negative.pdf\", bbox_inches='tight')\n",
        "#########\n",
        "fig = plt.figure()\n",
        "plt.plot(recall_GNN,precision_GNN,color='m',marker=',',markersize=2,label=('GNN AUC-PR : $ {} ± {}$').format(round(aucpr_GNN,2), round(PR_GNN_std,2)))\n",
        "plt.plot(recall_SVM,precision_SVM,color='b',marker=',',markersize=2,label=('SVM AUC-PR: $ {} ± {}$').format(round(aucpr_SVM,2), round(PR_SVM_std,2)))\n",
        "plt.plot(recall_GearNet,precision_GearNet,color='k',marker='.', markersize=3,label=('GearNet AUC-PR: $ {} ± {}$').format(round(aucpr_GearNet,2), round(PR_GearNet_std,2)))\n",
        "plt.title('AUC-PR');plt.xlabel('Recall');plt.ylabel('Precision');plt.grid();plt.legend();plt.show();\n",
        "fig .savefig(path+\"Comaprison of AUC-PR SVM and GNN-base model PPI Inhibitors  Random and Binders combine.pdf\", bbox_inches='tight')"
      ]
    },
    {
      "cell_type": "code",
      "source": [],
      "metadata": {
        "id": "HNk6-cjzYxrO"
      },
      "execution_count": null,
      "outputs": []
    }
  ],
  "metadata": {
    "accelerator": "GPU",
    "colab": {
      "machine_shape": "hm",
      "provenance": [],
      "include_colab_link": true
    },
    "kernelspec": {
      "display_name": "Python 3",
      "name": "python3"
    },
    "language_info": {
      "name": "python"
    }
  },
  "nbformat": 4,
  "nbformat_minor": 0
}